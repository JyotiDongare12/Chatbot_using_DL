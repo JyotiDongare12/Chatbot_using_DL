{
 "cells": [
  {
   "cell_type": "markdown",
   "metadata": {
    "id": "C6kDeyRCHPyL"
   },
   "source": [
    "# Data Pre-processing"
   ]
  },
  {
   "cell_type": "code",
   "execution_count": null,
   "metadata": {
    "colab": {
     "base_uri": "https://localhost:8080/",
     "height": 34
    },
    "executionInfo": {
     "elapsed": 24897,
     "status": "ok",
     "timestamp": 1601022351861,
     "user": {
      "displayName": "Subrata Maji",
      "photoUrl": "https://lh3.googleusercontent.com/a-/AOh14Ghxu8VIGqB6XL51-t5wM_f1R1LdmEePYHIwb9b-=s64",
      "userId": "03124174213573157612"
     },
     "user_tz": -330
    },
    "id": "0-BKQlMng6Fi",
    "outputId": "fa249ee0-2c20-4ada-80e3-9913dde611fa"
   },
   "outputs": [
    {
     "name": "stdout",
     "output_type": "stream",
     "text": [
      "Mounted at /content/drive\n"
     ]
    }
   ],
   "source": [
    "from google.colab import drive\n",
    "drive.mount('/content/drive')"
   ]
  },
  {
   "cell_type": "code",
   "execution_count": null,
   "metadata": {
    "id": "3F6BL0vne1w8"
   },
   "outputs": [],
   "source": [
    "TOSAVE = './preprocessed/'"
   ]
  },
  {
   "cell_type": "markdown",
   "metadata": {
    "id": "3pVJe5MqHVVm"
   },
   "source": [
    "## Importing Libraries"
   ]
  },
  {
   "cell_type": "code",
   "execution_count": null,
   "metadata": {
    "id": "3cVwP0hugv45"
   },
   "outputs": [],
   "source": [
    "import pandas as pd\n",
    "import numpy as np\n",
    "import random as rn\n",
    "import re\n",
    "import pickle\n",
    "import warnings\n",
    "warnings.filterwarnings(\"ignore\")\n",
    "from tqdm import tqdm\n",
    "\n",
    "import matplotlib.pyplot as plt\n",
    "%matplotlib inline\n",
    "\n",
    "import tensorflow as tf\n",
    "from tensorflow.keras.layers import Embedding, LSTM, Dense, Softmax\n",
    "from tensorflow.keras.models import Model\n",
    "from tensorflow.keras.preprocessing.text import Tokenizer\n",
    "from tensorflow.keras.preprocessing.sequence import pad_sequences\n",
    "\n",
    "# Load the TensorBoard notebook extension\n",
    "%load_ext tensorboard"
   ]
  },
  {
   "cell_type": "code",
   "execution_count": null,
   "metadata": {
    "id": "2Q8L0B3YhG2U"
   },
   "outputs": [],
   "source": [
    "# Load data from disk\n",
    "data = pickle.load(open('clean_conv.pkl', 'rb'))"
   ]
  },
  {
   "cell_type": "code",
   "execution_count": null,
   "metadata": {
    "colab": {
     "base_uri": "https://localhost:8080/",
     "height": 374
    },
    "executionInfo": {
     "elapsed": 1004,
     "status": "ok",
     "timestamp": 1600970813861,
     "user": {
      "displayName": "Subrata Maji",
      "photoUrl": "https://lh3.googleusercontent.com/a-/AOh14Ghxu8VIGqB6XL51-t5wM_f1R1LdmEePYHIwb9b-=s64",
      "userId": "03124174213573157612"
     },
     "user_tz": -330
    },
    "id": "RF4bqGZMhWdb",
    "outputId": "0caedd97-1bef-43e0-acf8-91dedfee813e"
   },
   "outputs": [
    {
     "data": {
      "text/html": [
       "<div>\n",
       "<style scoped>\n",
       "    .dataframe tbody tr th:only-of-type {\n",
       "        vertical-align: middle;\n",
       "    }\n",
       "\n",
       "    .dataframe tbody tr th {\n",
       "        vertical-align: top;\n",
       "    }\n",
       "\n",
       "    .dataframe thead th {\n",
       "        text-align: right;\n",
       "    }\n",
       "</style>\n",
       "<table border=\"1\" class=\"dataframe\">\n",
       "  <thead>\n",
       "    <tr style=\"text-align: right;\">\n",
       "      <th></th>\n",
       "      <th>author_id_x</th>\n",
       "      <th>created_at_x</th>\n",
       "      <th>question</th>\n",
       "      <th>author_id_y</th>\n",
       "      <th>created_at_y</th>\n",
       "      <th>answer</th>\n",
       "      <th>clean_question</th>\n",
       "      <th>clean_answer</th>\n",
       "    </tr>\n",
       "  </thead>\n",
       "  <tbody>\n",
       "    <tr>\n",
       "      <th>251468</th>\n",
       "      <td>340004</td>\n",
       "      <td>Sat Oct 21 13:37:43 +0000 2017</td>\n",
       "      <td>@122172 need help</td>\n",
       "      <td>ATVIAssist</td>\n",
       "      <td>Sat Oct 21 14:21:21 +0000 2017</td>\n",
       "      <td>@340004 Hi. What's your platform &amp;amp; which c...</td>\n",
       "      <td>need help</td>\n",
       "      <td>hi what is your platform which contract are yo...</td>\n",
       "    </tr>\n",
       "    <tr>\n",
       "      <th>700147</th>\n",
       "      <td>693750</td>\n",
       "      <td>Tue Nov 14 16:46:49 +0000 2017</td>\n",
       "      <td>@115911 @TMobileHelp @115725 @ATT @115911 why ...</td>\n",
       "      <td>TMobileHelp</td>\n",
       "      <td>Tue Nov 14 16:50:00 +0000 2017</td>\n",
       "      <td>@693750 Hey thanks so much for reaching out! Y...</td>\n",
       "      <td>why did you stop allowing conference calling w...</td>\n",
       "      <td>hey thanks so much for reaching out you are a ...</td>\n",
       "    </tr>\n",
       "    <tr>\n",
       "      <th>185503</th>\n",
       "      <td>284249</td>\n",
       "      <td>Thu Nov 23 13:33:12 +0000 2017</td>\n",
       "      <td>Oh course @115955 WiFi would go down on Thanks...</td>\n",
       "      <td>Ask_Spectrum</td>\n",
       "      <td>Thu Nov 23 13:48:06 +0000 2017</td>\n",
       "      <td>@284249 I'm sorry to hear about the service is...</td>\n",
       "      <td>oh course wifi would go down on thanksgiving</td>\n",
       "      <td>i am sorry to hear about the service issue i c...</td>\n",
       "    </tr>\n",
       "    <tr>\n",
       "      <th>870280</th>\n",
       "      <td>820001</td>\n",
       "      <td>Thu Nov 30 01:17:45 +0000 2017</td>\n",
       "      <td>When the vinaigrette from @ChipotleTweets is 1...</td>\n",
       "      <td>ChipotleTweets</td>\n",
       "      <td>Thu Nov 30 01:21:30 +0000 2017</td>\n",
       "      <td>@820001 Sorry to hear that. Did you let a mana...</td>\n",
       "      <td>when the vinaigrette from is saltier than it i...</td>\n",
       "      <td>sorry to hear that did you let a manager know ...</td>\n",
       "    </tr>\n",
       "    <tr>\n",
       "      <th>424733</th>\n",
       "      <td>476849</td>\n",
       "      <td>Sat Nov 04 00:12:43 +0000 2017</td>\n",
       "      <td>PISSED OFF THAT @115888 FUCKING CHARGED ME FUL...</td>\n",
       "      <td>SpotifyCares</td>\n",
       "      <td>Sat Nov 04 01:28:45 +0000 2017</td>\n",
       "      <td>@476849 Hi! We've just sent a DM your way. Let...</td>\n",
       "      <td>pissed off that fucking charged me full price ...</td>\n",
       "      <td>hi we have just sent a dm your way let is carr...</td>\n",
       "    </tr>\n",
       "  </tbody>\n",
       "</table>\n",
       "</div>"
      ],
      "text/plain": [
       "       author_id_x  ...                                       clean_answer\n",
       "251468      340004  ...  hi what is your platform which contract are yo...\n",
       "700147      693750  ...  hey thanks so much for reaching out you are a ...\n",
       "185503      284249  ...  i am sorry to hear about the service issue i c...\n",
       "870280      820001  ...  sorry to hear that did you let a manager know ...\n",
       "424733      476849  ...  hi we have just sent a dm your way let is carr...\n",
       "\n",
       "[5 rows x 8 columns]"
      ]
     },
     "execution_count": 7,
     "metadata": {
      "tags": []
     },
     "output_type": "execute_result"
    }
   ],
   "source": [
    "data.head()"
   ]
  },
  {
   "cell_type": "markdown",
   "metadata": {
    "id": "LfFPYG_u8Zfr"
   },
   "source": [
    "## Spelling correction"
   ]
  },
  {
   "cell_type": "code",
   "execution_count": null,
   "metadata": {
    "colab": {
     "base_uri": "https://localhost:8080/",
     "height": 139
    },
    "executionInfo": {
     "elapsed": 5490,
     "status": "ok",
     "timestamp": 1600970930370,
     "user": {
      "displayName": "Subrata Maji",
      "photoUrl": "https://lh3.googleusercontent.com/a-/AOh14Ghxu8VIGqB6XL51-t5wM_f1R1LdmEePYHIwb9b-=s64",
      "userId": "03124174213573157612"
     },
     "user_tz": -330
    },
    "id": "wnVm8Zlfo4da",
    "outputId": "f74e9ff5-2fc8-4ff0-9b8b-471de0e8ed2d"
   },
   "outputs": [
    {
     "name": "stdout",
     "output_type": "stream",
     "text": [
      "Collecting symspellpy\n",
      "\u001b[?25l  Downloading https://files.pythonhosted.org/packages/99/af/e71fcca6a42b6a63f518b0c1627e1f67822815cb0cf71e6af05acbd75c78/symspellpy-6.7.0-py3-none-any.whl (2.6MB)\n",
      "\u001b[K     |████████████████████████████████| 2.6MB 2.9MB/s \n",
      "\u001b[?25hRequirement already satisfied: numpy>=1.13.1 in /usr/local/lib/python3.6/dist-packages (from symspellpy) (1.18.5)\n",
      "Installing collected packages: symspellpy\n",
      "Successfully installed symspellpy-6.7.0\n"
     ]
    }
   ],
   "source": [
    "!pip install symspellpy"
   ]
  },
  {
   "cell_type": "code",
   "execution_count": null,
   "metadata": {
    "id": "Pg8GQ4U_rE6T"
   },
   "outputs": [],
   "source": [
    "# Using symspell to correct spelling\n",
    "import pkg_resources\n",
    "from symspellpy import SymSpell, Verbosity\n",
    "\n",
    "sym_spell = SymSpell(max_dictionary_edit_distance=2, prefix_length=7)\n",
    "dictionary_path = pkg_resources.resource_filename(\"symspellpy\", \"frequency_dictionary_en_82_765.txt\")\n",
    "bigram_path = pkg_resources.resource_filename(\"symspellpy\", \"frequency_bigramdictionary_en_243_342.txt\")\n",
    "\n",
    "sym_spell.load_dictionary(dictionary_path, term_index=0, count_index=1)\n",
    "sym_spell.load_bigram_dictionary(bigram_path, term_index=0, count_index=2)\n",
    "\n",
    "# utility function\n",
    "def correct_spellings(text):\n",
    "    \" For a given sentence this function returns a sentence after correctecting spelling of words \"\n",
    "    suggestions = sym_spell.lookup_compound(text, max_edit_distance=2)\n",
    "\n",
    "    return suggestions[0]._term"
   ]
  },
  {
   "cell_type": "code",
   "execution_count": null,
   "metadata": {
    "colab": {
     "base_uri": "https://localhost:8080/",
     "height": 35
    },
    "executionInfo": {
     "elapsed": 1155,
     "status": "ok",
     "timestamp": 1600971120194,
     "user": {
      "displayName": "Subrata Maji",
      "photoUrl": "https://lh3.googleusercontent.com/a-/AOh14Ghxu8VIGqB6XL51-t5wM_f1R1LdmEePYHIwb9b-=s64",
      "userId": "03124174213573157612"
     },
     "user_tz": -330
    },
    "id": "lAAQKMj2rbPI",
    "outputId": "0520853a-b0b6-4c59-d2df-eacb70dcb05d"
   },
   "outputs": [
    {
     "data": {
      "application/vnd.google.colaboratory.intrinsic+json": {
       "type": "string"
      },
      "text/plain": [
       "'why is it every time the bruins game goes to intermission the announcers sound like they are underwater watching on'"
      ]
     },
     "execution_count": 19,
     "metadata": {
      "tags": []
     },
     "output_type": "execute_result"
    }
   ],
   "source": [
    "correct_spellings(data['clean_question'].iloc[127])"
   ]
  },
  {
   "cell_type": "code",
   "execution_count": null,
   "metadata": {
    "colab": {
     "base_uri": "https://localhost:8080/",
     "height": 34
    },
    "executionInfo": {
     "elapsed": 7676422,
     "status": "ok",
     "timestamp": 1600978900353,
     "user": {
      "displayName": "Subrata Maji",
      "photoUrl": "https://lh3.googleusercontent.com/a-/AOh14Ghxu8VIGqB6XL51-t5wM_f1R1LdmEePYHIwb9b-=s64",
      "userId": "03124174213573157612"
     },
     "user_tz": -330
    },
    "id": "5hClo5E5r49v",
    "outputId": "8b67aa70-8d22-4ed7-b3cd-d01e61453e02"
   },
   "outputs": [
    {
     "name": "stderr",
     "output_type": "stream",
     "text": [
      "100%|██████████| 794299/794299 [2:07:55<00:00, 103.48it/s]\n"
     ]
    }
   ],
   "source": [
    "tqdm.pandas()\n",
    "\n",
    "# Question's spelling correction\n",
    "data['clean_question'] = data['clean_question'].progress_apply(correct_spellings)"
   ]
  },
  {
   "cell_type": "code",
   "execution_count": null,
   "metadata": {
    "colab": {
     "base_uri": "https://localhost:8080/",
     "height": 34
    },
    "executionInfo": {
     "elapsed": 15229663,
     "status": "ok",
     "timestamp": 1600986460494,
     "user": {
      "displayName": "Subrata Maji",
      "photoUrl": "https://lh3.googleusercontent.com/a-/AOh14Ghxu8VIGqB6XL51-t5wM_f1R1LdmEePYHIwb9b-=s64",
      "userId": "03124174213573157612"
     },
     "user_tz": -330
    },
    "id": "J15p6Sb_up1H",
    "outputId": "ca8b4203-2f3a-4960-96dc-554ac3cb2914"
   },
   "outputs": [
    {
     "name": "stderr",
     "output_type": "stream",
     "text": [
      "100%|██████████| 794299/794299 [2:06:00<00:00, 105.06it/s]\n"
     ]
    }
   ],
   "source": [
    "# Answer's spelling correction\n",
    "data['clean_answer'] = data['clean_answer'].progress_apply(correct_spellings)"
   ]
  },
  {
   "cell_type": "code",
   "execution_count": null,
   "metadata": {
    "id": "BNknDkPOsRXU"
   },
   "outputs": [],
   "source": [
    "# Saving to disk, spell corrected data\n",
    "pickle.dump(data, open(TOSAVE+'data_spell_corrected.pkl', 'wb'))"
   ]
  },
  {
   "cell_type": "code",
   "execution_count": null,
   "metadata": {
    "id": "vzoAqcbxou-r"
   },
   "outputs": [],
   "source": [
    "data = pickle.load(open(TOSAVE+'data_spell_corrected.pkl', 'rb'))"
   ]
  },
  {
   "cell_type": "code",
   "execution_count": null,
   "metadata": {
    "colab": {
     "base_uri": "https://localhost:8080/",
     "height": 34
    },
    "executionInfo": {
     "elapsed": 2774,
     "status": "ok",
     "timestamp": 1601010738854,
     "user": {
      "displayName": "Subrata Maji",
      "photoUrl": "https://lh3.googleusercontent.com/a-/AOh14Ghxu8VIGqB6XL51-t5wM_f1R1LdmEePYHIwb9b-=s64",
      "userId": "03124174213573157612"
     },
     "user_tz": -330
    },
    "id": "sfjn8B-9o6lG",
    "outputId": "1ca32f11-4cb8-4d45-e128-5ccf3256bb33"
   },
   "outputs": [
    {
     "data": {
      "text/plain": [
       "(794299, 8)"
      ]
     },
     "execution_count": 66,
     "metadata": {
      "tags": []
     },
     "output_type": "execute_result"
    }
   ],
   "source": [
    "data.shape"
   ]
  },
  {
   "cell_type": "code",
   "execution_count": null,
   "metadata": {
    "colab": {
     "base_uri": "https://localhost:8080/",
     "height": 34
    },
    "executionInfo": {
     "elapsed": 8605,
     "status": "ok",
     "timestamp": 1601010750410,
     "user": {
      "displayName": "Subrata Maji",
      "photoUrl": "https://lh3.googleusercontent.com/a-/AOh14Ghxu8VIGqB6XL51-t5wM_f1R1LdmEePYHIwb9b-=s64",
      "userId": "03124174213573157612"
     },
     "user_tz": -330
    },
    "id": "QkeAaEqab01w",
    "outputId": "862cf671-8ad2-4c60-c3a3-c92f0e890f79"
   },
   "outputs": [
    {
     "data": {
      "text/plain": [
       "54072"
      ]
     },
     "execution_count": 67,
     "metadata": {
      "tags": []
     },
     "output_type": "execute_result"
    }
   ],
   "source": [
    "# Counting frequency of wirds in questions\n",
    "from collections import Counter\n",
    "qsn_cnt = Counter()\n",
    "for text in data['clean_question'].values:\n",
    "    for word in text.split():\n",
    "        qsn_cnt[word] += 1\n",
    "\n",
    "qsn_dict = dict(qsn_cnt)\n",
    "\n",
    "len(qsn_dict.keys())"
   ]
  },
  {
   "cell_type": "code",
   "execution_count": null,
   "metadata": {
    "colab": {
     "base_uri": "https://localhost:8080/",
     "height": 34
    },
    "executionInfo": {
     "elapsed": 15670,
     "status": "ok",
     "timestamp": 1601010757802,
     "user": {
      "displayName": "Subrata Maji",
      "photoUrl": "https://lh3.googleusercontent.com/a-/AOh14Ghxu8VIGqB6XL51-t5wM_f1R1LdmEePYHIwb9b-=s64",
      "userId": "03124174213573157612"
     },
     "user_tz": -330
    },
    "id": "MkCZi5R9fLFH",
    "outputId": "2544ae68-36c9-4c45-b47c-6eb216664017"
   },
   "outputs": [
    {
     "data": {
      "text/plain": [
       "28872"
      ]
     },
     "execution_count": 68,
     "metadata": {
      "tags": []
     },
     "output_type": "execute_result"
    }
   ],
   "source": [
    "# Frequency of words in answers\n",
    "from collections import Counter\n",
    "ans_cnt = Counter()\n",
    "for text in data['clean_answer'].values:\n",
    "    for word in text.split():\n",
    "        ans_cnt[word] += 1\n",
    "\n",
    "ans_dict = dict(ans_cnt)\n",
    "\n",
    "len(ans_dict.keys())"
   ]
  },
  {
   "cell_type": "code",
   "execution_count": null,
   "metadata": {
    "id": "-A0G1gPmcTSN"
   },
   "outputs": [],
   "source": [
    "x = np.array(list(qsn_dict.values()))\n",
    "y = np.array(list(ans_dict.values()))"
   ]
  },
  {
   "cell_type": "code",
   "execution_count": null,
   "metadata": {
    "colab": {
     "base_uri": "https://localhost:8080/",
     "height": 34
    },
    "executionInfo": {
     "elapsed": 11598,
     "status": "ok",
     "timestamp": 1601010757806,
     "user": {
      "displayName": "Subrata Maji",
      "photoUrl": "https://lh3.googleusercontent.com/a-/AOh14Ghxu8VIGqB6XL51-t5wM_f1R1LdmEePYHIwb9b-=s64",
      "userId": "03124174213573157612"
     },
     "user_tz": -330
    },
    "id": "3D0Lf0zXfsh-",
    "outputId": "af52a3a8-080d-40f4-e7a7-e3045dd76b74"
   },
   "outputs": [
    {
     "data": {
      "text/plain": [
       "array([ 1.,  4., 20.])"
      ]
     },
     "execution_count": 70,
     "metadata": {
      "tags": []
     },
     "output_type": "execute_result"
    }
   ],
   "source": [
    "# Quantile of questions\n",
    "np.percentile(x, [25, 50, 75])"
   ]
  },
  {
   "cell_type": "code",
   "execution_count": null,
   "metadata": {
    "colab": {
     "base_uri": "https://localhost:8080/",
     "height": 34
    },
    "executionInfo": {
     "elapsed": 10961,
     "status": "ok",
     "timestamp": 1601010757810,
     "user": {
      "displayName": "Subrata Maji",
      "photoUrl": "https://lh3.googleusercontent.com/a-/AOh14Ghxu8VIGqB6XL51-t5wM_f1R1LdmEePYHIwb9b-=s64",
      "userId": "03124174213573157612"
     },
     "user_tz": -330
    },
    "id": "TW7SAeUJferu",
    "outputId": "58de2060-ccc4-437d-9b41-aaaa665a2071"
   },
   "outputs": [
    {
     "data": {
      "text/plain": [
       "array([ 1.,  5., 30.])"
      ]
     },
     "execution_count": 71,
     "metadata": {
      "tags": []
     },
     "output_type": "execute_result"
    }
   ],
   "source": [
    "# quantile of answers\n",
    "np.percentile(y, [25, 50, 75])"
   ]
  },
  {
   "cell_type": "code",
   "execution_count": null,
   "metadata": {
    "colab": {
     "base_uri": "https://localhost:8080/",
     "height": 102
    },
    "executionInfo": {
     "elapsed": 1099,
     "status": "ok",
     "timestamp": 1601010162075,
     "user": {
      "displayName": "Subrata Maji",
      "photoUrl": "https://lh3.googleusercontent.com/a-/AOh14Ghxu8VIGqB6XL51-t5wM_f1R1LdmEePYHIwb9b-=s64",
      "userId": "03124174213573157612"
     },
     "user_tz": -330
    },
    "id": "t_VGZ_vpcOMR",
    "outputId": "afb54697-8232-42a0-9ec2-c58e5bbd5715"
   },
   "outputs": [
    {
     "name": "stdout",
     "output_type": "stream",
     "text": [
      "[ 3388.9    3882.805  4467.     5074.647  5994.574  7414.16   9492.072\n",
      " 12127.812 17905.604 39740.398]\n",
      "[  5287.35         6069.864        7581.288        9018.198\n",
      "  10864.836       14090.77        18877.956       25694.199\n",
      "  48864.832      106463.22000005]\n"
     ]
    }
   ],
   "source": [
    "print(np.percentile(x, [99+i/10 for i in range(10)]))\n",
    "\n",
    "print(np.percentile(y, [99+i/10 for i in range(10)]))"
   ]
  },
  {
   "cell_type": "code",
   "execution_count": null,
   "metadata": {
    "id": "qhoa9_hv8i72"
   },
   "outputs": [],
   "source": [
    "# not removing anything from train as vocab size reduced after spelling correction"
   ]
  },
  {
   "cell_type": "code",
   "execution_count": null,
   "metadata": {
    "code_folding": [],
    "id": "UJncwpvNdD7b"
   },
   "outputs": [],
   "source": [
    "def remove_rare_words(sent, min_count, cnt_dict):\n",
    "    \"\"\" To remove rare words from texts \"\"\"\n",
    "    new_sent = ''\n",
    "    for word in sent.split():\n",
    "        try:\n",
    "            if cnt_dict[word]>min_count:\n",
    "                new_sent += word+' '\n",
    "            else:\n",
    "                new_sent += '<unk>'+' '\n",
    "        except:\n",
    "            new_sent += '<unk> '\n",
    "    return new_sent.strip()"
   ]
  },
  {
   "cell_type": "code",
   "execution_count": null,
   "metadata": {
    "colab": {
     "base_uri": "https://localhost:8080/",
     "height": 35
    },
    "executionInfo": {
     "elapsed": 1154,
     "status": "ok",
     "timestamp": 1601010239740,
     "user": {
      "displayName": "Subrata Maji",
      "photoUrl": "https://lh3.googleusercontent.com/a-/AOh14Ghxu8VIGqB6XL51-t5wM_f1R1LdmEePYHIwb9b-=s64",
      "userId": "03124174213573157612"
     },
     "user_tz": -330
    },
    "id": "chyjD3yBh4RV",
    "outputId": "ff0026ff-fc11-4c8e-a25b-78dcfebcf607"
   },
   "outputs": [
    {
     "data": {
      "application/vnd.google.colaboratory.intrinsic+json": {
       "type": "string"
      },
      "text/plain": [
       "'hello <unk>'"
      ]
     },
     "execution_count": 17,
     "metadata": {
      "tags": []
     },
     "output_type": "execute_result"
    }
   ],
   "source": [
    "remove_rare_words(\"hello subrata\", 2, qsn_dict)"
   ]
  },
  {
   "cell_type": "code",
   "execution_count": null,
   "metadata": {
    "id": "M3Iulxs3qc_L"
   },
   "outputs": [],
   "source": [
    "tqdm.pandas()"
   ]
  },
  {
   "cell_type": "code",
   "execution_count": null,
   "metadata": {
    "id": "PnoJAZ93ilsz"
   },
   "outputs": [],
   "source": [
    "# Removing rare words from texts\n",
    "\n",
    "#data['clean_question'] = data['clean_question'].progress_apply(remove_rare_words, args=(1, qsn_dict))\n",
    "#data['clean_answer'] = data['clean_answer'].apply(remove_rare_words, args=(2, ans_dict))"
   ]
  },
  {
   "cell_type": "markdown",
   "metadata": {
    "id": "6LSQCDGDHqz8"
   },
   "source": [
    "## Data restructuring for Encoder and Decoder"
   ]
  },
  {
   "cell_type": "code",
   "execution_count": null,
   "metadata": {
    "id": "oqwFFk4OqQR-"
   },
   "outputs": [],
   "source": [
    "# Adding start and end tookens to decoder input\n",
    "data['clean_answer'] = '<start> ' + data['clean_answer'].astype(str) + ' <end>'"
   ]
  },
  {
   "cell_type": "code",
   "execution_count": null,
   "metadata": {
    "id": "PzhOW_8wo5_2"
   },
   "outputs": [],
   "source": [
    "data['qsn_len'] = data['clean_question'].apply(lambda x: len(x.split()))\n",
    "data['ans_len'] = data['clean_answer'].apply(lambda x: len(x.split()))"
   ]
  },
  {
   "cell_type": "code",
   "execution_count": null,
   "metadata": {
    "colab": {
     "base_uri": "https://localhost:8080/",
     "height": 391
    },
    "executionInfo": {
     "elapsed": 750,
     "status": "ok",
     "timestamp": 1601010804886,
     "user": {
      "displayName": "Subrata Maji",
      "photoUrl": "https://lh3.googleusercontent.com/a-/AOh14Ghxu8VIGqB6XL51-t5wM_f1R1LdmEePYHIwb9b-=s64",
      "userId": "03124174213573157612"
     },
     "user_tz": -330
    },
    "id": "jzdkKuRWqIib",
    "outputId": "a56dea5d-e11a-4c2a-c03d-109914146029"
   },
   "outputs": [
    {
     "data": {
      "text/html": [
       "<div>\n",
       "<style scoped>\n",
       "    .dataframe tbody tr th:only-of-type {\n",
       "        vertical-align: middle;\n",
       "    }\n",
       "\n",
       "    .dataframe tbody tr th {\n",
       "        vertical-align: top;\n",
       "    }\n",
       "\n",
       "    .dataframe thead th {\n",
       "        text-align: right;\n",
       "    }\n",
       "</style>\n",
       "<table border=\"1\" class=\"dataframe\">\n",
       "  <thead>\n",
       "    <tr style=\"text-align: right;\">\n",
       "      <th></th>\n",
       "      <th>author_id_x</th>\n",
       "      <th>created_at_x</th>\n",
       "      <th>question</th>\n",
       "      <th>author_id_y</th>\n",
       "      <th>created_at_y</th>\n",
       "      <th>answer</th>\n",
       "      <th>clean_question</th>\n",
       "      <th>clean_answer</th>\n",
       "      <th>qsn_len</th>\n",
       "      <th>ans_len</th>\n",
       "    </tr>\n",
       "  </thead>\n",
       "  <tbody>\n",
       "    <tr>\n",
       "      <th>251468</th>\n",
       "      <td>340004</td>\n",
       "      <td>Sat Oct 21 13:37:43 +0000 2017</td>\n",
       "      <td>@122172 need help</td>\n",
       "      <td>ATVIAssist</td>\n",
       "      <td>Sat Oct 21 14:21:21 +0000 2017</td>\n",
       "      <td>@340004 Hi. What's your platform &amp;amp; which c...</td>\n",
       "      <td>need help</td>\n",
       "      <td>&lt;start&gt; i what is your platform which contract...</td>\n",
       "      <td>2</td>\n",
       "      <td>22</td>\n",
       "    </tr>\n",
       "    <tr>\n",
       "      <th>700147</th>\n",
       "      <td>693750</td>\n",
       "      <td>Tue Nov 14 16:46:49 +0000 2017</td>\n",
       "      <td>@115911 @TMobileHelp @115725 @ATT @115911 why ...</td>\n",
       "      <td>TMobileHelp</td>\n",
       "      <td>Tue Nov 14 16:50:00 +0000 2017</td>\n",
       "      <td>@693750 Hey thanks so much for reaching out! Y...</td>\n",
       "      <td>why did you stop allowing conference calling w...</td>\n",
       "      <td>&lt;start&gt; hey thanks so much for reaching out yo...</td>\n",
       "      <td>16</td>\n",
       "      <td>20</td>\n",
       "    </tr>\n",
       "    <tr>\n",
       "      <th>185503</th>\n",
       "      <td>284249</td>\n",
       "      <td>Thu Nov 23 13:33:12 +0000 2017</td>\n",
       "      <td>Oh course @115955 WiFi would go down on Thanks...</td>\n",
       "      <td>Ask_Spectrum</td>\n",
       "      <td>Thu Nov 23 13:48:06 +0000 2017</td>\n",
       "      <td>@284249 I'm sorry to hear about the service is...</td>\n",
       "      <td>of course wifi would go down on thanksgiving</td>\n",
       "      <td>&lt;start&gt; i am sorry to hear about the service i...</td>\n",
       "      <td>8</td>\n",
       "      <td>31</td>\n",
       "    </tr>\n",
       "    <tr>\n",
       "      <th>870280</th>\n",
       "      <td>820001</td>\n",
       "      <td>Thu Nov 30 01:17:45 +0000 2017</td>\n",
       "      <td>When the vinaigrette from @ChipotleTweets is 1...</td>\n",
       "      <td>ChipotleTweets</td>\n",
       "      <td>Thu Nov 30 01:21:30 +0000 2017</td>\n",
       "      <td>@820001 Sorry to hear that. Did you let a mana...</td>\n",
       "      <td>when the vinaigrette from is saltier than it i...</td>\n",
       "      <td>&lt;start&gt; sorry to hear that did you let a manag...</td>\n",
       "      <td>18</td>\n",
       "      <td>13</td>\n",
       "    </tr>\n",
       "    <tr>\n",
       "      <th>424733</th>\n",
       "      <td>476849</td>\n",
       "      <td>Sat Nov 04 00:12:43 +0000 2017</td>\n",
       "      <td>PISSED OFF THAT @115888 FUCKING CHARGED ME FUL...</td>\n",
       "      <td>SpotifyCares</td>\n",
       "      <td>Sat Nov 04 01:28:45 +0000 2017</td>\n",
       "      <td>@476849 Hi! We've just sent a DM your way. Let...</td>\n",
       "      <td>pissed off that fucking charged me full price ...</td>\n",
       "      <td>&lt;start&gt; i we have just sent a do your way let ...</td>\n",
       "      <td>21</td>\n",
       "      <td>18</td>\n",
       "    </tr>\n",
       "  </tbody>\n",
       "</table>\n",
       "</div>"
      ],
      "text/plain": [
       "       author_id_x                    created_at_x  ... qsn_len ans_len\n",
       "251468      340004  Sat Oct 21 13:37:43 +0000 2017  ...       2      22\n",
       "700147      693750  Tue Nov 14 16:46:49 +0000 2017  ...      16      20\n",
       "185503      284249  Thu Nov 23 13:33:12 +0000 2017  ...       8      31\n",
       "870280      820001  Thu Nov 30 01:17:45 +0000 2017  ...      18      13\n",
       "424733      476849  Sat Nov 04 00:12:43 +0000 2017  ...      21      18\n",
       "\n",
       "[5 rows x 10 columns]"
      ]
     },
     "execution_count": 74,
     "metadata": {
      "tags": []
     },
     "output_type": "execute_result"
    }
   ],
   "source": [
    "data.head()"
   ]
  },
  {
   "cell_type": "code",
   "execution_count": null,
   "metadata": {
    "id": "pvWoAe7u8zbP"
   },
   "outputs": [],
   "source": [
    "# taking 95% value"
   ]
  },
  {
   "cell_type": "code",
   "execution_count": null,
   "metadata": {
    "colab": {
     "base_uri": "https://localhost:8080/",
     "height": 34
    },
    "executionInfo": {
     "elapsed": 1419,
     "status": "ok",
     "timestamp": 1601010813705,
     "user": {
      "displayName": "Subrata Maji",
      "photoUrl": "https://lh3.googleusercontent.com/a-/AOh14Ghxu8VIGqB6XL51-t5wM_f1R1LdmEePYHIwb9b-=s64",
      "userId": "03124174213573157612"
     },
     "user_tz": -330
    },
    "id": "xZVfUXFvf4hz",
    "outputId": "0520e512-ccc6-4a9f-edad-3fce21d126ff"
   },
   "outputs": [
    {
     "data": {
      "text/plain": [
       "array([12., 19., 24., 31., 39., 49.])"
      ]
     },
     "execution_count": 75,
     "metadata": {
      "tags": []
     },
     "output_type": "execute_result"
    }
   ],
   "source": [
    "# Checking percentile values of no of words\n",
    "np.percentile(data['qsn_len'].values, [25, 50, 75, 90, 95, 99])"
   ]
  },
  {
   "cell_type": "code",
   "execution_count": null,
   "metadata": {
    "colab": {
     "base_uri": "https://localhost:8080/",
     "height": 34
    },
    "executionInfo": {
     "elapsed": 1099,
     "status": "ok",
     "timestamp": 1601010813707,
     "user": {
      "displayName": "Subrata Maji",
      "photoUrl": "https://lh3.googleusercontent.com/a-/AOh14Ghxu8VIGqB6XL51-t5wM_f1R1LdmEePYHIwb9b-=s64",
      "userId": "03124174213573157612"
     },
     "user_tz": -330
    },
    "id": "Q5pyB3EbjO1w",
    "outputId": "53d56041-a787-49b5-9f74-87110b65ec43"
   },
   "outputs": [
    {
     "data": {
      "text/plain": [
       "array([17., 22., 26., 31., 37., 48.])"
      ]
     },
     "execution_count": 76,
     "metadata": {
      "tags": []
     },
     "output_type": "execute_result"
    }
   ],
   "source": [
    "np.percentile(data['ans_len'].values, [25, 50, 75, 90, 95, 99])"
   ]
  },
  {
   "cell_type": "markdown",
   "metadata": {
    "id": "1qjk9rUO5BLU"
   },
   "source": [
    "## Parameters"
   ]
  },
  {
   "cell_type": "code",
   "execution_count": null,
   "metadata": {
    "id": "oBUYa_vCqKoG"
   },
   "outputs": [],
   "source": [
    "# Parameters\n",
    "\n",
    "# fixing numpy RS\n",
    "np.random.seed(42)\n",
    "# fixing tensorflow RS\n",
    "tf.random.set_seed(32)\n",
    "# python RS\n",
    "rn.seed(12)\n",
    "\n",
    "# Taking maximum words 38\n",
    "MAXLEN = 39\n",
    "QSN_VOCAB_SIZE = 46789\n",
    "ANS_VOCAB_SIZE = 25445\n",
    "\n",
    "EMBEDDING_SIZE = 300"
   ]
  },
  {
   "cell_type": "code",
   "execution_count": null,
   "metadata": {
    "colab": {
     "base_uri": "https://localhost:8080/",
     "height": 204
    },
    "executionInfo": {
     "elapsed": 3415,
     "status": "ok",
     "timestamp": 1601010826426,
     "user": {
      "displayName": "Subrata Maji",
      "photoUrl": "https://lh3.googleusercontent.com/a-/AOh14Ghxu8VIGqB6XL51-t5wM_f1R1LdmEePYHIwb9b-=s64",
      "userId": "03124174213573157612"
     },
     "user_tz": -330
    },
    "id": "TC-vqENHqqq_",
    "outputId": "ec5064a9-a636-40a8-bb85-571b864edc99"
   },
   "outputs": [
    {
     "data": {
      "text/html": [
       "<div>\n",
       "<style scoped>\n",
       "    .dataframe tbody tr th:only-of-type {\n",
       "        vertical-align: middle;\n",
       "    }\n",
       "\n",
       "    .dataframe tbody tr th {\n",
       "        vertical-align: top;\n",
       "    }\n",
       "\n",
       "    .dataframe thead th {\n",
       "        text-align: right;\n",
       "    }\n",
       "</style>\n",
       "<table border=\"1\" class=\"dataframe\">\n",
       "  <thead>\n",
       "    <tr style=\"text-align: right;\">\n",
       "      <th></th>\n",
       "      <th>question</th>\n",
       "      <th>answer_inp</th>\n",
       "      <th>answer_out</th>\n",
       "    </tr>\n",
       "  </thead>\n",
       "  <tbody>\n",
       "    <tr>\n",
       "      <th>700147</th>\n",
       "      <td>why did you stop allowing conference calling w...</td>\n",
       "      <td>&lt;start&gt; hey thanks so much for reaching out yo...</td>\n",
       "      <td>hey thanks so much for reaching out you are a ...</td>\n",
       "    </tr>\n",
       "    <tr>\n",
       "      <th>185503</th>\n",
       "      <td>of course wifi would go down on thanksgiving</td>\n",
       "      <td>&lt;start&gt; i am sorry to hear about the service i...</td>\n",
       "      <td>i am sorry to hear about the service issue i c...</td>\n",
       "    </tr>\n",
       "    <tr>\n",
       "      <th>870280</th>\n",
       "      <td>when the vinaigrette from is saltier than it i...</td>\n",
       "      <td>&lt;start&gt; sorry to hear that did you let a manag...</td>\n",
       "      <td>sorry to hear that did you let a manager know ...</td>\n",
       "    </tr>\n",
       "    <tr>\n",
       "      <th>424733</th>\n",
       "      <td>pissed off that fucking charged me full price ...</td>\n",
       "      <td>&lt;start&gt; i we have just sent a do your way let ...</td>\n",
       "      <td>i we have just sent a do your way let is carry...</td>\n",
       "    </tr>\n",
       "    <tr>\n",
       "      <th>327118</th>\n",
       "      <td>please help i changed my last name due to marr...</td>\n",
       "      <td>&lt;start&gt; hey there do us a your rapid rewards n...</td>\n",
       "      <td>hey there do us a your rapid rewards number an...</td>\n",
       "    </tr>\n",
       "  </tbody>\n",
       "</table>\n",
       "</div>"
      ],
      "text/plain": [
       "                                                 question  ...                                         answer_out\n",
       "700147  why did you stop allowing conference calling w...  ...  hey thanks so much for reaching out you are a ...\n",
       "185503       of course wifi would go down on thanksgiving  ...  i am sorry to hear about the service issue i c...\n",
       "870280  when the vinaigrette from is saltier than it i...  ...  sorry to hear that did you let a manager know ...\n",
       "424733  pissed off that fucking charged me full price ...  ...  i we have just sent a do your way let is carry...\n",
       "327118  please help i changed my last name due to marr...  ...  hey there do us a your rapid rewards number an...\n",
       "\n",
       "[5 rows x 3 columns]"
      ]
     },
     "execution_count": 77,
     "metadata": {
      "tags": []
     },
     "output_type": "execute_result"
    }
   ],
   "source": [
    "# Taking data less and equal 39 words\n",
    "data = data[(data['qsn_len']>2) & (data['qsn_len'] <= MAXLEN)]\n",
    "data = data[(data['ans_len']>2) & (data['ans_len'] <= MAXLEN)]\n",
    "\n",
    "# Decoder outpu data\n",
    "data['answer_out'] = data['clean_answer'].apply(lambda x: \" \".join(x.split()[1:]))\n",
    "\n",
    "# Selecting necessary columns\n",
    "data = data[['clean_question', 'clean_answer', 'answer_out']].copy()\n",
    "data.rename(columns={'clean_question':'question', 'clean_answer':'answer_inp'}, inplace=True)\n",
    "\n",
    "data.head()"
   ]
  },
  {
   "cell_type": "code",
   "execution_count": null,
   "metadata": {
    "colab": {
     "base_uri": "https://localhost:8080/",
     "height": 35
    },
    "executionInfo": {
     "elapsed": 1702,
     "status": "ok",
     "timestamp": 1601010831738,
     "user": {
      "displayName": "Subrata Maji",
      "photoUrl": "https://lh3.googleusercontent.com/a-/AOh14Ghxu8VIGqB6XL51-t5wM_f1R1LdmEePYHIwb9b-=s64",
      "userId": "03124174213573157612"
     },
     "user_tz": -330
    },
    "id": "Xa2Zv-i3ukFH",
    "outputId": "88b4ba87-4e1a-45cb-d2f8-0e50726cff3d"
   },
   "outputs": [
    {
     "data": {
      "application/vnd.google.colaboratory.intrinsic+json": {
       "type": "string"
      },
      "text/plain": [
       "'<start> that is what i like to see thanks for sharing have a great flight sean <end>'"
      ]
     },
     "execution_count": 78,
     "metadata": {
      "tags": []
     },
     "output_type": "execute_result"
    }
   ],
   "source": [
    "# Checking results\n",
    "data['answer_inp'].iloc[10]"
   ]
  },
  {
   "cell_type": "code",
   "execution_count": null,
   "metadata": {
    "colab": {
     "base_uri": "https://localhost:8080/",
     "height": 35
    },
    "executionInfo": {
     "elapsed": 2534,
     "status": "ok",
     "timestamp": 1601010832981,
     "user": {
      "displayName": "Subrata Maji",
      "photoUrl": "https://lh3.googleusercontent.com/a-/AOh14Ghxu8VIGqB6XL51-t5wM_f1R1LdmEePYHIwb9b-=s64",
      "userId": "03124174213573157612"
     },
     "user_tz": -330
    },
    "id": "SQrUjGfVupbS",
    "outputId": "ee54fa77-92f8-411c-edc7-191fb2bc2479"
   },
   "outputs": [
    {
     "data": {
      "application/vnd.google.colaboratory.intrinsic+json": {
       "type": "string"
      },
      "text/plain": [
       "'that is what i like to see thanks for sharing have a great flight sean <end>'"
      ]
     },
     "execution_count": 79,
     "metadata": {
      "tags": []
     },
     "output_type": "execute_result"
    }
   ],
   "source": [
    "data['answer_out'].iloc[10]"
   ]
  },
  {
   "cell_type": "markdown",
   "metadata": {
    "id": "SCPgksT_IGd7"
   },
   "source": [
    "## Train test split"
   ]
  },
  {
   "cell_type": "code",
   "execution_count": null,
   "metadata": {
    "colab": {
     "base_uri": "https://localhost:8080/",
     "height": 34
    },
    "executionInfo": {
     "elapsed": 1621,
     "status": "ok",
     "timestamp": 1601010838135,
     "user": {
      "displayName": "Subrata Maji",
      "photoUrl": "https://lh3.googleusercontent.com/a-/AOh14Ghxu8VIGqB6XL51-t5wM_f1R1LdmEePYHIwb9b-=s64",
      "userId": "03124174213573157612"
     },
     "user_tz": -330
    },
    "id": "wSl5JgPLtwmO",
    "outputId": "154b9236-dfdc-41b7-b202-7d1dd1483178"
   },
   "outputs": [
    {
     "data": {
      "text/plain": [
       "((533547, 3), (177849, 3))"
      ]
     },
     "execution_count": 80,
     "metadata": {
      "tags": []
     },
     "output_type": "execute_result"
    }
   ],
   "source": [
    "# Train and validation split\n",
    "from sklearn.model_selection import train_test_split\n",
    "train, validation = train_test_split(data, test_size=0.25, random_state=16)\n",
    "\n",
    "train.shape, validation.shape"
   ]
  },
  {
   "cell_type": "code",
   "execution_count": null,
   "metadata": {
    "id": "Kw_IyhSDvIdJ"
   },
   "outputs": [],
   "source": [
    "# Saving to disk\n",
    "pickle.dump((train, validation), open(TOSAVE+'spelldata_train_val.pkl', 'wb'))"
   ]
  },
  {
   "cell_type": "code",
   "execution_count": null,
   "metadata": {
    "id": "48KWop3KV72i"
   },
   "outputs": [],
   "source": [
    "train, validation = pickle.load(open(TOSAVE+'spelldata_train_val.pkl', 'rb'))"
   ]
  },
  {
   "cell_type": "code",
   "execution_count": null,
   "metadata": {
    "colab": {
     "base_uri": "https://localhost:8080/",
     "height": 204
    },
    "executionInfo": {
     "elapsed": 1159,
     "status": "ok",
     "timestamp": 1601010843893,
     "user": {
      "displayName": "Subrata Maji",
      "photoUrl": "https://lh3.googleusercontent.com/a-/AOh14Ghxu8VIGqB6XL51-t5wM_f1R1LdmEePYHIwb9b-=s64",
      "userId": "03124174213573157612"
     },
     "user_tz": -330
    },
    "id": "Tyc3WToCWCom",
    "outputId": "dcc99164-cab2-4164-8be7-1f1ebc0868c4"
   },
   "outputs": [
    {
     "data": {
      "text/html": [
       "<div>\n",
       "<style scoped>\n",
       "    .dataframe tbody tr th:only-of-type {\n",
       "        vertical-align: middle;\n",
       "    }\n",
       "\n",
       "    .dataframe tbody tr th {\n",
       "        vertical-align: top;\n",
       "    }\n",
       "\n",
       "    .dataframe thead th {\n",
       "        text-align: right;\n",
       "    }\n",
       "</style>\n",
       "<table border=\"1\" class=\"dataframe\">\n",
       "  <thead>\n",
       "    <tr style=\"text-align: right;\">\n",
       "      <th></th>\n",
       "      <th>question</th>\n",
       "      <th>answer_inp</th>\n",
       "      <th>answer_out</th>\n",
       "    </tr>\n",
       "  </thead>\n",
       "  <tbody>\n",
       "    <tr>\n",
       "      <th>718509</th>\n",
       "      <td>at is awful sizes are incorrect coffee is old ...</td>\n",
       "      <td>&lt;start&gt; sorry to hear this please email us at ...</td>\n",
       "      <td>sorry to hear this please email us at email so...</td>\n",
       "    </tr>\n",
       "    <tr>\n",
       "      <th>714919</th>\n",
       "      <td>i just signed up and hope to use your service ...</td>\n",
       "      <td>&lt;start&gt; here to help send us a note here and o...</td>\n",
       "      <td>here to help send us a note here and our team ...</td>\n",
       "    </tr>\n",
       "    <tr>\n",
       "      <th>656115</th>\n",
       "      <td>i have been asking about my refund for weeks n...</td>\n",
       "      <td>&lt;start&gt; we will have this resolved as soon as ...</td>\n",
       "      <td>we will have this resolved as soon as possible...</td>\n",
       "    </tr>\n",
       "    <tr>\n",
       "      <th>565151</th>\n",
       "      <td>i need my package why out of all packages mine...</td>\n",
       "      <td>&lt;start&gt; i am sorry to hear your package has be...</td>\n",
       "      <td>i am sorry to hear your package has been delay...</td>\n",
       "    </tr>\n",
       "    <tr>\n",
       "      <th>693937</th>\n",
       "      <td>i azure team is this service issue completely ...</td>\n",
       "      <td>&lt;start&gt; yes you should not be experiencing the...</td>\n",
       "      <td>yes you should not be experiencing these issue...</td>\n",
       "    </tr>\n",
       "  </tbody>\n",
       "</table>\n",
       "</div>"
      ],
      "text/plain": [
       "                                                 question  ...                                         answer_out\n",
       "718509  at is awful sizes are incorrect coffee is old ...  ...  sorry to hear this please email us at email so...\n",
       "714919  i just signed up and hope to use your service ...  ...  here to help send us a note here and our team ...\n",
       "656115  i have been asking about my refund for weeks n...  ...  we will have this resolved as soon as possible...\n",
       "565151  i need my package why out of all packages mine...  ...  i am sorry to hear your package has been delay...\n",
       "693937  i azure team is this service issue completely ...  ...  yes you should not be experiencing these issue...\n",
       "\n",
       "[5 rows x 3 columns]"
      ]
     },
     "execution_count": 81,
     "metadata": {
      "tags": []
     },
     "output_type": "execute_result"
    }
   ],
   "source": [
    "train.head()"
   ]
  },
  {
   "cell_type": "markdown",
   "metadata": {
    "id": "nw3Wu-0FIKYp"
   },
   "source": [
    "## Tokenizing"
   ]
  },
  {
   "cell_type": "code",
   "execution_count": null,
   "metadata": {
    "id": "FDThypBGvSxa"
   },
   "outputs": [],
   "source": [
    "# Tokenizers\n",
    "enc_tokenizer = Tokenizer(filters='', oov_token='<unk>')\n",
    "enc_tokenizer.fit_on_texts(train['question'].values)\n",
    "\n",
    "dec_tokenizer = Tokenizer(filters='', oov_token='<unk>')\n",
    "dec_tokenizer.fit_on_texts(train['answer_inp'].values)"
   ]
  },
  {
   "cell_type": "code",
   "execution_count": null,
   "metadata": {
    "id": "KUe8OOP-0H-s"
   },
   "outputs": [],
   "source": [
    "pickle.dump((enc_tokenizer, dec_tokenizer), open(TOSAVE+'spelltokenizer_obj.pkl', 'wb'))"
   ]
  },
  {
   "cell_type": "code",
   "execution_count": null,
   "metadata": {
    "id": "nYq_OTJedbDQ"
   },
   "outputs": [],
   "source": [
    "# Load tokenizers\n",
    "enc_tokenizer, dec_tokenizer = pickle.load(open(TOSAVE+'spelltokenizer_obj.pkl', 'rb'))"
   ]
  },
  {
   "cell_type": "code",
   "execution_count": null,
   "metadata": {
    "colab": {
     "base_uri": "https://localhost:8080/",
     "height": 34
    },
    "executionInfo": {
     "elapsed": 1066,
     "status": "ok",
     "timestamp": 1601011201091,
     "user": {
      "displayName": "Subrata Maji",
      "photoUrl": "https://lh3.googleusercontent.com/a-/AOh14Ghxu8VIGqB6XL51-t5wM_f1R1LdmEePYHIwb9b-=s64",
      "userId": "03124174213573157612"
     },
     "user_tz": -330
    },
    "id": "lsYrRWflv6IR",
    "outputId": "5c7e60ce-d7c0-47a1-d8a7-63448247f795"
   },
   "outputs": [
    {
     "name": "stdout",
     "output_type": "stream",
     "text": [
      "46789 25445\n"
     ]
    }
   ],
   "source": [
    "# Vocab sizes\n",
    "vocab_size_qsn = len(enc_tokenizer.word_index.keys())\n",
    "vocab_size_ans = len(dec_tokenizer.word_index.keys())\n",
    "\n",
    "print(vocab_size_qsn, vocab_size_ans)"
   ]
  },
  {
   "cell_type": "code",
   "execution_count": null,
   "metadata": {
    "colab": {
     "base_uri": "https://localhost:8080/",
     "height": 34
    },
    "executionInfo": {
     "elapsed": 1445,
     "status": "ok",
     "timestamp": 1601011205122,
     "user": {
      "displayName": "Subrata Maji",
      "photoUrl": "https://lh3.googleusercontent.com/a-/AOh14Ghxu8VIGqB6XL51-t5wM_f1R1LdmEePYHIwb9b-=s64",
      "userId": "03124174213573157612"
     },
     "user_tz": -330
    },
    "id": "s4hL-q0FwUxg",
    "outputId": "51a31d95-c7cd-41e1-da67-e976aa788362"
   },
   "outputs": [
    {
     "data": {
      "text/plain": [
       "(1, 2, 3)"
      ]
     },
     "execution_count": 7,
     "metadata": {
      "tags": []
     },
     "output_type": "execute_result"
    }
   ],
   "source": [
    "# Checking results\n",
    "dec_tokenizer.word_index['<unk>'], dec_tokenizer.word_index['<start>'], dec_tokenizer.word_index['<end>']"
   ]
  },
  {
   "cell_type": "code",
   "execution_count": null,
   "metadata": {
    "colab": {
     "base_uri": "https://localhost:8080/",
     "height": 34
    },
    "executionInfo": {
     "elapsed": 1329,
     "status": "ok",
     "timestamp": 1601011205123,
     "user": {
      "displayName": "Subrata Maji",
      "photoUrl": "https://lh3.googleusercontent.com/a-/AOh14Ghxu8VIGqB6XL51-t5wM_f1R1LdmEePYHIwb9b-=s64",
      "userId": "03124174213573157612"
     },
     "user_tz": -330
    },
    "id": "8JaGeLtLwtY-",
    "outputId": "6ecab2c4-e5a4-4a84-dbe1-5b236bb2e952"
   },
   "outputs": [
    {
     "data": {
      "text/plain": [
       "1"
      ]
     },
     "execution_count": 8,
     "metadata": {
      "tags": []
     },
     "output_type": "execute_result"
    }
   ],
   "source": [
    "enc_tokenizer.word_index['<unk>']"
   ]
  },
  {
   "cell_type": "code",
   "execution_count": null,
   "metadata": {
    "id": "wOG4SeFXyWxN"
   },
   "outputs": [],
   "source": [
    "# Tokenizing the entire train data\n",
    "\n",
    "train_encoder_inp = enc_tokenizer.texts_to_sequences(train['question'])\n",
    "train_encoder_inp = pad_sequences(train_encoder_inp, maxlen=MAXLEN, padding='post')\n",
    "\n",
    "train_decoder_inp = dec_tokenizer.texts_to_sequences(train['answer_inp'])\n",
    "train_decoder_inp = pad_sequences(train_decoder_inp, maxlen=MAXLEN, padding='post')\n",
    "\n",
    "train_decoder_out = dec_tokenizer.texts_to_sequences(train['answer_out'])\n",
    "train_decoder_out = pad_sequences(train_decoder_out, maxlen=MAXLEN, padding='post')"
   ]
  },
  {
   "cell_type": "code",
   "execution_count": null,
   "metadata": {
    "colab": {
     "base_uri": "https://localhost:8080/",
     "height": 34
    },
    "executionInfo": {
     "elapsed": 30621,
     "status": "ok",
     "timestamp": 1601010972499,
     "user": {
      "displayName": "Subrata Maji",
      "photoUrl": "https://lh3.googleusercontent.com/a-/AOh14Ghxu8VIGqB6XL51-t5wM_f1R1LdmEePYHIwb9b-=s64",
      "userId": "03124174213573157612"
     },
     "user_tz": -330
    },
    "id": "Mhn50Bytyi9z",
    "outputId": "24377dd9-dc86-4975-9d2f-f618e0145e90"
   },
   "outputs": [
    {
     "data": {
      "text/plain": [
       "((533547, 39), (533547, 39), (533547, 39))"
      ]
     },
     "execution_count": 90,
     "metadata": {
      "tags": []
     },
     "output_type": "execute_result"
    }
   ],
   "source": [
    "train_encoder_inp.shape, train_decoder_inp.shape, train_decoder_out.shape"
   ]
  },
  {
   "cell_type": "code",
   "execution_count": null,
   "metadata": {
    "id": "jaLZrhKuzNu3"
   },
   "outputs": [],
   "source": [
    "# Tokenizing validation data, using tokenizer trained on train data\n",
    "\n",
    "val_encoder_inp = enc_tokenizer.texts_to_sequences(validation['question'])\n",
    "val_encoder_inp = pad_sequences(val_encoder_inp, maxlen=MAXLEN, padding='post')\n",
    "\n",
    "val_decoder_inp = dec_tokenizer.texts_to_sequences(validation['answer_inp'])\n",
    "val_decoder_inp = pad_sequences(val_decoder_inp, maxlen=MAXLEN, padding='post')\n",
    "\n",
    "val_decoder_out = dec_tokenizer.texts_to_sequences(validation['answer_out'])\n",
    "val_decoder_out = pad_sequences(val_decoder_out, maxlen=MAXLEN, padding='post')"
   ]
  },
  {
   "cell_type": "code",
   "execution_count": null,
   "metadata": {
    "colab": {
     "base_uri": "https://localhost:8080/",
     "height": 34
    },
    "executionInfo": {
     "elapsed": 37616,
     "status": "ok",
     "timestamp": 1601010982305,
     "user": {
      "displayName": "Subrata Maji",
      "photoUrl": "https://lh3.googleusercontent.com/a-/AOh14Ghxu8VIGqB6XL51-t5wM_f1R1LdmEePYHIwb9b-=s64",
      "userId": "03124174213573157612"
     },
     "user_tz": -330
    },
    "id": "b9AluCx6z0fK",
    "outputId": "df05243a-7e5c-4f90-ff06-59c3d9197666"
   },
   "outputs": [
    {
     "data": {
      "text/plain": [
       "((177849, 39), (177849, 39), (177849, 39))"
      ]
     },
     "execution_count": 92,
     "metadata": {
      "tags": []
     },
     "output_type": "execute_result"
    }
   ],
   "source": [
    "val_encoder_inp.shape, val_decoder_inp.shape, val_decoder_out.shape"
   ]
  },
  {
   "cell_type": "code",
   "execution_count": null,
   "metadata": {
    "id": "Jgne_l5bz3_8"
   },
   "outputs": [],
   "source": [
    "# Saving to disk\n",
    "pickle.dump((train_encoder_inp, train_decoder_inp, train_decoder_out), open(TOSAVE+'spelltrain_tokens.pkl', 'wb'))\n",
    "pickle.dump((val_encoder_inp, val_decoder_inp, val_decoder_out), open(TOSAVE+'spellval_token.pkl', 'wb'))"
   ]
  },
  {
   "cell_type": "code",
   "execution_count": null,
   "metadata": {
    "id": "v3ajr3jVGU_i"
   },
   "outputs": [],
   "source": [
    "# Load data\n",
    "train_encoder_inp, train_decoder_inp, train_decoder_out = pickle.load(open('train_tokens.pkl', 'rb'))\n",
    "val_encoder_inp, val_decoder_inp, val_decoder_out = pickle.load(open('val_token.pkl', 'rb'))"
   ]
  },
  {
   "cell_type": "code",
   "execution_count": null,
   "metadata": {
    "colab": {
     "base_uri": "https://localhost:8080/",
     "height": 34
    },
    "executionInfo": {
     "elapsed": 1217,
     "status": "ok",
     "timestamp": 1599732496484,
     "user": {
      "displayName": "Subrata Maji",
      "photoUrl": "https://lh3.googleusercontent.com/a-/AOh14Ghxu8VIGqB6XL51-t5wM_f1R1LdmEePYHIwb9b-=s64",
      "userId": "03124174213573157612"
     },
     "user_tz": -330
    },
    "id": "VGZ1Niewd_TC",
    "outputId": "0a7b4505-429a-4246-8c37-e48ca32414cf"
   },
   "outputs": [
    {
     "data": {
      "text/plain": [
       "((530173, 38), (530173, 38), (530173, 38))"
      ]
     },
     "execution_count": 6,
     "metadata": {
      "tags": []
     },
     "output_type": "execute_result"
    }
   ],
   "source": [
    "train_encoder_inp.shape, train_decoder_inp.shape, train_decoder_out.shape"
   ]
  },
  {
   "cell_type": "code",
   "execution_count": null,
   "metadata": {
    "colab": {
     "base_uri": "https://localhost:8080/",
     "height": 34
    },
    "executionInfo": {
     "elapsed": 1097,
     "status": "ok",
     "timestamp": 1599732501603,
     "user": {
      "displayName": "Subrata Maji",
      "photoUrl": "https://lh3.googleusercontent.com/a-/AOh14Ghxu8VIGqB6XL51-t5wM_f1R1LdmEePYHIwb9b-=s64",
      "userId": "03124174213573157612"
     },
     "user_tz": -330
    },
    "id": "ehmZKAW9eBU1",
    "outputId": "f68343e5-07b1-4dae-c364-a320994da698"
   },
   "outputs": [
    {
     "data": {
      "text/plain": [
       "((176725, 38), (176725, 38), (176725, 38))"
      ]
     },
     "execution_count": 7,
     "metadata": {
      "tags": []
     },
     "output_type": "execute_result"
    }
   ],
   "source": [
    "val_encoder_inp.shape, val_decoder_inp.shape, val_decoder_out.shape"
   ]
  },
  {
   "cell_type": "markdown",
   "metadata": {
    "id": "Z9u-jo31IN7K"
   },
   "source": [
    "## Pre trained Embedding matrix"
   ]
  },
  {
   "cell_type": "code",
   "execution_count": null,
   "metadata": {
    "colab": {
     "base_uri": "https://localhost:8080/",
     "height": 85
    },
    "executionInfo": {
     "elapsed": 3692,
     "status": "ok",
     "timestamp": 1601011221324,
     "user": {
      "displayName": "Subrata Maji",
      "photoUrl": "https://lh3.googleusercontent.com/a-/AOh14Ghxu8VIGqB6XL51-t5wM_f1R1LdmEePYHIwb9b-=s64",
      "userId": "03124174213573157612"
     },
     "user_tz": -330
    },
    "id": "Av2mSjbd0OB4",
    "outputId": "036d729b-6106-42cf-9ea2-38a0c16030bb"
   },
   "outputs": [
    {
     "name": "stdout",
     "output_type": "stream",
     "text": [
      "Requirement already satisfied: fasttext in /usr/local/lib/python3.6/dist-packages (0.9.2)\n",
      "Requirement already satisfied: setuptools>=0.7.0 in /usr/local/lib/python3.6/dist-packages (from fasttext) (50.3.0)\n",
      "Requirement already satisfied: numpy in /usr/local/lib/python3.6/dist-packages (from fasttext) (1.18.5)\n",
      "Requirement already satisfied: pybind11>=2.2 in /usr/local/lib/python3.6/dist-packages (from fasttext) (2.5.0)\n"
     ]
    }
   ],
   "source": [
    "!pip install fasttext"
   ]
  },
  {
   "cell_type": "code",
   "execution_count": null,
   "metadata": {
    "colab": {
     "base_uri": "https://localhost:8080/",
     "height": 68
    },
    "executionInfo": {
     "elapsed": 932574,
     "status": "ok",
     "timestamp": 1601012184733,
     "user": {
      "displayName": "Subrata Maji",
      "photoUrl": "https://lh3.googleusercontent.com/a-/AOh14Ghxu8VIGqB6XL51-t5wM_f1R1LdmEePYHIwb9b-=s64",
      "userId": "03124174213573157612"
     },
     "user_tz": -330
    },
    "id": "WM9vBKVFz6ef",
    "outputId": "a32ed0bb-327d-4c97-c783-d096b3d4ad5d"
   },
   "outputs": [
    {
     "name": "stdout",
     "output_type": "stream",
     "text": [
      "Downloading https://dl.fbaipublicfiles.com/fasttext/vectors-crawl/cc.en.300.bin.gz\n",
      "\n"
     ]
    },
    {
     "name": "stderr",
     "output_type": "stream",
     "text": [
      "Warning : `load_model` does not return WordVectorModel or SupervisedModel any more, but a `FastText` object which is very similar.\n"
     ]
    }
   ],
   "source": [
    "import fasttext\n",
    "import fasttext.util\n",
    "\n",
    "fasttext.util.download_model('en', if_exists='ignore')  # English\n",
    "ft = fasttext.load_model('cc.en.300.bin')"
   ]
  },
  {
   "cell_type": "code",
   "execution_count": null,
   "metadata": {
    "colab": {
     "base_uri": "https://localhost:8080/",
     "height": 34
    },
    "executionInfo": {
     "elapsed": 1167,
     "status": "ok",
     "timestamp": 1601012187920,
     "user": {
      "displayName": "Subrata Maji",
      "photoUrl": "https://lh3.googleusercontent.com/a-/AOh14Ghxu8VIGqB6XL51-t5wM_f1R1LdmEePYHIwb9b-=s64",
      "userId": "03124174213573157612"
     },
     "user_tz": -330
    },
    "id": "fYyoUViK0IW9",
    "outputId": "1c2ca575-b4bd-461b-eb6b-d31e14e0e17f"
   },
   "outputs": [
    {
     "data": {
      "text/plain": [
       "300"
      ]
     },
     "execution_count": 11,
     "metadata": {
      "tags": []
     },
     "output_type": "execute_result"
    }
   ],
   "source": [
    "#ft = fasttext.load_model('cc.en.300.bin')\n",
    "ft.get_dimension()"
   ]
  },
  {
   "cell_type": "code",
   "execution_count": null,
   "metadata": {
    "colab": {
     "base_uri": "https://localhost:8080/",
     "height": 34
    },
    "executionInfo": {
     "elapsed": 1197,
     "status": "ok",
     "timestamp": 1601012190882,
     "user": {
      "displayName": "Subrata Maji",
      "photoUrl": "https://lh3.googleusercontent.com/a-/AOh14Ghxu8VIGqB6XL51-t5wM_f1R1LdmEePYHIwb9b-=s64",
      "userId": "03124174213573157612"
     },
     "user_tz": -330
    },
    "id": "NNe4QEhiwsEr",
    "outputId": "3e693aa1-fc80-4cd6-d5dc-e8685882a5d0"
   },
   "outputs": [
    {
     "data": {
      "text/plain": [
       "(300,)"
      ]
     },
     "execution_count": 12,
     "metadata": {
      "tags": []
     },
     "output_type": "execute_result"
    }
   ],
   "source": [
    "ft.get_word_vector('hello').shape"
   ]
  },
  {
   "cell_type": "code",
   "execution_count": null,
   "metadata": {
    "id": "k_mllLnkaMai"
   },
   "outputs": [],
   "source": [
    "# Convertering question vocab to glove vectors\n",
    "qsn_embedding_matrix = np.zeros((QSN_VOCAB_SIZE+1, 300))\n",
    "for word, i in enc_tokenizer.word_index.items():\n",
    "    embedding_vector = ft.get_word_vector(word)\n",
    "    if embedding_vector is not None:\n",
    "        qsn_embedding_matrix[i] = embedding_vector"
   ]
  },
  {
   "cell_type": "code",
   "execution_count": null,
   "metadata": {
    "colab": {
     "base_uri": "https://localhost:8080/",
     "height": 34
    },
    "executionInfo": {
     "elapsed": 1128,
     "status": "ok",
     "timestamp": 1601012216749,
     "user": {
      "displayName": "Subrata Maji",
      "photoUrl": "https://lh3.googleusercontent.com/a-/AOh14Ghxu8VIGqB6XL51-t5wM_f1R1LdmEePYHIwb9b-=s64",
      "userId": "03124174213573157612"
     },
     "user_tz": -330
    },
    "id": "6XLP5Vv_awi1",
    "outputId": "84bd5e5a-82de-4cba-fc26-08a9a7b8a067"
   },
   "outputs": [
    {
     "data": {
      "text/plain": [
       "(46790, 300)"
      ]
     },
     "execution_count": 14,
     "metadata": {
      "tags": []
     },
     "output_type": "execute_result"
    }
   ],
   "source": [
    "qsn_embedding_matrix.shape"
   ]
  },
  {
   "cell_type": "code",
   "execution_count": null,
   "metadata": {
    "id": "5avPRp7Xa8pN"
   },
   "outputs": [],
   "source": [
    "# Converting answer vocab to glove vectors\n",
    "ans_embedding_matrix = np.zeros((ANS_VOCAB_SIZE+1, 300))\n",
    "for word, i in dec_tokenizer.word_index.items():\n",
    "    embedding_vector = ft.get_word_vector(word)\n",
    "    if embedding_vector is not None:\n",
    "        ans_embedding_matrix[i] = embedding_vector"
   ]
  },
  {
   "cell_type": "code",
   "execution_count": null,
   "metadata": {
    "colab": {
     "base_uri": "https://localhost:8080/",
     "height": 34
    },
    "executionInfo": {
     "elapsed": 711,
     "status": "ok",
     "timestamp": 1601012227073,
     "user": {
      "displayName": "Subrata Maji",
      "photoUrl": "https://lh3.googleusercontent.com/a-/AOh14Ghxu8VIGqB6XL51-t5wM_f1R1LdmEePYHIwb9b-=s64",
      "userId": "03124174213573157612"
     },
     "user_tz": -330
    },
    "id": "LvOkEAG2bNQu",
    "outputId": "ace01afa-cee0-42ba-e06f-5babdc341ed6"
   },
   "outputs": [
    {
     "data": {
      "text/plain": [
       "(25446, 300)"
      ]
     },
     "execution_count": 16,
     "metadata": {
      "tags": []
     },
     "output_type": "execute_result"
    }
   ],
   "source": [
    "ans_embedding_matrix.shape"
   ]
  },
  {
   "cell_type": "code",
   "execution_count": null,
   "metadata": {
    "id": "zJBOXBjmbXH3"
   },
   "outputs": [],
   "source": [
    "pickle.dump((qsn_embedding_matrix, ans_embedding_matrix), open(TOSAVE+'spellembedding_matrix.pkl', 'wb'))"
   ]
  },
  {
   "cell_type": "code",
   "execution_count": null,
   "metadata": {
    "id": "DK-gNkXvduNS"
   },
   "outputs": [],
   "source": [
    "# Load embedding\n",
    "qsn_embedding_matrix1, ans_embedding_matrix1 = pickle.load(open(TOSAVE+'spellembedding_matrix.pkl', 'rb'))"
   ]
  },
  {
   "cell_type": "code",
   "execution_count": null,
   "metadata": {
    "colab": {
     "base_uri": "https://localhost:8080/",
     "height": 34
    },
    "executionInfo": {
     "elapsed": 1145,
     "status": "ok",
     "timestamp": 1601012245234,
     "user": {
      "displayName": "Subrata Maji",
      "photoUrl": "https://lh3.googleusercontent.com/a-/AOh14Ghxu8VIGqB6XL51-t5wM_f1R1LdmEePYHIwb9b-=s64",
      "userId": "03124174213573157612"
     },
     "user_tz": -330
    },
    "id": "3N3hRj7hd4zc",
    "outputId": "3f7b1fdb-9313-410f-f8b0-cdbcf19f5748"
   },
   "outputs": [
    {
     "data": {
      "text/plain": [
       "((46790, 300), (25446, 300))"
      ]
     },
     "execution_count": 19,
     "metadata": {
      "tags": []
     },
     "output_type": "execute_result"
    }
   ],
   "source": [
    "qsn_embedding_matrix1.shape, ans_embedding_matrix1.shape"
   ]
  }
 ],
 "metadata": {
  "colab": {
   "authorship_tag": "ABX9TyMrkxfcL2OLF34dsX5IkL/b",
   "collapsed_sections": [],
   "name": "CS2_tokens Spell corrected.ipynb",
   "provenance": [
    {
     "file_id": "1N9CTRCS9AsfNx72pZTGj8fZ5asTBPB9K",
     "timestamp": 1600940084552
    }
   ],
   "toc_visible": true
  },
  "kernelspec": {
   "display_name": "Python 3",
   "language": "python",
   "name": "python3"
  },
  "language_info": {
   "codemirror_mode": {
    "name": "ipython",
    "version": 3
   },
   "file_extension": ".py",
   "mimetype": "text/x-python",
   "name": "python",
   "nbconvert_exporter": "python",
   "pygments_lexer": "ipython3",
   "version": "3.7.7"
  },
  "toc": {
   "base_numbering": 1,
   "nav_menu": {},
   "number_sections": true,
   "sideBar": true,
   "skip_h1_title": false,
   "title_cell": "Table of Contents",
   "title_sidebar": "Contents",
   "toc_cell": false,
   "toc_position": {},
   "toc_section_display": true,
   "toc_window_display": false
  }
 },
 "nbformat": 4,
 "nbformat_minor": 1
}
