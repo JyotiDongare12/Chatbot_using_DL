{
 "cells": [
  {
   "cell_type": "markdown",
   "metadata": {
    "colab_type": "text",
    "id": "Ev7Q1Bx8koQc"
   },
   "source": [
    "# Building a Chatbot using Customer support on Twitter"
   ]
  },
  {
   "cell_type": "markdown",
   "metadata": {
    "colab_type": "text",
    "id": "QKxZAxV0k8lD"
   },
   "source": [
    "## Source and Useful links\n",
    "\n",
    "Get the data from: https://www.kaggle.com/thoughtvector/customer-support-on-twitter\n",
    "\n",
    "Few useful blogs:\n",
    "1. https://blog.keras.io/a-ten-minute-introduction-to-sequence-to-sequence-learning-in-keras.html\n",
    "2. https://colab.research.google.com/drive/1FKhOYhOz8d6BKLVVwL1YMlmoFQ2ML1DS#scrollTo=2zBmN8qB3O-e&forceEdit=true&offline=true&sandboxMode=true\n"
   ]
  },
  {
   "cell_type": "markdown",
   "metadata": {
    "colab_type": "text",
    "id": "V88iqgMilivH"
   },
   "source": [
    "## Buisness Problem\n",
    "\n",
    "Chatbots are becoming more and more present in the lives of small and medium businesses. They are typically used as support for customer service, form-filling help, or treating large numbers of data. Chatbots are being made to ease the pain that the industries are facing today. However, today’s chatbots need to be intelligent, purposeful and accurate to survive.\n",
    "\n",
    "Need to create a chatbot that can  understand the intent of a customer's request, query or complains and respond with accurate, precise information that has to be understood by the customer. It needs to understand the customer’s demands even when the sentence is complex. It has to be intelligent enough to predict what the customer is looking for."
   ]
  },
  {
   "cell_type": "markdown",
   "metadata": {
    "colab_type": "text",
    "id": "Tuu2vAMEmTNl"
   },
   "source": [
    "## End Goal\n",
    "\n",
    "Using Deep learning and NLP to make these chapbots intelligent and make them able to understand customers intenet most of the time.\n",
    "\n",
    "There should be some other features that these chatbot should have, like: They should be accessible all the time, Can continue longer conversation and keep providing answers to customers, Flexible to work with many situation and industry and most important customer satisfaction.\n",
    "\n",
    "Chatbots should reduce human dependecy and process large volume of requests for industry and customer interaction and by this way it can save more time and money with results with better productiviy for the industry."
   ]
  },
  {
   "cell_type": "markdown",
   "metadata": {
    "colab_type": "text",
    "id": "nK5ar7s0msqw"
   },
   "source": [
    "## Performance Metrices\n",
    "1. Categorical cross-entropy to train the model\n",
    "2. BLEU score to check the translation"
   ]
  },
  {
   "cell_type": "markdown",
   "metadata": {
    "colab_type": "text",
    "id": "a0A8PWdKmy0f"
   },
   "source": [
    "## Constraints:\n",
    "1. Handling long and complex sentences\n",
    "2. Quicker response time\n",
    "3. Limitation of current NLP, to solve problems like mixing of local language and slangs"
   ]
  },
  {
   "cell_type": "markdown",
   "metadata": {
    "colab_type": "text",
    "id": "Mp9I6A58nNiL"
   },
   "source": [
    "# Exploratory Data Analysis"
   ]
  },
  {
   "cell_type": "code",
   "execution_count": null,
   "metadata": {
    "colab": {
     "base_uri": "https://localhost:8080/",
     "height": 34
    },
    "colab_type": "code",
    "executionInfo": {
     "elapsed": 80947,
     "status": "ok",
     "timestamp": 1600878986956,
     "user": {
      "displayName": "Subrata Maji",
      "photoUrl": "https://lh3.googleusercontent.com/a-/AOh14Ghxu8VIGqB6XL51-t5wM_f1R1LdmEePYHIwb9b-=s64",
      "userId": "03124174213573157612"
     },
     "user_tz": -330
    },
    "id": "1cag4cZbjfDh",
    "outputId": "40739b0e-fd0b-4847-de3b-a1eaf4771721"
   },
   "outputs": [
    {
     "name": "stdout",
     "output_type": "stream",
     "text": [
      "Mounted at /content/drive/\n"
     ]
    }
   ],
   "source": [
    "from google.colab import drive\n",
    "drive.mount('/content/drive/')"
   ]
  },
  {
   "cell_type": "markdown",
   "metadata": {
    "colab_type": "text",
    "id": "qhVXYVd_EAyx"
   },
   "source": [
    "## Importing Libraries"
   ]
  },
  {
   "cell_type": "code",
   "execution_count": null,
   "metadata": {
    "colab": {},
    "colab_type": "code",
    "id": "Tr-9WvO0k2bB"
   },
   "outputs": [],
   "source": [
    "import pandas as pd  # For csv and dataframe\n",
    "import numpy as np  # For array\n",
    "import pickle  # To save an load data\n",
    "import matplotlib.pyplot as plt  # For plotting\n",
    "import seaborn as sns  # For plotting\n",
    "from nltk.tokenize import word_tokenize  # Tokenizing sentences\n",
    "from textblob import TextBlob  # To get sentence length\n",
    "import re  # Regular expression\n",
    "from prettytable import PrettyTable  # To print in a table"
   ]
  },
  {
   "cell_type": "code",
   "execution_count": null,
   "metadata": {
    "colab": {
     "base_uri": "https://localhost:8080/",
     "height": 68
    },
    "colab_type": "code",
    "executionInfo": {
     "elapsed": 1828,
     "status": "ok",
     "timestamp": 1600880397397,
     "user": {
      "displayName": "Subrata Maji",
      "photoUrl": "https://lh3.googleusercontent.com/a-/AOh14Ghxu8VIGqB6XL51-t5wM_f1R1LdmEePYHIwb9b-=s64",
      "userId": "03124174213573157612"
     },
     "user_tz": -330
    },
    "id": "cdQXFiCHxM-V",
    "outputId": "2e1dfd79-74c3-4f26-d49c-175c5fc6f922"
   },
   "outputs": [
    {
     "name": "stdout",
     "output_type": "stream",
     "text": [
      "[nltk_data] Downloading package punkt to /root/nltk_data...\n",
      "[nltk_data]   Unzipping tokenizers/punkt.zip.\n"
     ]
    },
    {
     "data": {
      "text/plain": [
       "True"
      ]
     },
     "execution_count": 16,
     "metadata": {
      "tags": []
     },
     "output_type": "execute_result"
    }
   ],
   "source": [
    "import nltk\n",
    "nltk.download('punkt') "
   ]
  },
  {
   "cell_type": "markdown",
   "metadata": {
    "colab_type": "text",
    "id": "FHiVH8nbEGiN"
   },
   "source": [
    "## Loading Data"
   ]
  },
  {
   "cell_type": "code",
   "execution_count": null,
   "metadata": {
    "colab": {},
    "colab_type": "code",
    "id": "-vn6GQN8limy"
   },
   "outputs": [],
   "source": [
    "# Loading the data into dataframe\n",
    "tweets_df = pd.read_csv('twcs.csv', encoding='utf-8')"
   ]
  },
  {
   "cell_type": "code",
   "execution_count": null,
   "metadata": {
    "colab": {
     "base_uri": "https://localhost:8080/",
     "height": 34
    },
    "colab_type": "code",
    "executionInfo": {
     "elapsed": 12930,
     "status": "ok",
     "timestamp": 1600879015258,
     "user": {
      "displayName": "Subrata Maji",
      "photoUrl": "https://lh3.googleusercontent.com/a-/AOh14Ghxu8VIGqB6XL51-t5wM_f1R1LdmEePYHIwb9b-=s64",
      "userId": "03124174213573157612"
     },
     "user_tz": -330
    },
    "id": "ARLumgcfl_5S",
    "outputId": "edcc04bb-5ab4-4157-f5c7-eb05a6ac85a8"
   },
   "outputs": [
    {
     "data": {
      "text/plain": [
       "(2811774, 7)"
      ]
     },
     "execution_count": 5,
     "metadata": {
      "tags": []
     },
     "output_type": "execute_result"
    }
   ],
   "source": [
    "tweets_df.shape"
   ]
  },
  {
   "cell_type": "markdown",
   "metadata": {
    "colab_type": "text",
    "id": "l3zd9JvAEMED"
   },
   "source": [
    "## Basic Information of the Data"
   ]
  },
  {
   "cell_type": "code",
   "execution_count": null,
   "metadata": {
    "colab": {
     "base_uri": "https://localhost:8080/",
     "height": 255
    },
    "colab_type": "code",
    "executionInfo": {
     "elapsed": 616,
     "status": "ok",
     "timestamp": 1598895455322,
     "user": {
      "displayName": "Subrata Maji",
      "photoUrl": "https://lh3.googleusercontent.com/a-/AOh14Ghxu8VIGqB6XL51-t5wM_f1R1LdmEePYHIwb9b-=s64",
      "userId": "03124174213573157612"
     },
     "user_tz": -330
    },
    "id": "hJ5aFcYkmFQp",
    "outputId": "a56da1f2-9da1-4c7d-8a91-e28cfb729bb5"
   },
   "outputs": [
    {
     "name": "stdout",
     "output_type": "stream",
     "text": [
      "<class 'pandas.core.frame.DataFrame'>\n",
      "RangeIndex: 2811774 entries, 0 to 2811773\n",
      "Data columns (total 7 columns):\n",
      " #   Column                   Dtype  \n",
      "---  ------                   -----  \n",
      " 0   tweet_id                 int64  \n",
      " 1   author_id                object \n",
      " 2   inbound                  bool   \n",
      " 3   created_at               object \n",
      " 4   text                     object \n",
      " 5   response_tweet_id        object \n",
      " 6   in_response_to_tweet_id  float64\n",
      "dtypes: bool(1), float64(1), int64(1), object(4)\n",
      "memory usage: 131.4+ MB\n"
     ]
    }
   ],
   "source": [
    "tweets_df.info()"
   ]
  },
  {
   "cell_type": "code",
   "execution_count": null,
   "metadata": {
    "colab": {
     "base_uri": "https://localhost:8080/",
     "height": 204
    },
    "colab_type": "code",
    "executionInfo": {
     "elapsed": 624,
     "status": "ok",
     "timestamp": 1598895494037,
     "user": {
      "displayName": "Subrata Maji",
      "photoUrl": "https://lh3.googleusercontent.com/a-/AOh14Ghxu8VIGqB6XL51-t5wM_f1R1LdmEePYHIwb9b-=s64",
      "userId": "03124174213573157612"
     },
     "user_tz": -330
    },
    "id": "8ZGPBbmHmHd8",
    "outputId": "a419f527-f761-4d19-c037-5f207745ff32"
   },
   "outputs": [
    {
     "data": {
      "text/html": [
       "<div>\n",
       "<style scoped>\n",
       "    .dataframe tbody tr th:only-of-type {\n",
       "        vertical-align: middle;\n",
       "    }\n",
       "\n",
       "    .dataframe tbody tr th {\n",
       "        vertical-align: top;\n",
       "    }\n",
       "\n",
       "    .dataframe thead th {\n",
       "        text-align: right;\n",
       "    }\n",
       "</style>\n",
       "<table border=\"1\" class=\"dataframe\">\n",
       "  <thead>\n",
       "    <tr style=\"text-align: right;\">\n",
       "      <th></th>\n",
       "      <th>tweet_id</th>\n",
       "      <th>author_id</th>\n",
       "      <th>inbound</th>\n",
       "      <th>created_at</th>\n",
       "      <th>text</th>\n",
       "      <th>response_tweet_id</th>\n",
       "      <th>in_response_to_tweet_id</th>\n",
       "    </tr>\n",
       "  </thead>\n",
       "  <tbody>\n",
       "    <tr>\n",
       "      <th>0</th>\n",
       "      <td>1</td>\n",
       "      <td>sprintcare</td>\n",
       "      <td>False</td>\n",
       "      <td>Tue Oct 31 22:10:47 +0000 2017</td>\n",
       "      <td>@115712 I understand. I would like to assist y...</td>\n",
       "      <td>2</td>\n",
       "      <td>3.0</td>\n",
       "    </tr>\n",
       "    <tr>\n",
       "      <th>1</th>\n",
       "      <td>2</td>\n",
       "      <td>115712</td>\n",
       "      <td>True</td>\n",
       "      <td>Tue Oct 31 22:11:45 +0000 2017</td>\n",
       "      <td>@sprintcare and how do you propose we do that</td>\n",
       "      <td>NaN</td>\n",
       "      <td>1.0</td>\n",
       "    </tr>\n",
       "    <tr>\n",
       "      <th>2</th>\n",
       "      <td>3</td>\n",
       "      <td>115712</td>\n",
       "      <td>True</td>\n",
       "      <td>Tue Oct 31 22:08:27 +0000 2017</td>\n",
       "      <td>@sprintcare I have sent several private messag...</td>\n",
       "      <td>1</td>\n",
       "      <td>4.0</td>\n",
       "    </tr>\n",
       "    <tr>\n",
       "      <th>3</th>\n",
       "      <td>4</td>\n",
       "      <td>sprintcare</td>\n",
       "      <td>False</td>\n",
       "      <td>Tue Oct 31 21:54:49 +0000 2017</td>\n",
       "      <td>@115712 Please send us a Private Message so th...</td>\n",
       "      <td>3</td>\n",
       "      <td>5.0</td>\n",
       "    </tr>\n",
       "    <tr>\n",
       "      <th>4</th>\n",
       "      <td>5</td>\n",
       "      <td>115712</td>\n",
       "      <td>True</td>\n",
       "      <td>Tue Oct 31 21:49:35 +0000 2017</td>\n",
       "      <td>@sprintcare I did.</td>\n",
       "      <td>4</td>\n",
       "      <td>6.0</td>\n",
       "    </tr>\n",
       "  </tbody>\n",
       "</table>\n",
       "</div>"
      ],
      "text/plain": [
       "   tweet_id   author_id  ...  response_tweet_id in_response_to_tweet_id\n",
       "0         1  sprintcare  ...                  2                     3.0\n",
       "1         2      115712  ...                NaN                     1.0\n",
       "2         3      115712  ...                  1                     4.0\n",
       "3         4  sprintcare  ...                  3                     5.0\n",
       "4         5      115712  ...                  4                     6.0\n",
       "\n",
       "[5 rows x 7 columns]"
      ]
     },
     "execution_count": 17,
     "metadata": {
      "tags": []
     },
     "output_type": "execute_result"
    }
   ],
   "source": [
    "tweets_df.head()"
   ]
  },
  {
   "cell_type": "code",
   "execution_count": null,
   "metadata": {
    "colab": {
     "base_uri": "https://localhost:8080/",
     "height": 153
    },
    "colab_type": "code",
    "executionInfo": {
     "elapsed": 1451,
     "status": "ok",
     "timestamp": 1598895526278,
     "user": {
      "displayName": "Subrata Maji",
      "photoUrl": "https://lh3.googleusercontent.com/a-/AOh14Ghxu8VIGqB6XL51-t5wM_f1R1LdmEePYHIwb9b-=s64",
      "userId": "03124174213573157612"
     },
     "user_tz": -330
    },
    "id": "uaF8WFNtmRBf",
    "outputId": "f7d0c3ee-ad94-4694-ede4-6a980881b348"
   },
   "outputs": [
    {
     "data": {
      "text/plain": [
       "tweet_id                         0\n",
       "author_id                        0\n",
       "inbound                          0\n",
       "created_at                       0\n",
       "text                             0\n",
       "response_tweet_id          1040629\n",
       "in_response_to_tweet_id     794335\n",
       "dtype: int64"
      ]
     },
     "execution_count": 19,
     "metadata": {
      "tags": []
     },
     "output_type": "execute_result"
    }
   ],
   "source": [
    "# Checking for Null values\n",
    "tweets_df.isnull().sum()"
   ]
  },
  {
   "cell_type": "markdown",
   "metadata": {
    "colab_type": "text",
    "id": "vC1ohDelHa5a"
   },
   "source": [
    "## Creating Data with conversation"
   ]
  },
  {
   "cell_type": "markdown",
   "metadata": {
    "colab_type": "text",
    "id": "_27I-pWmER8l"
   },
   "source": [
    "Create another dataset containing a client's initial request and the company's response."
   ]
  },
  {
   "cell_type": "code",
   "execution_count": null,
   "metadata": {
    "colab": {},
    "colab_type": "code",
    "id": "zRVSrIEImuos"
   },
   "outputs": [],
   "source": [
    "#Refer: https://www.kaggle.com/snocco/textpreprocessing-on-twitter\n",
    "\n",
    "#first inbound = Richiesta iniziale di un cliente\n",
    "first_inbound = tweets_df[pd.isnull(tweets_df.in_response_to_tweet_id) & tweets_df.inbound]\n",
    "\n",
    "inbOutb = pd.merge(first_inbound, tweets_df, left_on='tweet_id', right_on='in_response_to_tweet_id').sample(frac=1)\n",
    "\n",
    "# Filter to only outbound replies (from companies)\n",
    "inbOutb = inbOutb[inbOutb.inbound_y ^ True]"
   ]
  },
  {
   "cell_type": "code",
   "execution_count": null,
   "metadata": {
    "colab": {
     "base_uri": "https://localhost:8080/",
     "height": 34
    },
    "colab_type": "code",
    "executionInfo": {
     "elapsed": 784,
     "status": "ok",
     "timestamp": 1600879033576,
     "user": {
      "displayName": "Subrata Maji",
      "photoUrl": "https://lh3.googleusercontent.com/a-/AOh14Ghxu8VIGqB6XL51-t5wM_f1R1LdmEePYHIwb9b-=s64",
      "userId": "03124174213573157612"
     },
     "user_tz": -330
    },
    "id": "mlhDc2Kjqera",
    "outputId": "c746508a-fdd5-4e02-8cf9-dc218a08adf7"
   },
   "outputs": [
    {
     "data": {
      "text/plain": [
       "(794299, 14)"
      ]
     },
     "execution_count": 7,
     "metadata": {
      "tags": []
     },
     "output_type": "execute_result"
    }
   ],
   "source": [
    "inbOutb.shape"
   ]
  },
  {
   "cell_type": "code",
   "execution_count": null,
   "metadata": {
    "colab": {
     "base_uri": "https://localhost:8080/",
     "height": 581
    },
    "colab_type": "code",
    "executionInfo": {
     "elapsed": 1010,
     "status": "ok",
     "timestamp": 1598896645604,
     "user": {
      "displayName": "Subrata Maji",
      "photoUrl": "https://lh3.googleusercontent.com/a-/AOh14Ghxu8VIGqB6XL51-t5wM_f1R1LdmEePYHIwb9b-=s64",
      "userId": "03124174213573157612"
     },
     "user_tz": -330
    },
    "id": "iyLEJk41qo0L",
    "outputId": "9bf2dc2f-06c8-4f6d-fc5f-a7557954f6eb"
   },
   "outputs": [
    {
     "data": {
      "text/html": [
       "<div>\n",
       "<style scoped>\n",
       "    .dataframe tbody tr th:only-of-type {\n",
       "        vertical-align: middle;\n",
       "    }\n",
       "\n",
       "    .dataframe tbody tr th {\n",
       "        vertical-align: top;\n",
       "    }\n",
       "\n",
       "    .dataframe thead th {\n",
       "        text-align: right;\n",
       "    }\n",
       "</style>\n",
       "<table border=\"1\" class=\"dataframe\">\n",
       "  <thead>\n",
       "    <tr style=\"text-align: right;\">\n",
       "      <th></th>\n",
       "      <th>tweet_id_x</th>\n",
       "      <th>author_id_x</th>\n",
       "      <th>inbound_x</th>\n",
       "      <th>created_at_x</th>\n",
       "      <th>text_x</th>\n",
       "      <th>response_tweet_id_x</th>\n",
       "      <th>in_response_to_tweet_id_x</th>\n",
       "      <th>tweet_id_y</th>\n",
       "      <th>author_id_y</th>\n",
       "      <th>inbound_y</th>\n",
       "      <th>created_at_y</th>\n",
       "      <th>text_y</th>\n",
       "      <th>response_tweet_id_y</th>\n",
       "      <th>in_response_to_tweet_id_y</th>\n",
       "    </tr>\n",
       "  </thead>\n",
       "  <tbody>\n",
       "    <tr>\n",
       "      <th>835252</th>\n",
       "      <td>2857369</td>\n",
       "      <td>219549</td>\n",
       "      <td>True</td>\n",
       "      <td>Mon Nov 27 21:29:50 +0000 2017</td>\n",
       "      <td>Hi @Uber_Support you told me someone would rin...</td>\n",
       "      <td>2857367</td>\n",
       "      <td>NaN</td>\n",
       "      <td>2857367</td>\n",
       "      <td>Uber_Support</td>\n",
       "      <td>False</td>\n",
       "      <td>Mon Nov 27 21:38:12 +0000 2017</td>\n",
       "      <td>@219549 So sorry to hear about your experience...</td>\n",
       "      <td>2857368</td>\n",
       "      <td>2857369.0</td>\n",
       "    </tr>\n",
       "    <tr>\n",
       "      <th>256832</th>\n",
       "      <td>946310</td>\n",
       "      <td>334373</td>\n",
       "      <td>True</td>\n",
       "      <td>Fri Oct 13 23:56:10 +0000 2017</td>\n",
       "      <td>Once again @UPSHelp you failed to provide the ...</td>\n",
       "      <td>946309,946311</td>\n",
       "      <td>NaN</td>\n",
       "      <td>946309</td>\n",
       "      <td>UPSHelp</td>\n",
       "      <td>False</td>\n",
       "      <td>Sat Oct 14 00:41:58 +0000 2017</td>\n",
       "      <td>@334373 Let us know how we can assist you. Cli...</td>\n",
       "      <td>NaN</td>\n",
       "      <td>946310.0</td>\n",
       "    </tr>\n",
       "    <tr>\n",
       "      <th>159957</th>\n",
       "      <td>597276</td>\n",
       "      <td>261613</td>\n",
       "      <td>True</td>\n",
       "      <td>Sun Dec 03 19:49:30 +0000 2017</td>\n",
       "      <td>@Uber_Support hello, how do you go about using...</td>\n",
       "      <td>597274</td>\n",
       "      <td>NaN</td>\n",
       "      <td>597274</td>\n",
       "      <td>Uber_Support</td>\n",
       "      <td>False</td>\n",
       "      <td>Sun Dec 03 19:54:33 +0000 2017</td>\n",
       "      <td>@261613 Hi there! Please reach out to https://...</td>\n",
       "      <td>597275</td>\n",
       "      <td>597276.0</td>\n",
       "    </tr>\n",
       "    <tr>\n",
       "      <th>625185</th>\n",
       "      <td>2170370</td>\n",
       "      <td>636682</td>\n",
       "      <td>True</td>\n",
       "      <td>Thu Nov 09 04:34:23 +0000 2017</td>\n",
       "      <td>Thought I would be lazy and use @116057 for di...</td>\n",
       "      <td>2170369</td>\n",
       "      <td>NaN</td>\n",
       "      <td>2170369</td>\n",
       "      <td>Postmates_Help</td>\n",
       "      <td>False</td>\n",
       "      <td>Thu Nov 09 04:36:11 +0000 2017</td>\n",
       "      <td>@636682 Hi, DM us with any questions or concer...</td>\n",
       "      <td>NaN</td>\n",
       "      <td>2170370.0</td>\n",
       "    </tr>\n",
       "    <tr>\n",
       "      <th>99591</th>\n",
       "      <td>380842</td>\n",
       "      <td>206322</td>\n",
       "      <td>True</td>\n",
       "      <td>Mon Oct 09 08:01:46 +0000 2017</td>\n",
       "      <td>@British_Airways hey morning BA, any contact i...</td>\n",
       "      <td>380841</td>\n",
       "      <td>NaN</td>\n",
       "      <td>380841</td>\n",
       "      <td>British_Airways</td>\n",
       "      <td>False</td>\n",
       "      <td>Mon Oct 09 09:18:37 +0000 2017</td>\n",
       "      <td>@206322 We're unable to advise, Naresh. Please...</td>\n",
       "      <td>NaN</td>\n",
       "      <td>380842.0</td>\n",
       "    </tr>\n",
       "  </tbody>\n",
       "</table>\n",
       "</div>"
      ],
      "text/plain": [
       "        tweet_id_x author_id_x  ...  response_tweet_id_y in_response_to_tweet_id_y\n",
       "835252     2857369      219549  ...              2857368                 2857369.0\n",
       "256832      946310      334373  ...                  NaN                  946310.0\n",
       "159957      597276      261613  ...               597275                  597276.0\n",
       "625185     2170370      636682  ...                  NaN                 2170370.0\n",
       "99591       380842      206322  ...                  NaN                  380842.0\n",
       "\n",
       "[5 rows x 14 columns]"
      ]
     },
     "execution_count": 35,
     "metadata": {
      "tags": []
     },
     "output_type": "execute_result"
    }
   ],
   "source": [
    "inbOutb.head()"
   ]
  },
  {
   "cell_type": "markdown",
   "metadata": {
    "colab_type": "text",
    "id": "z3t7-djLEhjH"
   },
   "source": [
    "text_x: Customers initial request, text_y: Companies response"
   ]
  },
  {
   "cell_type": "code",
   "execution_count": null,
   "metadata": {
    "colab": {
     "base_uri": "https://localhost:8080/",
     "height": 272
    },
    "colab_type": "code",
    "executionInfo": {
     "elapsed": 1999,
     "status": "ok",
     "timestamp": 1598903912786,
     "user": {
      "displayName": "Subrata Maji",
      "photoUrl": "https://lh3.googleusercontent.com/a-/AOh14Ghxu8VIGqB6XL51-t5wM_f1R1LdmEePYHIwb9b-=s64",
      "userId": "03124174213573157612"
     },
     "user_tz": -330
    },
    "id": "mElrD1Blqh-2",
    "outputId": "39e846a4-3f51-4a01-9cb4-a3bf72ea4fcd"
   },
   "outputs": [
    {
     "data": {
      "text/plain": [
       "tweet_id_x                        0\n",
       "author_id_x                       0\n",
       "inbound_x                         0\n",
       "created_at_x                      0\n",
       "text_x                            0\n",
       "response_tweet_id_x               0\n",
       "in_response_to_tweet_id_x    794299\n",
       "tweet_id_y                        0\n",
       "author_id_y                       0\n",
       "inbound_y                         0\n",
       "created_at_y                      0\n",
       "text_y                            0\n",
       "response_tweet_id_y          530528\n",
       "in_response_to_tweet_id_y         0\n",
       "dtype: int64"
      ]
     },
     "execution_count": 144,
     "metadata": {
      "tags": []
     },
     "output_type": "execute_result"
    }
   ],
   "source": [
    "inbOutb.isnull().sum()"
   ]
  },
  {
   "cell_type": "code",
   "execution_count": null,
   "metadata": {
    "colab": {},
    "colab_type": "code",
    "id": "H_OspsRUqlKm"
   },
   "outputs": [],
   "source": [
    "# Selecting only important colmns\n",
    "data = inbOutb[['author_id_x', 'created_at_x', 'text_x', 'author_id_y', 'created_at_y', 'text_y']]"
   ]
  },
  {
   "cell_type": "code",
   "execution_count": null,
   "metadata": {
    "colab": {
     "base_uri": "https://localhost:8080/",
     "height": 34
    },
    "colab_type": "code",
    "executionInfo": {
     "elapsed": 748,
     "status": "ok",
     "timestamp": 1600879043936,
     "user": {
      "displayName": "Subrata Maji",
      "photoUrl": "https://lh3.googleusercontent.com/a-/AOh14Ghxu8VIGqB6XL51-t5wM_f1R1LdmEePYHIwb9b-=s64",
      "userId": "03124174213573157612"
     },
     "user_tz": -330
    },
    "id": "PkrRTWl8rdEY",
    "outputId": "3824aac5-e2fe-4499-c402-a4d682345706"
   },
   "outputs": [
    {
     "data": {
      "text/plain": [
       "(794299, 6)"
      ]
     },
     "execution_count": 9,
     "metadata": {
      "tags": []
     },
     "output_type": "execute_result"
    }
   ],
   "source": [
    "data.shape"
   ]
  },
  {
   "cell_type": "code",
   "execution_count": null,
   "metadata": {
    "colab": {
     "base_uri": "https://localhost:8080/",
     "height": 289
    },
    "colab_type": "code",
    "executionInfo": {
     "elapsed": 831,
     "status": "ok",
     "timestamp": 1598903778628,
     "user": {
      "displayName": "Subrata Maji",
      "photoUrl": "https://lh3.googleusercontent.com/a-/AOh14Ghxu8VIGqB6XL51-t5wM_f1R1LdmEePYHIwb9b-=s64",
      "userId": "03124174213573157612"
     },
     "user_tz": -330
    },
    "id": "GQ8ZsgySre58",
    "outputId": "0db546b0-96bb-41fd-a0af-140318cf4efa"
   },
   "outputs": [
    {
     "data": {
      "text/html": [
       "<div>\n",
       "<style scoped>\n",
       "    .dataframe tbody tr th:only-of-type {\n",
       "        vertical-align: middle;\n",
       "    }\n",
       "\n",
       "    .dataframe tbody tr th {\n",
       "        vertical-align: top;\n",
       "    }\n",
       "\n",
       "    .dataframe thead th {\n",
       "        text-align: right;\n",
       "    }\n",
       "</style>\n",
       "<table border=\"1\" class=\"dataframe\">\n",
       "  <thead>\n",
       "    <tr style=\"text-align: right;\">\n",
       "      <th></th>\n",
       "      <th>author_id_x</th>\n",
       "      <th>created_at_x</th>\n",
       "      <th>text_x</th>\n",
       "      <th>author_id_y</th>\n",
       "      <th>created_at_y</th>\n",
       "      <th>text_y</th>\n",
       "    </tr>\n",
       "  </thead>\n",
       "  <tbody>\n",
       "    <tr>\n",
       "      <th>0</th>\n",
       "      <td>717257</td>\n",
       "      <td>Wed Nov 15 23:38:05 +0000 2017</td>\n",
       "      <td>@ATT might be nice to let your customers know ...</td>\n",
       "      <td>ATT</td>\n",
       "      <td>Wed Nov 15 23:51:43 +0000 2017</td>\n",
       "      <td>@717257 Hey, Ryan! We don't want you to be exp...</td>\n",
       "    </tr>\n",
       "    <tr>\n",
       "      <th>1</th>\n",
       "      <td>537020</td>\n",
       "      <td>Wed Oct 11 17:45:31 +0000 2017</td>\n",
       "      <td>love this! @537021 https://t.co/scTOz3hg8M</td>\n",
       "      <td>SouthwestAir</td>\n",
       "      <td>Wed Oct 11 17:49:47 +0000 2017</td>\n",
       "      <td>@537020 Thanks Denise! Just goes to show if yo...</td>\n",
       "    </tr>\n",
       "    <tr>\n",
       "      <th>2</th>\n",
       "      <td>414098</td>\n",
       "      <td>Wed Oct 25 22:43:52 +0000 2017</td>\n",
       "      <td>@British_Airways I need to transfer my avios p...</td>\n",
       "      <td>British_Airways</td>\n",
       "      <td>Thu Oct 26 06:18:53 +0000 2017</td>\n",
       "      <td>@414098 Hi Kate, the nominated head of the hou...</td>\n",
       "    </tr>\n",
       "    <tr>\n",
       "      <th>3</th>\n",
       "      <td>430610</td>\n",
       "      <td>Fri Oct 27 12:46:24 +0000 2017</td>\n",
       "      <td>@VirginTrains stuck in Euston. Will tickets be...</td>\n",
       "      <td>VirginTrains</td>\n",
       "      <td>Fri Oct 27 12:58:16 +0000 2017</td>\n",
       "      <td>@430610 We are awaiting an update as to when t...</td>\n",
       "    </tr>\n",
       "    <tr>\n",
       "      <th>4</th>\n",
       "      <td>318852</td>\n",
       "      <td>Fri Oct 13 01:51:40 +0000 2017</td>\n",
       "      <td>@Uber_Support how can I delete the only one cr...</td>\n",
       "      <td>Uber_Support</td>\n",
       "      <td>Fri Oct 13 08:18:54 +0000 2017</td>\n",
       "      <td>@318852 Hey Vincent, you can find out how to r...</td>\n",
       "    </tr>\n",
       "  </tbody>\n",
       "</table>\n",
       "</div>"
      ],
      "text/plain": [
       "  author_id_x  ...                                             text_y\n",
       "0      717257  ...  @717257 Hey, Ryan! We don't want you to be exp...\n",
       "1      537020  ...  @537020 Thanks Denise! Just goes to show if yo...\n",
       "2      414098  ...  @414098 Hi Kate, the nominated head of the hou...\n",
       "3      430610  ...  @430610 We are awaiting an update as to when t...\n",
       "4      318852  ...  @318852 Hey Vincent, you can find out how to r...\n",
       "\n",
       "[5 rows x 6 columns]"
      ]
     },
     "execution_count": 133,
     "metadata": {
      "tags": []
     },
     "output_type": "execute_result"
    }
   ],
   "source": [
    "data.head()"
   ]
  },
  {
   "cell_type": "code",
   "execution_count": null,
   "metadata": {
    "colab": {},
    "colab_type": "code",
    "id": "okWCGelxr8JY"
   },
   "outputs": [],
   "source": [
    "# Renaming columns\n",
    "data = data.rename(columns={'text_x':'question', 'text_y':'answer'})"
   ]
  },
  {
   "cell_type": "code",
   "execution_count": null,
   "metadata": {
    "colab": {
     "base_uri": "https://localhost:8080/",
     "height": 34
    },
    "colab_type": "code",
    "executionInfo": {
     "elapsed": 836,
     "status": "ok",
     "timestamp": 1600879051858,
     "user": {
      "displayName": "Subrata Maji",
      "photoUrl": "https://lh3.googleusercontent.com/a-/AOh14Ghxu8VIGqB6XL51-t5wM_f1R1LdmEePYHIwb9b-=s64",
      "userId": "03124174213573157612"
     },
     "user_tz": -330
    },
    "id": "vTXIbPrqF6B6",
    "outputId": "7f7d76e6-e162-4551-85f8-6647ceea2587"
   },
   "outputs": [
    {
     "data": {
      "text/plain": [
       "(794299, 6)"
      ]
     },
     "execution_count": 11,
     "metadata": {
      "tags": []
     },
     "output_type": "execute_result"
    }
   ],
   "source": [
    "data.shape"
   ]
  },
  {
   "cell_type": "code",
   "execution_count": null,
   "metadata": {
    "colab": {},
    "colab_type": "code",
    "id": "cPVSNDKHGckB"
   },
   "outputs": [],
   "source": [
    "# Saving to disk\n",
    "pickle.dump(data, open('data_conv.pkl', 'wb'))"
   ]
  },
  {
   "cell_type": "code",
   "execution_count": null,
   "metadata": {
    "colab": {},
    "colab_type": "code",
    "id": "t3Nvqm5pGnj1"
   },
   "outputs": [],
   "source": [
    "# Loading from disk\n",
    "data = pickle.load(open('data_conv.pkl', 'rb'))"
   ]
  },
  {
   "cell_type": "code",
   "execution_count": null,
   "metadata": {
    "colab": {
     "base_uri": "https://localhost:8080/",
     "height": 34
    },
    "colab_type": "code",
    "executionInfo": {
     "elapsed": 942,
     "status": "ok",
     "timestamp": 1599152706961,
     "user": {
      "displayName": "Subrata Maji",
      "photoUrl": "https://lh3.googleusercontent.com/a-/AOh14Ghxu8VIGqB6XL51-t5wM_f1R1LdmEePYHIwb9b-=s64",
      "userId": "03124174213573157612"
     },
     "user_tz": -330
    },
    "id": "RCB9VB6hGuJK",
    "outputId": "6314a2e4-9cce-4ea2-eefb-f7eb58252381"
   },
   "outputs": [
    {
     "data": {
      "text/plain": [
       "(794299, 6)"
      ]
     },
     "execution_count": 6,
     "metadata": {
      "tags": []
     },
     "output_type": "execute_result"
    }
   ],
   "source": [
    "data.shape"
   ]
  },
  {
   "cell_type": "code",
   "execution_count": null,
   "metadata": {
    "colab": {
     "base_uri": "https://localhost:8080/",
     "height": 289
    },
    "colab_type": "code",
    "executionInfo": {
     "elapsed": 901,
     "status": "ok",
     "timestamp": 1599152709653,
     "user": {
      "displayName": "Subrata Maji",
      "photoUrl": "https://lh3.googleusercontent.com/a-/AOh14Ghxu8VIGqB6XL51-t5wM_f1R1LdmEePYHIwb9b-=s64",
      "userId": "03124174213573157612"
     },
     "user_tz": -330
    },
    "id": "0XUM_-oHuBtm",
    "outputId": "fcc6957c-b582-417d-813f-55ec0d95699d"
   },
   "outputs": [
    {
     "data": {
      "text/html": [
       "<div>\n",
       "<style scoped>\n",
       "    .dataframe tbody tr th:only-of-type {\n",
       "        vertical-align: middle;\n",
       "    }\n",
       "\n",
       "    .dataframe tbody tr th {\n",
       "        vertical-align: top;\n",
       "    }\n",
       "\n",
       "    .dataframe thead th {\n",
       "        text-align: right;\n",
       "    }\n",
       "</style>\n",
       "<table border=\"1\" class=\"dataframe\">\n",
       "  <thead>\n",
       "    <tr style=\"text-align: right;\">\n",
       "      <th></th>\n",
       "      <th>author_id_x</th>\n",
       "      <th>created_at_x</th>\n",
       "      <th>question</th>\n",
       "      <th>author_id_y</th>\n",
       "      <th>created_at_y</th>\n",
       "      <th>answer</th>\n",
       "    </tr>\n",
       "  </thead>\n",
       "  <tbody>\n",
       "    <tr>\n",
       "      <th>251468</th>\n",
       "      <td>340004</td>\n",
       "      <td>Sat Oct 21 13:37:43 +0000 2017</td>\n",
       "      <td>@122172 need help</td>\n",
       "      <td>ATVIAssist</td>\n",
       "      <td>Sat Oct 21 14:21:21 +0000 2017</td>\n",
       "      <td>@340004 Hi. What's your platform &amp;amp; which c...</td>\n",
       "    </tr>\n",
       "    <tr>\n",
       "      <th>700147</th>\n",
       "      <td>693750</td>\n",
       "      <td>Tue Nov 14 16:46:49 +0000 2017</td>\n",
       "      <td>@115911 @TMobileHelp @115725 @ATT @115911 why ...</td>\n",
       "      <td>TMobileHelp</td>\n",
       "      <td>Tue Nov 14 16:50:00 +0000 2017</td>\n",
       "      <td>@693750 Hey thanks so much for reaching out! Y...</td>\n",
       "    </tr>\n",
       "    <tr>\n",
       "      <th>185503</th>\n",
       "      <td>284249</td>\n",
       "      <td>Thu Nov 23 13:33:12 +0000 2017</td>\n",
       "      <td>Oh course @115955 WiFi would go down on Thanks...</td>\n",
       "      <td>Ask_Spectrum</td>\n",
       "      <td>Thu Nov 23 13:48:06 +0000 2017</td>\n",
       "      <td>@284249 I'm sorry to hear about the service is...</td>\n",
       "    </tr>\n",
       "    <tr>\n",
       "      <th>870280</th>\n",
       "      <td>820001</td>\n",
       "      <td>Thu Nov 30 01:17:45 +0000 2017</td>\n",
       "      <td>When the vinaigrette from @ChipotleTweets is 1...</td>\n",
       "      <td>ChipotleTweets</td>\n",
       "      <td>Thu Nov 30 01:21:30 +0000 2017</td>\n",
       "      <td>@820001 Sorry to hear that. Did you let a mana...</td>\n",
       "    </tr>\n",
       "    <tr>\n",
       "      <th>424733</th>\n",
       "      <td>476849</td>\n",
       "      <td>Sat Nov 04 00:12:43 +0000 2017</td>\n",
       "      <td>PISSED OFF THAT @115888 FUCKING CHARGED ME FUL...</td>\n",
       "      <td>SpotifyCares</td>\n",
       "      <td>Sat Nov 04 01:28:45 +0000 2017</td>\n",
       "      <td>@476849 Hi! We've just sent a DM your way. Let...</td>\n",
       "    </tr>\n",
       "  </tbody>\n",
       "</table>\n",
       "</div>"
      ],
      "text/plain": [
       "       author_id_x  ...                                             answer\n",
       "251468      340004  ...  @340004 Hi. What's your platform &amp; which c...\n",
       "700147      693750  ...  @693750 Hey thanks so much for reaching out! Y...\n",
       "185503      284249  ...  @284249 I'm sorry to hear about the service is...\n",
       "870280      820001  ...  @820001 Sorry to hear that. Did you let a mana...\n",
       "424733      476849  ...  @476849 Hi! We've just sent a DM your way. Let...\n",
       "\n",
       "[5 rows x 6 columns]"
      ]
     },
     "execution_count": 7,
     "metadata": {
      "tags": []
     },
     "output_type": "execute_result"
    }
   ],
   "source": [
    "data.head()"
   ]
  },
  {
   "cell_type": "markdown",
   "metadata": {
    "colab_type": "text",
    "id": "c9II-c_LHX0Z"
   },
   "source": [
    "## EDA on Data"
   ]
  },
  {
   "cell_type": "markdown",
   "metadata": {
    "colab_type": "text",
    "id": "_67ASQbDHoLy"
   },
   "source": [
    "Checking tweets count by Company"
   ]
  },
  {
   "cell_type": "code",
   "execution_count": null,
   "metadata": {
    "colab": {},
    "colab_type": "code",
    "id": "sQW2x0CcuFq8"
   },
   "outputs": [],
   "source": [
    "# Plot top 50 frequent company\n",
    "keep_col = list(data['author_id_y'].value_counts()[:50].index)"
   ]
  },
  {
   "cell_type": "code",
   "execution_count": null,
   "metadata": {
    "colab": {},
    "colab_type": "code",
    "id": "4MWIm1nguODI"
   },
   "outputs": [],
   "source": [
    "# Except for top 50 company replacing all with \"others\"\n",
    "data['companies'] = data['author_id_y'].apply(lambda x:x if x in keep_col else 'others')"
   ]
  },
  {
   "cell_type": "code",
   "execution_count": null,
   "metadata": {
    "colab": {
     "base_uri": "https://localhost:8080/",
     "height": 592
    },
    "colab_type": "code",
    "executionInfo": {
     "elapsed": 3394,
     "status": "ok",
     "timestamp": 1598898088959,
     "user": {
      "displayName": "Subrata Maji",
      "photoUrl": "https://lh3.googleusercontent.com/a-/AOh14Ghxu8VIGqB6XL51-t5wM_f1R1LdmEePYHIwb9b-=s64",
      "userId": "03124174213573157612"
     },
     "user_tz": -330
    },
    "id": "tIydWTWNu5II",
    "outputId": "1cb6b136-da91-4fe3-ad5d-7d090d85c867"
   },
   "outputs": [
    {
     "data": {
      "image/png": "[encoded data removed]",
      "text/plain": [
       "<Figure size 1440x576 with 1 Axes>"
      ]
     },
     "metadata": {
      "tags": []
     },
     "output_type": "display_data"
    }
   ],
   "source": [
    "# Plot of number of tweets by each company\n",
    "plt.figure(figsize=(20,8))\n",
    "sns.set_style('darkgrid')\n",
    "sns.countplot(x='companies', data=data)\n",
    "plt.title(\"Most frequent companies in the data\")\n",
    "plt.xlabel(\"Company\")\n",
    "plt.ylabel(\"Count\")\n",
    "plt.xticks(rotation=90)\n",
    "plt.show()"
   ]
  },
  {
   "cell_type": "code",
   "execution_count": null,
   "metadata": {
    "colab": {},
    "colab_type": "code",
    "id": "n0Cf9KPTxm-F"
   },
   "outputs": [],
   "source": [
    "# Utility function\n",
    "\n",
    "#---------------------------------------------------------------\n",
    "# Basic stats\n",
    "#---------------------------------------------------------------\n",
    "def basic_statistics (columns, data=data):\n",
    "    \"\"\"\n",
    "    Return basic statistics like min, max and others\n",
    "    \"\"\"\n",
    "    x = PrettyTable()\n",
    "    header = [\"stats\"] + columns\n",
    "    result = {'minimum':[], 'maximum':[], 'mean':[], 'median':[], '25th per':[],\n",
    "              '50th per':[], '75th per':[], '90th per':[], '95th per':[], '99th per':[]}\n",
    "\n",
    "    for col in columns:\n",
    "        col_val = data[col].values\n",
    "        # Getting stats for the column\n",
    "        result['minimum'].append(np.round(col_val.min(),2))\n",
    "        result['maximum'].append(np.round(col_val.max(),2))\n",
    "        result['mean'].append(np.round(np.mean(col_val),2))\n",
    "        result['median'].append(np.round(np.median(col_val),2))\n",
    "        for p in [25, 50, 75, 90, 95, 99]:\n",
    "            result[str(p)+\"th per\"].append(np.round(np.percentile(col_val, p),2))\n",
    "    \n",
    "    # Printing results in a table\n",
    "    x.field_names = header\n",
    "    for tup in result.items():\n",
    "        x.add_row([tup[0]]+tup[1])\n",
    "    print(x)\n",
    "\n",
    "\n",
    "\n",
    "#---------------------------------------------------------------\n",
    "# Plotting Series\n",
    "#---------------------------------------------------------------\n",
    "def plot_func(columns, xlabel, ylabel, title, data=data, header=[\"Question\", \"Answer\"]):\n",
    "    \"\"\"\n",
    "    Plots pdf and boxplot on the given data\n",
    "    \"\"\"\n",
    "    sns.set_style('whitegrid')\n",
    "    fig = plt.figure(figsize=(18, 6))\n",
    "    \n",
    "    # Adding subplots\n",
    "    pdf = fig.add_subplot(1,2,1)\n",
    "    box = fig.add_subplot(1,2,2)\n",
    "    \n",
    "    # pdf/distplot\n",
    "    pdf.set(title=title, xlabel=xlabel, ylabel=ylabel)\n",
    "    for col in columns:\n",
    "        sns.distplot(data[col].values, hist=True, rug=True, ax=pdf, label=col)\n",
    "    pdf.legend()\n",
    "    \n",
    "    # boxplot\n",
    "    box.set(title=title, ylabel=xlabel)\n",
    "    sns.boxplot(data=data[columns], ax=box, orient='v')\n",
    "    box.set_xticklabels(columns)\n",
    "    \n",
    "    plt.plot()"
   ]
  },
  {
   "cell_type": "markdown",
   "metadata": {
    "colab_type": "text",
    "id": "L157OU0CIKna"
   },
   "source": [
    "### No of sentences in Text\n",
    "\n",
    "Checking for number of sentectes in Questions and Answers"
   ]
  },
  {
   "cell_type": "code",
   "execution_count": null,
   "metadata": {
    "colab": {},
    "colab_type": "code",
    "id": "A4Y9VBdIy_CM"
   },
   "outputs": [],
   "source": [
    "# Sentences in question\n",
    "data['qsn_len'] = data['question'].astype('str').apply(lambda x:len(TextBlob(x).sentences))"
   ]
  },
  {
   "cell_type": "code",
   "execution_count": null,
   "metadata": {
    "colab": {},
    "colab_type": "code",
    "id": "imqbWE5c323n"
   },
   "outputs": [],
   "source": [
    "# No of sentences in answer\n",
    "data['ans_len'] = data['answer'].astype('str').apply(lambda x:len(TextBlob(x).sentences))"
   ]
  },
  {
   "cell_type": "code",
   "execution_count": null,
   "metadata": {
    "colab": {
     "base_uri": "https://localhost:8080/",
     "height": 255
    },
    "colab_type": "code",
    "executionInfo": {
     "elapsed": 874,
     "status": "ok",
     "timestamp": 1600880619185,
     "user": {
      "displayName": "Subrata Maji",
      "photoUrl": "https://lh3.googleusercontent.com/a-/AOh14Ghxu8VIGqB6XL51-t5wM_f1R1LdmEePYHIwb9b-=s64",
      "userId": "03124174213573157612"
     },
     "user_tz": -330
    },
    "id": "8QEeiF94DzcD",
    "outputId": "1728f892-bfef-4d3b-9936-4d27f1dafcca"
   },
   "outputs": [
    {
     "name": "stdout",
     "output_type": "stream",
     "text": [
      "+----------+---------+---------+\n",
      "|  stats   | qsn_len | ans_len |\n",
      "+----------+---------+---------+\n",
      "| minimum  |    1    |    1    |\n",
      "| maximum  |   107   |    11   |\n",
      "|   mean   |   2.05  |   2.67  |\n",
      "|  median  |   2.0   |   3.0   |\n",
      "| 25th per |   1.0   |   2.0   |\n",
      "| 50th per |   2.0   |   3.0   |\n",
      "| 75th per |   3.0   |   3.0   |\n",
      "| 90th per |   3.0   |   4.0   |\n",
      "| 95th per |   4.0   |   4.0   |\n",
      "| 99th per |   5.0   |   5.0   |\n",
      "+----------+---------+---------+\n"
     ]
    }
   ],
   "source": [
    "basic_statistics(['qsn_len', 'ans_len'])"
   ]
  },
  {
   "cell_type": "code",
   "execution_count": null,
   "metadata": {
    "colab": {
     "base_uri": "https://localhost:8080/",
     "height": 404
    },
    "colab_type": "code",
    "executionInfo": {
     "elapsed": 22373,
     "status": "ok",
     "timestamp": 1600880869976,
     "user": {
      "displayName": "Subrata Maji",
      "photoUrl": "https://lh3.googleusercontent.com/a-/AOh14Ghxu8VIGqB6XL51-t5wM_f1R1LdmEePYHIwb9b-=s64",
      "userId": "03124174213573157612"
     },
     "user_tz": -330
    },
    "id": "YxovoTdQzW3w",
    "outputId": "c0cd43b6-d406-43f5-dac2-b8100eafdbce"
   },
   "outputs": [
    {
     "data": {
      "image/png": "[encoded data removed]",
      "text/plain": [
       "<Figure size 1296x432 with 2 Axes>"
      ]
     },
     "metadata": {
      "tags": []
     },
     "output_type": "display_data"
    }
   ],
   "source": [
    "plot_func(['qsn_len', 'ans_len'], 'Question Length', 'Fraction', 'Plots for length of Questions')"
   ]
  },
  {
   "cell_type": "markdown",
   "metadata": {
    "colab_type": "text",
    "id": "YC_OlNUsIV2l"
   },
   "source": [
    "Questions:\n",
    "1. No of sentences in questions starts from 1 to 107.\n",
    "2. Most of text has less than 5 sentences. That is 99% percentile of rows has 5 or less sentences.\n",
    "3. Few lines have 107 sentence, that's unusual. But as the data is restricted to 140 words we don't need to worry much abou that.\n",
    "\n",
    "Answers:\n",
    "1. In answer No of sent starts from 1 to 11.\n",
    "2. Most of the lines has less than 5 sentences\n",
    "3. Max no of sentence is also 11. That's normal."
   ]
  },
  {
   "cell_type": "markdown",
   "metadata": {
    "colab_type": "text",
    "id": "Bt_bXraRJJTd"
   },
   "source": [
    "### Count of words present in Text\n",
    "Number of words present in the text. Checking in questions and answers how many words they are consists with."
   ]
  },
  {
   "cell_type": "code",
   "execution_count": null,
   "metadata": {
    "colab": {},
    "colab_type": "code",
    "id": "i24fP0I062sY"
   },
   "outputs": [],
   "source": [
    "# Word counts in question\n",
    "data['qsn_words'] = data['question'].astype('str').apply(lambda x: len(x.strip().split()))\n",
    "\n",
    "# Word counts in answer\n",
    "data['ans_words'] = data['answer'].astype('str').apply(lambda x: len(x.strip().split()))"
   ]
  },
  {
   "cell_type": "code",
   "execution_count": null,
   "metadata": {
    "colab": {
     "base_uri": "https://localhost:8080/",
     "height": 255
    },
    "colab_type": "code",
    "executionInfo": {
     "elapsed": 1391,
     "status": "ok",
     "timestamp": 1600880965005,
     "user": {
      "displayName": "Subrata Maji",
      "photoUrl": "https://lh3.googleusercontent.com/a-/AOh14Ghxu8VIGqB6XL51-t5wM_f1R1LdmEePYHIwb9b-=s64",
      "userId": "03124174213573157612"
     },
     "user_tz": -330
    },
    "id": "EFWAHoQx7P0Q",
    "outputId": "b5561bff-26e7-4965-f6b0-ef8c4e337889"
   },
   "outputs": [
    {
     "name": "stdout",
     "output_type": "stream",
     "text": [
      "+----------+-----------+-----------+\n",
      "|  stats   | qsn_words | ans_words |\n",
      "+----------+-----------+-----------+\n",
      "| minimum  |     1     |     1     |\n",
      "| maximum  |    112    |     66    |\n",
      "|   mean   |   20.38   |   20.68   |\n",
      "|  median  |    20.0   |    20.0   |\n",
      "| 25th per |    14.0   |    16.0   |\n",
      "| 50th per |    20.0   |    20.0   |\n",
      "| 75th per |    25.0   |    24.0   |\n",
      "| 90th per |    32.0   |    29.0   |\n",
      "| 95th per |    40.0   |    36.0   |\n",
      "| 99th per |    51.0   |    47.0   |\n",
      "+----------+-----------+-----------+\n"
     ]
    }
   ],
   "source": [
    "basic_statistics(['qsn_words', 'ans_words'])"
   ]
  },
  {
   "cell_type": "code",
   "execution_count": null,
   "metadata": {
    "colab": {
     "base_uri": "https://localhost:8080/",
     "height": 404
    },
    "colab_type": "code",
    "executionInfo": {
     "elapsed": 21452,
     "status": "ok",
     "timestamp": 1600881041308,
     "user": {
      "displayName": "Subrata Maji",
      "photoUrl": "https://lh3.googleusercontent.com/a-/AOh14Ghxu8VIGqB6XL51-t5wM_f1R1LdmEePYHIwb9b-=s64",
      "userId": "03124174213573157612"
     },
     "user_tz": -330
    },
    "id": "iSR1eC0U7Z23",
    "outputId": "fa035cae-5c1f-40a1-8673-0607be072fcb"
   },
   "outputs": [
    {
     "data": {
      "image/png": "[encoded data removed]",
      "text/plain": [
       "<Figure size 1296x432 with 2 Axes>"
      ]
     },
     "metadata": {
      "tags": []
     },
     "output_type": "display_data"
    }
   ],
   "source": [
    "plot_func(['qsn_words', 'ans_words'], 'Counts of words', 'fraction', 'Plots of No of Words in Text')"
   ]
  },
  {
   "cell_type": "markdown",
   "metadata": {
    "colab_type": "text",
    "id": "DGTYLby1JVKE"
   },
   "source": [
    "Questions:\n",
    "1. Min value of count is 1, that means 1 word in the line.\n",
    "2. Max word is 112. The sentence consist of small small charecters\n",
    "3. Most of the lines are having word count less than 50\n",
    "4. In pdf we can see the value lies between 0 to 60 words in a line. IQR 14-24\n",
    "\n",
    "Answers:\n",
    "1. Min value is 1 and max is 66. We can observe that answer column is lots more sensible than question column.\n",
    "2. Most of the lines have values less than 46 words.\n",
    "3. In pdf most 0-50 words have high percentage of occurance.\n",
    "4. IQR value is 14-24. Same as 'question'. So both the data are somewhat similar in structure."
   ]
  },
  {
   "cell_type": "markdown",
   "metadata": {
    "colab_type": "text",
    "id": "xwbh-ZfPhjrj"
   },
   "source": [
    "### Number of mentions (words starting with '@')"
   ]
  },
  {
   "cell_type": "code",
   "execution_count": null,
   "metadata": {
    "colab": {},
    "colab_type": "code",
    "id": "9VDgNKMqDysO"
   },
   "outputs": [],
   "source": [
    "data['qsn_mention'] = data['question'].apply(lambda x: len(re.findall(r\"@\\S+\", x)))\n",
    "data['ans_mention'] = data['answer'].apply(lambda x: len(re.findall(r\"@\\S+\", x)))"
   ]
  },
  {
   "cell_type": "code",
   "execution_count": null,
   "metadata": {
    "colab": {
     "base_uri": "https://localhost:8080/",
     "height": 408
    },
    "colab_type": "code",
    "executionInfo": {
     "elapsed": 861,
     "status": "ok",
     "timestamp": 1600881214387,
     "user": {
      "displayName": "Subrata Maji",
      "photoUrl": "https://lh3.googleusercontent.com/a-/AOh14Ghxu8VIGqB6XL51-t5wM_f1R1LdmEePYHIwb9b-=s64",
      "userId": "03124174213573157612"
     },
     "user_tz": -330
    },
    "id": "jLVetHPMJNRR",
    "outputId": "38679cfa-e71e-41cb-e987-4f4925d30b92"
   },
   "outputs": [
    {
     "data": {
      "text/plain": [
       "1     637766\n",
       "2      90761\n",
       "0      40925\n",
       "3      17524\n",
       "4       4729\n",
       "5       1522\n",
       "6        565\n",
       "7        232\n",
       "8        117\n",
       "9         60\n",
       "10        39\n",
       "11        24\n",
       "12         8\n",
       "14         8\n",
       "13         6\n",
       "16         6\n",
       "17         2\n",
       "24         1\n",
       "15         1\n",
       "19         1\n",
       "22         1\n",
       "25         1\n",
       "Name: qsn_mention, dtype: int64"
      ]
     },
     "execution_count": 38,
     "metadata": {
      "tags": []
     },
     "output_type": "execute_result"
    }
   ],
   "source": [
    "data['qsn_mention'].value_counts()"
   ]
  },
  {
   "cell_type": "code",
   "execution_count": null,
   "metadata": {
    "colab": {
     "base_uri": "https://localhost:8080/",
     "height": 289
    },
    "colab_type": "code",
    "executionInfo": {
     "elapsed": 814,
     "status": "ok",
     "timestamp": 1600881216796,
     "user": {
      "displayName": "Subrata Maji",
      "photoUrl": "https://lh3.googleusercontent.com/a-/AOh14Ghxu8VIGqB6XL51-t5wM_f1R1LdmEePYHIwb9b-=s64",
      "userId": "03124174213573157612"
     },
     "user_tz": -330
    },
    "id": "DW5ChaDzJRQp",
    "outputId": "3d148f50-99c6-4309-8deb-53a356a47d8a"
   },
   "outputs": [
    {
     "data": {
      "text/plain": [
       "1     770347\n",
       "2      21320\n",
       "3       1863\n",
       "4        392\n",
       "5        158\n",
       "6         70\n",
       "7         48\n",
       "11        27\n",
       "9         23\n",
       "10        22\n",
       "8         19\n",
       "12         4\n",
       "16         3\n",
       "15         2\n",
       "14         1\n",
       "Name: ans_mention, dtype: int64"
      ]
     },
     "execution_count": 39,
     "metadata": {
      "tags": []
     },
     "output_type": "execute_result"
    }
   ],
   "source": [
    "data['ans_mention'].value_counts()"
   ]
  },
  {
   "cell_type": "code",
   "execution_count": null,
   "metadata": {
    "colab": {
     "base_uri": "https://localhost:8080/",
     "height": 255
    },
    "colab_type": "code",
    "executionInfo": {
     "elapsed": 853,
     "status": "ok",
     "timestamp": 1600881228156,
     "user": {
      "displayName": "Subrata Maji",
      "photoUrl": "https://lh3.googleusercontent.com/a-/AOh14Ghxu8VIGqB6XL51-t5wM_f1R1LdmEePYHIwb9b-=s64",
      "userId": "03124174213573157612"
     },
     "user_tz": -330
    },
    "id": "yy86FTlkJWjy",
    "outputId": "7f106559-071f-4990-f84e-363ef77270f1"
   },
   "outputs": [
    {
     "name": "stdout",
     "output_type": "stream",
     "text": [
      "+----------+-------------+-------------+\n",
      "|  stats   | qsn_mention | ans_mention |\n",
      "+----------+-------------+-------------+\n",
      "| minimum  |      0      |      1      |\n",
      "| maximum  |      25     |      16     |\n",
      "|   mean   |     1.14    |     1.04    |\n",
      "|  median  |     1.0     |     1.0     |\n",
      "| 25th per |     1.0     |     1.0     |\n",
      "| 50th per |     1.0     |     1.0     |\n",
      "| 75th per |     1.0     |     1.0     |\n",
      "| 90th per |     2.0     |     1.0     |\n",
      "| 95th per |     2.0     |     1.0     |\n",
      "| 99th per |     3.0     |     2.0     |\n",
      "+----------+-------------+-------------+\n"
     ]
    }
   ],
   "source": [
    "basic_statistics(['qsn_mention', 'ans_mention'])"
   ]
  },
  {
   "cell_type": "code",
   "execution_count": null,
   "metadata": {
    "colab": {
     "base_uri": "https://localhost:8080/",
     "height": 404
    },
    "colab_type": "code",
    "executionInfo": {
     "elapsed": 23174,
     "status": "ok",
     "timestamp": 1600881282502,
     "user": {
      "displayName": "Subrata Maji",
      "photoUrl": "https://lh3.googleusercontent.com/a-/AOh14Ghxu8VIGqB6XL51-t5wM_f1R1LdmEePYHIwb9b-=s64",
      "userId": "03124174213573157612"
     },
     "user_tz": -330
    },
    "id": "uQtnawVPJggu",
    "outputId": "71fa4523-822d-49ca-a4fa-c1ee0765dfdd"
   },
   "outputs": [
    {
     "data": {
      "image/png": "[encoded data removed]",
      "text/plain": [
       "<Figure size 1296x432 with 2 Axes>"
      ]
     },
     "metadata": {
      "tags": []
     },
     "output_type": "display_data"
    }
   ],
   "source": [
    "plot_func(['qsn_mention', 'ans_mention'], 'No of mentions', 'Fraction', 'Plot of total mentions')"
   ]
  },
  {
   "cell_type": "markdown",
   "metadata": {
    "colab_type": "text",
    "id": "senNkpeZhzBM"
   },
   "source": [
    "Questions:\n",
    "1. Maximum number of mentions in question is 25 and of answer its 16\n",
    "2. Generally users use more mentions than customer executive.\n",
    "3. This mentions are not adding any meaning to the text, so we will remove all the mentions and userid from text."
   ]
  },
  {
   "cell_type": "markdown",
   "metadata": {
    "colab_type": "text",
    "id": "mRbs_BU6iaoj"
   },
   "source": [
    "### Number of words with '#'"
   ]
  },
  {
   "cell_type": "code",
   "execution_count": null,
   "metadata": {
    "colab": {},
    "colab_type": "code",
    "id": "D_josEAVJxqg"
   },
   "outputs": [],
   "source": [
    "data['qsn_hashtag'] = data['question'].apply(lambda x: len(re.findall(r\"#\\S+\", x)))\n",
    "data['ans_hashtag'] = data['answer'].apply(lambda x: len(re.findall(r\"#\\S+\", x)))"
   ]
  },
  {
   "cell_type": "code",
   "execution_count": null,
   "metadata": {
    "colab": {
     "base_uri": "https://localhost:8080/",
     "height": 374
    },
    "colab_type": "code",
    "executionInfo": {
     "elapsed": 585,
     "status": "ok",
     "timestamp": 1600881310243,
     "user": {
      "displayName": "Subrata Maji",
      "photoUrl": "https://lh3.googleusercontent.com/a-/AOh14Ghxu8VIGqB6XL51-t5wM_f1R1LdmEePYHIwb9b-=s64",
      "userId": "03124174213573157612"
     },
     "user_tz": -330
    },
    "id": "6V3CAyi-KkEV",
    "outputId": "f9d8e1c9-9351-466c-c6a7-153bf157f745"
   },
   "outputs": [
    {
     "data": {
      "text/plain": [
       "0     675960\n",
       "1      75424\n",
       "2      27016\n",
       "3       9658\n",
       "4       3453\n",
       "5       1455\n",
       "6        643\n",
       "7        322\n",
       "8        163\n",
       "9         79\n",
       "10        41\n",
       "11        31\n",
       "12        17\n",
       "13         9\n",
       "14         8\n",
       "15         5\n",
       "16         4\n",
       "17         4\n",
       "19         4\n",
       "18         3\n",
       "Name: qsn_hashtag, dtype: int64"
      ]
     },
     "execution_count": 43,
     "metadata": {
      "tags": []
     },
     "output_type": "execute_result"
    }
   ],
   "source": [
    "data['qsn_hashtag'].value_counts()"
   ]
  },
  {
   "cell_type": "code",
   "execution_count": null,
   "metadata": {
    "colab": {
     "base_uri": "https://localhost:8080/",
     "height": 153
    },
    "colab_type": "code",
    "executionInfo": {
     "elapsed": 1010,
     "status": "ok",
     "timestamp": 1600881312345,
     "user": {
      "displayName": "Subrata Maji",
      "photoUrl": "https://lh3.googleusercontent.com/a-/AOh14Ghxu8VIGqB6XL51-t5wM_f1R1LdmEePYHIwb9b-=s64",
      "userId": "03124174213573157612"
     },
     "user_tz": -330
    },
    "id": "VV2emAqvKnk5",
    "outputId": "9f22b12f-f4f6-4861-ce51-220653e39499"
   },
   "outputs": [
    {
     "data": {
      "text/plain": [
       "0    779888\n",
       "1     13389\n",
       "2       947\n",
       "3        63\n",
       "6         7\n",
       "4         4\n",
       "5         1\n",
       "Name: ans_hashtag, dtype: int64"
      ]
     },
     "execution_count": 44,
     "metadata": {
      "tags": []
     },
     "output_type": "execute_result"
    }
   ],
   "source": [
    "data['ans_hashtag'].value_counts()"
   ]
  },
  {
   "cell_type": "code",
   "execution_count": null,
   "metadata": {
    "colab": {
     "base_uri": "https://localhost:8080/",
     "height": 255
    },
    "colab_type": "code",
    "executionInfo": {
     "elapsed": 822,
     "status": "ok",
     "timestamp": 1600881317659,
     "user": {
      "displayName": "Subrata Maji",
      "photoUrl": "https://lh3.googleusercontent.com/a-/AOh14Ghxu8VIGqB6XL51-t5wM_f1R1LdmEePYHIwb9b-=s64",
      "userId": "03124174213573157612"
     },
     "user_tz": -330
    },
    "id": "v0El8rbaKwcT",
    "outputId": "ab4df131-c817-485d-f8af-d450727dffe0"
   },
   "outputs": [
    {
     "name": "stdout",
     "output_type": "stream",
     "text": [
      "+----------+-------------+-------------+\n",
      "|  stats   | qsn_hashtag | ans_hashtag |\n",
      "+----------+-------------+-------------+\n",
      "| minimum  |      0      |      0      |\n",
      "| maximum  |      19     |      6      |\n",
      "|   mean   |     0.24    |     0.02    |\n",
      "|  median  |     0.0     |     0.0     |\n",
      "| 25th per |     0.0     |     0.0     |\n",
      "| 50th per |     0.0     |     0.0     |\n",
      "| 75th per |     0.0     |     0.0     |\n",
      "| 90th per |     1.0     |     0.0     |\n",
      "| 95th per |     2.0     |     0.0     |\n",
      "| 99th per |     3.0     |     1.0     |\n",
      "+----------+-------------+-------------+\n"
     ]
    }
   ],
   "source": [
    "basic_statistics(['qsn_hashtag', 'ans_hashtag'])"
   ]
  },
  {
   "cell_type": "code",
   "execution_count": null,
   "metadata": {
    "colab": {
     "base_uri": "https://localhost:8080/",
     "height": 404
    },
    "colab_type": "code",
    "executionInfo": {
     "elapsed": 21900,
     "status": "ok",
     "timestamp": 1600881367763,
     "user": {
      "displayName": "Subrata Maji",
      "photoUrl": "https://lh3.googleusercontent.com/a-/AOh14Ghxu8VIGqB6XL51-t5wM_f1R1LdmEePYHIwb9b-=s64",
      "userId": "03124174213573157612"
     },
     "user_tz": -330
    },
    "id": "r-6WwtXQK3GO",
    "outputId": "16def3cc-eee5-4ac6-c518-f177ad60c8df"
   },
   "outputs": [
    {
     "data": {
      "image/png": "[encoded data removed]",
      "text/plain": [
       "<Figure size 1296x432 with 2 Axes>"
      ]
     },
     "metadata": {
      "tags": []
     },
     "output_type": "display_data"
    }
   ],
   "source": [
    "plot_func(['qsn_hashtag', 'ans_hashtag'], 'No of hashtag', 'fractions', 'Total Hashtags in Text')"
   ]
  },
  {
   "cell_type": "markdown",
   "metadata": {
    "colab_type": "text",
    "id": "YTrlptAKinJS"
   },
   "source": [
    "1. Maximum value found in questions is 19 and in answers 6\n",
    "2. Use of hashtags are little less than use of mentions in twitter.\n",
    "3. But there are some people who tweets using only hashtag words and putting hashtags befor all of the words in their tweets.\n",
    "4. So we will not remove hashtags words, as they are generally part of the conversation and have some meaning."
   ]
  },
  {
   "cell_type": "code",
   "execution_count": null,
   "metadata": {
    "colab": {
     "base_uri": "https://localhost:8080/",
     "height": 1000
    },
    "colab_type": "code",
    "executionInfo": {
     "elapsed": 887,
     "status": "ok",
     "timestamp": 1599160877246,
     "user": {
      "displayName": "Subrata Maji",
      "photoUrl": "https://lh3.googleusercontent.com/a-/AOh14Ghxu8VIGqB6XL51-t5wM_f1R1LdmEePYHIwb9b-=s64",
      "userId": "03124174213573157612"
     },
     "user_tz": -330
    },
    "id": "EYMA77lJLBzN",
    "outputId": "0deaacdf-6224-4a85-d11d-dd4bb33343bb"
   },
   "outputs": [
    {
     "data": {
      "text/html": [
       "<div>\n",
       "<style scoped>\n",
       "    .dataframe tbody tr th:only-of-type {\n",
       "        vertical-align: middle;\n",
       "    }\n",
       "\n",
       "    .dataframe tbody tr th {\n",
       "        vertical-align: top;\n",
       "    }\n",
       "\n",
       "    .dataframe thead th {\n",
       "        text-align: right;\n",
       "    }\n",
       "</style>\n",
       "<table border=\"1\" class=\"dataframe\">\n",
       "  <thead>\n",
       "    <tr style=\"text-align: right;\">\n",
       "      <th></th>\n",
       "      <th>author_id_x</th>\n",
       "      <th>created_at_x</th>\n",
       "      <th>question</th>\n",
       "      <th>author_id_y</th>\n",
       "      <th>created_at_y</th>\n",
       "      <th>answer</th>\n",
       "      <th>qsn_len</th>\n",
       "      <th>ans_len</th>\n",
       "      <th>qsn_words</th>\n",
       "      <th>ans_words</th>\n",
       "      <th>qsn_mention</th>\n",
       "      <th>ans_mention</th>\n",
       "      <th>qsn_hashtag</th>\n",
       "      <th>ans_hashtag</th>\n",
       "    </tr>\n",
       "  </thead>\n",
       "  <tbody>\n",
       "    <tr>\n",
       "      <th>124826</th>\n",
       "      <td>228561</td>\n",
       "      <td>Fri Dec 01 09:04:58 +0000 2017</td>\n",
       "      <td>Hong Kong, No.5\\nPersonal Project\\n@British_Ai...</td>\n",
       "      <td>British_Airways</td>\n",
       "      <td>Fri Dec 01 12:03:15 +0000 2017</td>\n",
       "      <td>@228561 Thanks for sharing these with us, Chri...</td>\n",
       "      <td>1</td>\n",
       "      <td>3</td>\n",
       "      <td>23</td>\n",
       "      <td>21</td>\n",
       "      <td>1</td>\n",
       "      <td>1</td>\n",
       "      <td>16</td>\n",
       "      <td>0</td>\n",
       "    </tr>\n",
       "    <tr>\n",
       "      <th>143384</th>\n",
       "      <td>246040</td>\n",
       "      <td>Sat Dec 02 13:18:38 +0000 2017</td>\n",
       "      <td>Takeoff onboard @British_Airways @116705 #b767...</td>\n",
       "      <td>British_Airways</td>\n",
       "      <td>Sat Dec 02 15:51:45 +0000 2017</td>\n",
       "      <td>@246040 Enjoy the flight, Dan! ^Paul</td>\n",
       "      <td>1</td>\n",
       "      <td>2</td>\n",
       "      <td>26</td>\n",
       "      <td>6</td>\n",
       "      <td>3</td>\n",
       "      <td>1</td>\n",
       "      <td>17</td>\n",
       "      <td>0</td>\n",
       "    </tr>\n",
       "    <tr>\n",
       "      <th>785180</th>\n",
       "      <td>756978</td>\n",
       "      <td>Sun Nov 19 16:08:07 +0000 2017</td>\n",
       "      <td>A very #chocolatey #glutenfree #dessert @75652...</td>\n",
       "      <td>Tesco</td>\n",
       "      <td>Sun Nov 19 17:19:43 +0000 2017</td>\n",
       "      <td>@756978 Looks absolutely stunning 😍🤯 We bet it...</td>\n",
       "      <td>3</td>\n",
       "      <td>1</td>\n",
       "      <td>39</td>\n",
       "      <td>16</td>\n",
       "      <td>2</td>\n",
       "      <td>1</td>\n",
       "      <td>15</td>\n",
       "      <td>0</td>\n",
       "    </tr>\n",
       "    <tr>\n",
       "      <th>699754</th>\n",
       "      <td>693411</td>\n",
       "      <td>Tue Nov 14 14:37:03 +0000 2017</td>\n",
       "      <td>Come fly with me! Where would you like to go n...</td>\n",
       "      <td>British_Airways</td>\n",
       "      <td>Tue Nov 14 16:55:50 +0000 2017</td>\n",
       "      <td>@693411 @2532 Thanks for your lovely post, Tho...</td>\n",
       "      <td>3</td>\n",
       "      <td>3</td>\n",
       "      <td>33</td>\n",
       "      <td>21</td>\n",
       "      <td>3</td>\n",
       "      <td>2</td>\n",
       "      <td>17</td>\n",
       "      <td>0</td>\n",
       "    </tr>\n",
       "    <tr>\n",
       "      <th>618141</th>\n",
       "      <td>433449</td>\n",
       "      <td>Wed Nov 08 20:30:27 +0000 2017</td>\n",
       "      <td>#Flying to @141317 from @193789 on @SouthwestA...</td>\n",
       "      <td>SouthwestAir</td>\n",
       "      <td>Wed Nov 08 20:34:05 +0000 2017</td>\n",
       "      <td>@433449 It's always a pleasure to have you onb...</td>\n",
       "      <td>3</td>\n",
       "      <td>3</td>\n",
       "      <td>29</td>\n",
       "      <td>17</td>\n",
       "      <td>6</td>\n",
       "      <td>1</td>\n",
       "      <td>18</td>\n",
       "      <td>0</td>\n",
       "    </tr>\n",
       "    <tr>\n",
       "      <th>122849</th>\n",
       "      <td>226764</td>\n",
       "      <td>Fri Dec 01 01:51:59 +0000 2017</td>\n",
       "      <td>I received my new mini cards today. ❤️ Thank y...</td>\n",
       "      <td>MOO</td>\n",
       "      <td>Fri Dec 01 02:26:39 +0000 2017</td>\n",
       "      <td>@226764 Beautiful! Thanks so much for sharing! :)</td>\n",
       "      <td>5</td>\n",
       "      <td>3</td>\n",
       "      <td>32</td>\n",
       "      <td>8</td>\n",
       "      <td>1</td>\n",
       "      <td>1</td>\n",
       "      <td>16</td>\n",
       "      <td>0</td>\n",
       "    </tr>\n",
       "    <tr>\n",
       "      <th>848721</th>\n",
       "      <td>520008</td>\n",
       "      <td>Tue Nov 28 18:39:47 +0000 2017</td>\n",
       "      <td>A hazy morning while coming in for a landing. ...</td>\n",
       "      <td>Delta</td>\n",
       "      <td>Tue Nov 28 18:41:01 +0000 2017</td>\n",
       "      <td>@520008 Hi Adam, that photo is absolutely gorg...</td>\n",
       "      <td>3</td>\n",
       "      <td>3</td>\n",
       "      <td>34</td>\n",
       "      <td>15</td>\n",
       "      <td>2</td>\n",
       "      <td>1</td>\n",
       "      <td>19</td>\n",
       "      <td>0</td>\n",
       "    </tr>\n",
       "    <tr>\n",
       "      <th>662849</th>\n",
       "      <td>665423</td>\n",
       "      <td>Sun Nov 12 09:31:55 +0000 2017</td>\n",
       "      <td>#AmazonPrime, 2 #commandes dans la #semaine &amp;a...</td>\n",
       "      <td>AmazonHelp</td>\n",
       "      <td>Sun Nov 12 09:37:52 +0000 2017</td>\n",
       "      <td>@665423 Bonjour, désolée d'apprendre cela :/ q...</td>\n",
       "      <td>5</td>\n",
       "      <td>2</td>\n",
       "      <td>30</td>\n",
       "      <td>18</td>\n",
       "      <td>0</td>\n",
       "      <td>1</td>\n",
       "      <td>19</td>\n",
       "      <td>0</td>\n",
       "    </tr>\n",
       "    <tr>\n",
       "      <th>842780</th>\n",
       "      <td>228561</td>\n",
       "      <td>Tue Nov 28 08:22:29 +0000 2017</td>\n",
       "      <td>Hong Kong, No.2\\n@British_Airways \\nPersonal P...</td>\n",
       "      <td>British_Airways</td>\n",
       "      <td>Tue Nov 28 09:44:10 +0000 2017</td>\n",
       "      <td>@228561 Thanks for sharing, Chris! We hope to ...</td>\n",
       "      <td>1</td>\n",
       "      <td>3</td>\n",
       "      <td>24</td>\n",
       "      <td>14</td>\n",
       "      <td>1</td>\n",
       "      <td>1</td>\n",
       "      <td>17</td>\n",
       "      <td>0</td>\n",
       "    </tr>\n",
       "    <tr>\n",
       "      <th>631890</th>\n",
       "      <td>641576</td>\n",
       "      <td>Thu Oct 19 13:28:31 +0000 2017</td>\n",
       "      <td>#One #good #reason #not #to #close #your #wind...</td>\n",
       "      <td>AmericanAir</td>\n",
       "      <td>Thu Oct 19 13:30:02 +0000 2017</td>\n",
       "      <td>@641576 We're glad you kept your shade up. Thi...</td>\n",
       "      <td>3</td>\n",
       "      <td>2</td>\n",
       "      <td>21</td>\n",
       "      <td>13</td>\n",
       "      <td>3</td>\n",
       "      <td>1</td>\n",
       "      <td>16</td>\n",
       "      <td>0</td>\n",
       "    </tr>\n",
       "    <tr>\n",
       "      <th>158445</th>\n",
       "      <td>260195</td>\n",
       "      <td>Sun Dec 03 16:51:23 +0000 2017</td>\n",
       "      <td>#idea #idea4g #idealte #4G #4gIndia #4gsucks #...</td>\n",
       "      <td>idea_cares</td>\n",
       "      <td>Sun Dec 03 17:01:56 +0000 2017</td>\n",
       "      <td>@260195 Sorry for trouble.We are here to help ...</td>\n",
       "      <td>1</td>\n",
       "      <td>2</td>\n",
       "      <td>19</td>\n",
       "      <td>23</td>\n",
       "      <td>3</td>\n",
       "      <td>1</td>\n",
       "      <td>15</td>\n",
       "      <td>0</td>\n",
       "    </tr>\n",
       "    <tr>\n",
       "      <th>831779</th>\n",
       "      <td>228561</td>\n",
       "      <td>Mon Nov 27 16:58:18 +0000 2017</td>\n",
       "      <td>Hong Kong, No.I personal project #photography ...</td>\n",
       "      <td>British_Airways</td>\n",
       "      <td>Mon Nov 27 17:48:40 +0000 2017</td>\n",
       "      <td>@228561 Thanks for sharing your fascinating po...</td>\n",
       "      <td>1</td>\n",
       "      <td>3</td>\n",
       "      <td>25</td>\n",
       "      <td>17</td>\n",
       "      <td>1</td>\n",
       "      <td>1</td>\n",
       "      <td>18</td>\n",
       "      <td>0</td>\n",
       "    </tr>\n",
       "    <tr>\n",
       "      <th>807003</th>\n",
       "      <td>227651</td>\n",
       "      <td>Tue Nov 21 06:40:22 +0000 2017</td>\n",
       "      <td>Was a good season for Wet n Wild! 😗💟 #hallowee...</td>\n",
       "      <td>Walmart</td>\n",
       "      <td>Tue Nov 21 07:44:18 +0000 2017</td>\n",
       "      <td>@227651 That looks like a great haul! Those ar...</td>\n",
       "      <td>2</td>\n",
       "      <td>2</td>\n",
       "      <td>28</td>\n",
       "      <td>17</td>\n",
       "      <td>3</td>\n",
       "      <td>1</td>\n",
       "      <td>15</td>\n",
       "      <td>0</td>\n",
       "    </tr>\n",
       "    <tr>\n",
       "      <th>165803</th>\n",
       "      <td>266806</td>\n",
       "      <td>Wed Nov 22 11:07:24 +0000 2017</td>\n",
       "      <td>@British_Airways #B767 #ClubEurope #breakfast ...</td>\n",
       "      <td>British_Airways</td>\n",
       "      <td>Wed Nov 22 14:26:52 +0000 2017</td>\n",
       "      <td>@266806 Well, Pat, what can we say? Our mouths...</td>\n",
       "      <td>1</td>\n",
       "      <td>7</td>\n",
       "      <td>22</td>\n",
       "      <td>49</td>\n",
       "      <td>1</td>\n",
       "      <td>1</td>\n",
       "      <td>18</td>\n",
       "      <td>0</td>\n",
       "    </tr>\n",
       "    <tr>\n",
       "      <th>153775</th>\n",
       "      <td>255859</td>\n",
       "      <td>Sat Dec 02 16:11:54 +0000 2017</td>\n",
       "      <td>#Thankyou @marksandspencer #Brotherhood #Peter...</td>\n",
       "      <td>marksandspencer</td>\n",
       "      <td>Sun Dec 03 09:39:10 +0000 2017</td>\n",
       "      <td>@255859 This is great news Martine. We'll be s...</td>\n",
       "      <td>1</td>\n",
       "      <td>2</td>\n",
       "      <td>23</td>\n",
       "      <td>20</td>\n",
       "      <td>1</td>\n",
       "      <td>1</td>\n",
       "      <td>15</td>\n",
       "      <td>0</td>\n",
       "    </tr>\n",
       "    <tr>\n",
       "      <th>789626</th>\n",
       "      <td>321211</td>\n",
       "      <td>Sun Nov 19 23:59:30 +0000 2017</td>\n",
       "      <td>Silence has a myriad of meanings. In the theat...</td>\n",
       "      <td>Delta</td>\n",
       "      <td>Mon Nov 20 00:02:14 +0000 2017</td>\n",
       "      <td>@321211 Pleasure to have you with us! Have a g...</td>\n",
       "      <td>3</td>\n",
       "      <td>3</td>\n",
       "      <td>42</td>\n",
       "      <td>12</td>\n",
       "      <td>1</td>\n",
       "      <td>1</td>\n",
       "      <td>16</td>\n",
       "      <td>0</td>\n",
       "    </tr>\n",
       "    <tr>\n",
       "      <th>38974</th>\n",
       "      <td>151078</td>\n",
       "      <td>Wed Nov 22 05:48:26 +0000 2017</td>\n",
       "      <td>@marksandspencer  #seriously #amend #your #sit...</td>\n",
       "      <td>marksandspencer</td>\n",
       "      <td>Wed Nov 22 17:38:19 +0000 2017</td>\n",
       "      <td>@151078 We're sorry you're disappointed, Clair...</td>\n",
       "      <td>1</td>\n",
       "      <td>1</td>\n",
       "      <td>31</td>\n",
       "      <td>17</td>\n",
       "      <td>1</td>\n",
       "      <td>1</td>\n",
       "      <td>19</td>\n",
       "      <td>0</td>\n",
       "    </tr>\n",
       "    <tr>\n",
       "      <th>164773</th>\n",
       "      <td>265916</td>\n",
       "      <td>Sat Nov 25 05:45:05 +0000 2017</td>\n",
       "      <td>Touched down in sunny Cape Town with my #wingm...</td>\n",
       "      <td>British_Airways</td>\n",
       "      <td>Sat Nov 25 06:22:32 +0000 2017</td>\n",
       "      <td>@265916 You're making us all jealous! Have a w...</td>\n",
       "      <td>2</td>\n",
       "      <td>3</td>\n",
       "      <td>41</td>\n",
       "      <td>20</td>\n",
       "      <td>1</td>\n",
       "      <td>1</td>\n",
       "      <td>15</td>\n",
       "      <td>0</td>\n",
       "    </tr>\n",
       "    <tr>\n",
       "      <th>738145</th>\n",
       "      <td>722123</td>\n",
       "      <td>Thu Nov 16 09:41:54 +0000 2017</td>\n",
       "      <td>I got a new Mary the Owl today from @tesco she...</td>\n",
       "      <td>Tesco</td>\n",
       "      <td>Thu Nov 16 09:59:10 +0000 2017</td>\n",
       "      <td>@722123 Hi Bronson, I hope you treat Mary bett...</td>\n",
       "      <td>2</td>\n",
       "      <td>2</td>\n",
       "      <td>38</td>\n",
       "      <td>15</td>\n",
       "      <td>1</td>\n",
       "      <td>1</td>\n",
       "      <td>17</td>\n",
       "      <td>0</td>\n",
       "    </tr>\n",
       "    <tr>\n",
       "      <th>865598</th>\n",
       "      <td>433449</td>\n",
       "      <td>Wed Nov 29 19:39:42 +0000 2017</td>\n",
       "      <td>#Flying #Home to #LasVegas from #SanDiego on @...</td>\n",
       "      <td>SouthwestAir</td>\n",
       "      <td>Wed Nov 29 19:43:15 +0000 2017</td>\n",
       "      <td>@433449 We're happy to get you back to your ho...</td>\n",
       "      <td>2</td>\n",
       "      <td>3</td>\n",
       "      <td>33</td>\n",
       "      <td>23</td>\n",
       "      <td>6</td>\n",
       "      <td>1</td>\n",
       "      <td>19</td>\n",
       "      <td>0</td>\n",
       "    </tr>\n",
       "  </tbody>\n",
       "</table>\n",
       "</div>"
      ],
      "text/plain": [
       "       author_id_x                    created_at_x  ... qsn_hashtag ans_hashtag\n",
       "124826      228561  Fri Dec 01 09:04:58 +0000 2017  ...          16           0\n",
       "143384      246040  Sat Dec 02 13:18:38 +0000 2017  ...          17           0\n",
       "785180      756978  Sun Nov 19 16:08:07 +0000 2017  ...          15           0\n",
       "699754      693411  Tue Nov 14 14:37:03 +0000 2017  ...          17           0\n",
       "618141      433449  Wed Nov 08 20:30:27 +0000 2017  ...          18           0\n",
       "122849      226764  Fri Dec 01 01:51:59 +0000 2017  ...          16           0\n",
       "848721      520008  Tue Nov 28 18:39:47 +0000 2017  ...          19           0\n",
       "662849      665423  Sun Nov 12 09:31:55 +0000 2017  ...          19           0\n",
       "842780      228561  Tue Nov 28 08:22:29 +0000 2017  ...          17           0\n",
       "631890      641576  Thu Oct 19 13:28:31 +0000 2017  ...          16           0\n",
       "158445      260195  Sun Dec 03 16:51:23 +0000 2017  ...          15           0\n",
       "831779      228561  Mon Nov 27 16:58:18 +0000 2017  ...          18           0\n",
       "807003      227651  Tue Nov 21 06:40:22 +0000 2017  ...          15           0\n",
       "165803      266806  Wed Nov 22 11:07:24 +0000 2017  ...          18           0\n",
       "153775      255859  Sat Dec 02 16:11:54 +0000 2017  ...          15           0\n",
       "789626      321211  Sun Nov 19 23:59:30 +0000 2017  ...          16           0\n",
       "38974       151078  Wed Nov 22 05:48:26 +0000 2017  ...          19           0\n",
       "164773      265916  Sat Nov 25 05:45:05 +0000 2017  ...          15           0\n",
       "738145      722123  Thu Nov 16 09:41:54 +0000 2017  ...          17           0\n",
       "865598      433449  Wed Nov 29 19:39:42 +0000 2017  ...          19           0\n",
       "\n",
       "[20 rows x 14 columns]"
      ]
     },
     "execution_count": 157,
     "metadata": {
      "tags": []
     },
     "output_type": "execute_result"
    }
   ],
   "source": [
    "data[data['qsn_hashtag']>=15]"
   ]
  },
  {
   "cell_type": "code",
   "execution_count": null,
   "metadata": {
    "colab": {
     "base_uri": "https://localhost:8080/",
     "height": 34
    },
    "colab_type": "code",
    "executionInfo": {
     "elapsed": 945,
     "status": "ok",
     "timestamp": 1599159290908,
     "user": {
      "displayName": "Subrata Maji",
      "photoUrl": "https://lh3.googleusercontent.com/a-/AOh14Ghxu8VIGqB6XL51-t5wM_f1R1LdmEePYHIwb9b-=s64",
      "userId": "03124174213573157612"
     },
     "user_tz": -330
    },
    "id": "cn214Wi9Ujnk",
    "outputId": "8048ea76-775f-4c7d-f3c0-d8d27caacce8"
   },
   "outputs": [
    {
     "data": {
      "text/plain": [
       "(794299, 14)"
      ]
     },
     "execution_count": 130,
     "metadata": {
      "tags": []
     },
     "output_type": "execute_result"
    }
   ],
   "source": [
    "data.shape"
   ]
  },
  {
   "cell_type": "markdown",
   "metadata": {
    "colab_type": "text",
    "id": "pcHPwGNejbYd"
   },
   "source": [
    "Common hashtags in text:\n",
    "1. Just checking Tweets with common hashtags in question and answer.\n",
    "2. There are not many sentences with atleast 1 common hashtag"
   ]
  },
  {
   "cell_type": "code",
   "execution_count": null,
   "metadata": {
    "colab": {
     "base_uri": "https://localhost:8080/",
     "height": 119
    },
    "colab_type": "code",
    "executionInfo": {
     "elapsed": 3352,
     "status": "ok",
     "timestamp": 1599163705703,
     "user": {
      "displayName": "Subrata Maji",
      "photoUrl": "https://lh3.googleusercontent.com/a-/AOh14Ghxu8VIGqB6XL51-t5wM_f1R1LdmEePYHIwb9b-=s64",
      "userId": "03124174213573157612"
     },
     "user_tz": -330
    },
    "id": "i6yUevJUed4s",
    "outputId": "6ac49532-da1b-47a5-a80c-ee9db43228fd"
   },
   "outputs": [
    {
     "name": "stdout",
     "output_type": "stream",
     "text": [
      "{'#AAElevate'}\n",
      "{'#SomosLIVE'}\n",
      "{'#GoCougs'}\n",
      "{'#3'}\n",
      "{'#MVP'}\n",
      "{'#iFlyAlaska'}\n"
     ]
    }
   ],
   "source": [
    "for ind,row in data[data['ans_hashtag']>=3].iterrows():\n",
    "    q = set(re.findall(r\"#\\S+\", row['question']))\n",
    "    a = set(re.findall(r\"#\\S+\", row['answer']))\n",
    "    if (q.intersection(a)):\n",
    "        print(q.intersection(a))"
   ]
  },
  {
   "cell_type": "code",
   "execution_count": null,
   "metadata": {
    "colab": {},
    "colab_type": "code",
    "id": "wFwBsIIkLwbE"
   },
   "outputs": [],
   "source": []
  }
 ],
 "metadata": {
  "colab": {
   "authorship_tag": "ABX9TyOnla/jX9Uo52JoGRZqUdbY",
   "collapsed_sections": [],
   "name": "CS2_EDA_new.ipynb",
   "provenance": [
    {
     "file_id": "1C-MnFwFxCq_9_ht0R_tgz2ZR7BosDiTk",
     "timestamp": 1600881579179
    }
   ]
  },
  "kernelspec": {
   "display_name": "Python 3",
   "language": "python",
   "name": "python3"
  },
  "language_info": {
   "codemirror_mode": {
    "name": "ipython",
    "version": 3
   },
   "file_extension": ".py",
   "mimetype": "text/x-python",
   "name": "python",
   "nbconvert_exporter": "python",
   "pygments_lexer": "ipython3",
   "version": "3.7.7"
  },
  "toc": {
   "base_numbering": 1,
   "nav_menu": {},
   "number_sections": true,
   "sideBar": true,
   "skip_h1_title": false,
   "title_cell": "Table of Contents",
   "title_sidebar": "Contents",
   "toc_cell": false,
   "toc_position": {},
   "toc_section_display": true,
   "toc_window_display": true
  }
 },
 "nbformat": 4,
 "nbformat_minor": 1
}
