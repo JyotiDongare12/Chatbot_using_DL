{
 "cells": [
  {
   "cell_type": "markdown",
   "metadata": {
    "id": "CUL9RrezTGFB"
   },
   "source": [
    "# Data Cleaning"
   ]
  },
  {
   "cell_type": "code",
   "execution_count": null,
   "metadata": {
    "colab": {
     "base_uri": "https://localhost:8080/",
     "height": 34
    },
    "executionInfo": {
     "elapsed": 26500,
     "status": "ok",
     "timestamp": 1600881784466,
     "user": {
      "displayName": "Subrata Maji",
      "photoUrl": "https://lh3.googleusercontent.com/a-/AOh14Ghxu8VIGqB6XL51-t5wM_f1R1LdmEePYHIwb9b-=s64",
      "userId": "03124174213573157612"
     },
     "user_tz": -330
    },
    "id": "rQr-_3dYLPau",
    "outputId": "dfffcd87-bad2-46a4-e0ed-8dc9b56a777d"
   },
   "outputs": [
    {
     "name": "stdout",
     "output_type": "stream",
     "text": [
      "Mounted at /content/drive\n"
     ]
    }
   ],
   "source": [
    "from google.colab import drive\n",
    "drive.mount('/content/drive')"
   ]
  },
  {
   "cell_type": "markdown",
   "metadata": {
    "id": "S4O2wFphLUO2"
   },
   "source": [
    "## Importing Libraries"
   ]
  },
  {
   "cell_type": "code",
   "execution_count": null,
   "metadata": {
    "colab": {
     "base_uri": "https://localhost:8080/",
     "height": 71
    },
    "executionInfo": {
     "elapsed": 1475,
     "status": "ok",
     "timestamp": 1600881896392,
     "user": {
      "displayName": "Subrata Maji",
      "photoUrl": "https://lh3.googleusercontent.com/a-/AOh14Ghxu8VIGqB6XL51-t5wM_f1R1LdmEePYHIwb9b-=s64",
      "userId": "03124174213573157612"
     },
     "user_tz": -330
    },
    "id": "zG4cjuKWKYVj",
    "outputId": "d52be086-6cd6-404b-a777-1dde98634720"
   },
   "outputs": [
    {
     "name": "stderr",
     "output_type": "stream",
     "text": [
      "/usr/local/lib/python3.6/dist-packages/statsmodels/tools/_testing.py:19: FutureWarning: pandas.util.testing is deprecated. Use the functions in the public API at pandas.testing instead.\n",
      "  import pandas.util.testing as tm\n"
     ]
    }
   ],
   "source": [
    "import numpy as np\n",
    "import pandas as pd\n",
    "import re, string\n",
    "import nltk\n",
    "import spacy\n",
    "import pickle\n",
    "from tqdm import tqdm\n",
    "from bs4 import BeautifulSoup\n",
    "from prettytable import PrettyTable  # To print in a table\n",
    "\n",
    "import matplotlib.pyplot as plt\n",
    "import seaborn as sns"
   ]
  },
  {
   "cell_type": "code",
   "execution_count": null,
   "metadata": {
    "id": "roqvDutWLJkj"
   },
   "outputs": [],
   "source": [
    "# Loading data from disk\n",
    "data = pickle.load(open('data_conv.pkl', 'rb'))"
   ]
  },
  {
   "cell_type": "code",
   "execution_count": null,
   "metadata": {
    "colab": {
     "base_uri": "https://localhost:8080/",
     "height": 34
    },
    "executionInfo": {
     "elapsed": 2083,
     "status": "ok",
     "timestamp": 1599215099110,
     "user": {
      "displayName": "Subrata Maji",
      "photoUrl": "https://lh3.googleusercontent.com/a-/AOh14Ghxu8VIGqB6XL51-t5wM_f1R1LdmEePYHIwb9b-=s64",
      "userId": "03124174213573157612"
     },
     "user_tz": -330
    },
    "id": "eLWC5mv-L3EJ",
    "outputId": "a2097684-f216-421b-9541-9af96acb069c"
   },
   "outputs": [
    {
     "data": {
      "text/plain": [
       "(794299, 6)"
      ]
     },
     "execution_count": 5,
     "metadata": {
      "tags": []
     },
     "output_type": "execute_result"
    }
   ],
   "source": [
    "data.shape"
   ]
  },
  {
   "cell_type": "markdown",
   "metadata": {
    "id": "f6_pTHF-LgPl"
   },
   "source": [
    "## Data Preprocessing"
   ]
  },
  {
   "cell_type": "markdown",
   "metadata": {
    "id": "bWxUo7ZZ_E6m"
   },
   "source": [
    "### Plotting Functions"
   ]
  },
  {
   "cell_type": "code",
   "execution_count": null,
   "metadata": {
    "id": "zi4XP2i-_IJX"
   },
   "outputs": [],
   "source": [
    "# Utility function\n",
    "\n",
    "#---------------------------------------------------------------\n",
    "# Basic stats\n",
    "#---------------------------------------------------------------\n",
    "def basic_statistics (columns, data=data):\n",
    "    \"\"\"\n",
    "    Return basic statistics like min, max and others\n",
    "    \"\"\"\n",
    "    x = PrettyTable()\n",
    "    header = [\"stats\"] + columns\n",
    "    result = {'minimum':[], 'maximum':[], 'mean':[], 'median':[], '25th per':[],\n",
    "              '50th per':[], '75th per':[], '90th per':[], '95th per':[], '99th per':[]}\n",
    "\n",
    "    for col in columns:\n",
    "        col_val = data[col].values\n",
    "        # Getting stats for the column\n",
    "        result['minimum'].append(np.round(col_val.min(),2))\n",
    "        result['maximum'].append(np.round(col_val.max(),2))\n",
    "        result['mean'].append(np.round(np.mean(col_val),2))\n",
    "        result['median'].append(np.round(np.median(col_val),2))\n",
    "        for p in [25, 50, 75, 90, 95, 99]:\n",
    "            result[str(p)+\"th per\"].append(np.round(np.percentile(col_val, p),2))\n",
    "    \n",
    "    # Printing results in a table\n",
    "    x.field_names = header\n",
    "    for tup in result.items():\n",
    "        x.add_row([tup[0]]+tup[1])\n",
    "    print(x)\n",
    "\n",
    "\n",
    "\n",
    "#---------------------------------------------------------------\n",
    "# Plotting Series\n",
    "#---------------------------------------------------------------\n",
    "def plot_func(columns, xlabel, ylabel, title, data=data, header=[\"Question\", \"Answer\"]):\n",
    "    \"\"\"\n",
    "    Plots pdf and boxplot on the given data\n",
    "    \"\"\"\n",
    "    sns.set_style('whitegrid')\n",
    "    fig = plt.figure(figsize=(18, 6))\n",
    "    \n",
    "    # Adding subplots\n",
    "    pdf = fig.add_subplot(1,2,1)\n",
    "    box = fig.add_subplot(1,2,2)\n",
    "    \n",
    "    # pdf/distplot\n",
    "    pdf.set(title=title, xlabel=xlabel, ylabel=ylabel)\n",
    "    for col in columns:\n",
    "        sns.distplot(data[col].values, hist=True, rug=True, ax=pdf, label=col)\n",
    "    pdf.legend()\n",
    "    \n",
    "    # boxplot\n",
    "    box.set(title=title, ylabel=xlabel)\n",
    "    sns.boxplot(data=data[columns], ax=box, orient='v')\n",
    "    box.set_xticklabels(columns)\n",
    "    \n",
    "    plt.plot()"
   ]
  },
  {
   "cell_type": "markdown",
   "metadata": {
    "id": "KviXIgaWLktC"
   },
   "source": [
    "### Utility Functions"
   ]
  },
  {
   "cell_type": "code",
   "execution_count": null,
   "metadata": {
    "id": "szw34RmBQXcx"
   },
   "outputs": [],
   "source": [
    "def decontractions(phrase):\n",
    "    \"\"\"decontracted takes text and convert contractions into natural form.\n",
    "     ref: https://stackoverflow.com/questions/19790188/expanding-english-language-contractions-in-python/47091490#47091490\"\"\"\n",
    "    # specific\n",
    "    phrase = re.sub(r\"won\\'t\", \"will not\", phrase)\n",
    "    phrase = re.sub(r\"can\\'t\", \"can not\", phrase)\n",
    "    phrase = re.sub(r\"won\\’t\", \"will not\", phrase)\n",
    "    phrase = re.sub(r\"can\\’t\", \"can not\", phrase)\n",
    "    \n",
    "    # general\n",
    "    phrase = re.sub(r\"n\\'t\", \" not\", phrase)\n",
    "    phrase = re.sub(r\"\\'re\", \" are\", phrase)\n",
    "    phrase = re.sub(r\"\\'s\", \" is\", phrase)\n",
    "    phrase = re.sub(r\"\\'d\", \" would\", phrase)\n",
    "    phrase = re.sub(r\"\\'ll\", \" will\", phrase)\n",
    "    phrase = re.sub(r\"\\'t\", \" not\", phrase)\n",
    "    phrase = re.sub(r\"\\'ve\", \" have\", phrase)\n",
    "    phrase = re.sub(r\"\\'m\", \" am\", phrase)\n",
    "\n",
    "    phrase = re.sub(r\"n\\’t\", \" not\", phrase)\n",
    "    phrase = re.sub(r\"\\’re\", \" are\", phrase)\n",
    "    phrase = re.sub(r\"\\’s\", \" is\", phrase)\n",
    "    phrase = re.sub(r\"\\’d\", \" would\", phrase)\n",
    "    phrase = re.sub(r\"\\’ll\", \" will\", phrase)\n",
    "    phrase = re.sub(r\"\\’t\", \" not\", phrase)\n",
    "    phrase = re.sub(r\"\\’ve\", \" have\", phrase)\n",
    "    phrase = re.sub(r\"\\’m\", \" am\", phrase)\n",
    "\n",
    "    return phrase"
   ]
  },
  {
   "cell_type": "markdown",
   "metadata": {
    "id": "eKn8p7Igfxrl"
   },
   "source": [
    "That data has lots of emojis, we will remove the emojis"
   ]
  },
  {
   "cell_type": "code",
   "execution_count": null,
   "metadata": {
    "id": "6y0LL06oXTwU"
   },
   "outputs": [],
   "source": [
    "#Refer: https://gist.github.com/slowkow/7a7f61f495e3dbb7e3d767f97bd7304b\n",
    "def remove_emoji(string):\n",
    "    emoji_pattern = re.compile(\"[\"\n",
    "                           u\"\\U0001F600-\\U0001F64F\"  # emoticons\n",
    "                           u\"\\U0001F300-\\U0001F5FF\"  # symbols & pictographs\n",
    "                           u\"\\U0001F680-\\U0001F6FF\"  # transport & map symbols\n",
    "                           u\"\\U0001F1E0-\\U0001F1FF\"  # flags (iOS)\n",
    "                           u\"\\U00002702-\\U000027B0\"\n",
    "                           u\"\\U000024C2-\\U0001F251\"\n",
    "                           \"]+\", flags=re.UNICODE)\n",
    "    \n",
    "    return emoji_pattern.sub(r'', string)"
   ]
  },
  {
   "cell_type": "code",
   "execution_count": null,
   "metadata": {
    "code_folding": [
     1
    ]
   },
   "outputs": [],
   "source": [
    "# Refer : https://github.com/NeelShah18/emot/blob/master/emot/emo_unicode.py\n",
    "EMOTICONS = {\n",
    "    u\":‑\\)\":\"Happy face or smiley\",\n",
    "    u\":\\)\":\"Happy face or smiley\",\n",
    "    u\":-\\]\":\"Happy face or smiley\",\n",
    "    u\":\\]\":\"Happy face or smiley\",\n",
    "    u\":-3\":\"Happy face smiley\",\n",
    "    u\":3\":\"Happy face smiley\",\n",
    "    u\":->\":\"Happy face smiley\",\n",
    "    u\":>\":\"Happy face smiley\",\n",
    "    u\"8-\\)\":\"Happy face smiley\",\n",
    "    u\":o\\)\":\"Happy face smiley\",\n",
    "    u\":-\\}\":\"Happy face smiley\",\n",
    "    u\":\\}\":\"Happy face smiley\",\n",
    "    u\":-\\)\":\"Happy face smiley\",\n",
    "    u\":c\\)\":\"Happy face smiley\",\n",
    "    u\":\\^\\)\":\"Happy face smiley\",\n",
    "    u\"=\\]\":\"Happy face smiley\",\n",
    "    u\"=\\)\":\"Happy face smiley\",\n",
    "    u\":‑D\":\"Laughing, big grin or laugh with glasses\",\n",
    "    u\":D\":\"Laughing, big grin or laugh with glasses\",\n",
    "    u\"8‑D\":\"Laughing, big grin or laugh with glasses\",\n",
    "    u\"8D\":\"Laughing, big grin or laugh with glasses\",\n",
    "    u\"X‑D\":\"Laughing, big grin or laugh with glasses\",\n",
    "    u\"XD\":\"Laughing, big grin or laugh with glasses\",\n",
    "    u\"=D\":\"Laughing, big grin or laugh with glasses\",\n",
    "    u\"=3\":\"Laughing, big grin or laugh with glasses\",\n",
    "    u\"B\\^D\":\"Laughing, big grin or laugh with glasses\",\n",
    "    u\":-\\)\\)\":\"Very happy\",\n",
    "    u\":‑\\(\":\"Frown, sad, andry or pouting\",\n",
    "    u\":-\\(\":\"Frown, sad, andry or pouting\",\n",
    "    u\":\\(\":\"Frown, sad, andry or pouting\",\n",
    "    u\":‑c\":\"Frown, sad, andry or pouting\",\n",
    "    u\":c\":\"Frown, sad, andry or pouting\",\n",
    "    u\":‑<\":\"Frown, sad, andry or pouting\",\n",
    "    u\":<\":\"Frown, sad, andry or pouting\",\n",
    "    u\":‑\\[\":\"Frown, sad, andry or pouting\",\n",
    "    u\":\\[\":\"Frown, sad, andry or pouting\",\n",
    "    u\":-\\|\\|\":\"Frown, sad, andry or pouting\",\n",
    "    u\">:\\[\":\"Frown, sad, andry or pouting\",\n",
    "    u\":\\{\":\"Frown, sad, andry or pouting\",\n",
    "    u\":@\":\"Frown, sad, andry or pouting\",\n",
    "    u\">:\\(\":\"Frown, sad, andry or pouting\",\n",
    "    u\":'‑\\(\":\"Crying\",\n",
    "    u\":'\\(\":\"Crying\",\n",
    "    u\":'‑\\)\":\"Tears of happiness\",\n",
    "    u\":'\\)\":\"Tears of happiness\",\n",
    "    u\"D‑':\":\"Horror\",\n",
    "    u\"D:<\":\"Disgust\",\n",
    "    u\"D:\":\"Sadness\",\n",
    "    u\"D8\":\"Great dismay\",\n",
    "    u\"D;\":\"Great dismay\",\n",
    "    u\"D=\":\"Great dismay\",\n",
    "    u\"DX\":\"Great dismay\",\n",
    "    u\":‑O\":\"Surprise\",\n",
    "    u\":O\":\"Surprise\",\n",
    "    u\":‑o\":\"Surprise\",\n",
    "    u\":o\":\"Surprise\",\n",
    "    u\":-0\":\"Shock\",\n",
    "    u\"8‑0\":\"Yawn\",\n",
    "    u\">:O\":\"Yawn\",\n",
    "    u\":-\\*\":\"Kiss\",\n",
    "    u\":\\*\":\"Kiss\",\n",
    "    u\":X\":\"Kiss\",\n",
    "    u\";‑\\)\":\"Wink or smirk\",\n",
    "    u\";\\)\":\"Wink or smirk\",\n",
    "    u\"\\*-\\)\":\"Wink or smirk\",\n",
    "    u\"\\*\\)\":\"Wink or smirk\",\n",
    "    u\";‑\\]\":\"Wink or smirk\",\n",
    "    u\";\\]\":\"Wink or smirk\",\n",
    "    u\";\\^\\)\":\"Wink or smirk\",\n",
    "    u\":‑,\":\"Wink or smirk\",\n",
    "    u\";D\":\"Wink or smirk\",\n",
    "    u\":‑P\":\"Tongue sticking out, cheeky, playful or blowing a raspberry\",\n",
    "    u\":P\":\"Tongue sticking out, cheeky, playful or blowing a raspberry\",\n",
    "    u\"X‑P\":\"Tongue sticking out, cheeky, playful or blowing a raspberry\",\n",
    "    u\"XP\":\"Tongue sticking out, cheeky, playful or blowing a raspberry\",\n",
    "    u\":‑Þ\":\"Tongue sticking out, cheeky, playful or blowing a raspberry\",\n",
    "    u\":Þ\":\"Tongue sticking out, cheeky, playful or blowing a raspberry\",\n",
    "    u\":b\":\"Tongue sticking out, cheeky, playful or blowing a raspberry\",\n",
    "    u\"d:\":\"Tongue sticking out, cheeky, playful or blowing a raspberry\",\n",
    "    u\"=p\":\"Tongue sticking out, cheeky, playful or blowing a raspberry\",\n",
    "    u\">:P\":\"Tongue sticking out, cheeky, playful or blowing a raspberry\",\n",
    "    u\":‑/\":\"Skeptical, annoyed, undecided, uneasy or hesitant\",\n",
    "    u\":/\":\"Skeptical, annoyed, undecided, uneasy or hesitant\",\n",
    "    u\":-[.]\":\"Skeptical, annoyed, undecided, uneasy or hesitant\",\n",
    "    u\">:[(\\\\\\)]\":\"Skeptical, annoyed, undecided, uneasy or hesitant\",\n",
    "    u\">:/\":\"Skeptical, annoyed, undecided, uneasy or hesitant\",\n",
    "    u\":[(\\\\\\)]\":\"Skeptical, annoyed, undecided, uneasy or hesitant\",\n",
    "    u\"=/\":\"Skeptical, annoyed, undecided, uneasy or hesitant\",\n",
    "    u\"=[(\\\\\\)]\":\"Skeptical, annoyed, undecided, uneasy or hesitant\",\n",
    "    u\":L\":\"Skeptical, annoyed, undecided, uneasy or hesitant\",\n",
    "    u\"=L\":\"Skeptical, annoyed, undecided, uneasy or hesitant\",\n",
    "    u\":S\":\"Skeptical, annoyed, undecided, uneasy or hesitant\",\n",
    "    u\":‑\\|\":\"Straight face\",\n",
    "    u\":\\|\":\"Straight face\",\n",
    "    u\":$\":\"Embarrassed or blushing\",\n",
    "    u\":‑x\":\"Sealed lips or wearing braces or tongue-tied\",\n",
    "    u\":x\":\"Sealed lips or wearing braces or tongue-tied\",\n",
    "    u\":‑#\":\"Sealed lips or wearing braces or tongue-tied\",\n",
    "    u\":#\":\"Sealed lips or wearing braces or tongue-tied\",\n",
    "    u\":‑&\":\"Sealed lips or wearing braces or tongue-tied\",\n",
    "    u\":&\":\"Sealed lips or wearing braces or tongue-tied\",\n",
    "    u\"O:‑\\)\":\"Angel, saint or innocent\",\n",
    "    u\"O:\\)\":\"Angel, saint or innocent\",\n",
    "    u\"0:‑3\":\"Angel, saint or innocent\",\n",
    "    u\"0:3\":\"Angel, saint or innocent\",\n",
    "    u\"0:‑\\)\":\"Angel, saint or innocent\",\n",
    "    u\"0:\\)\":\"Angel, saint or innocent\",\n",
    "    u\":‑b\":\"Tongue sticking out, cheeky, playful or blowing a raspberry\",\n",
    "    u\"0;\\^\\)\":\"Angel, saint or innocent\",\n",
    "    u\">:‑\\)\":\"Evil or devilish\",\n",
    "    u\">:\\)\":\"Evil or devilish\",\n",
    "    u\"\\}:‑\\)\":\"Evil or devilish\",\n",
    "    u\"\\}:\\)\":\"Evil or devilish\",\n",
    "    u\"3:‑\\)\":\"Evil or devilish\",\n",
    "    u\"3:\\)\":\"Evil or devilish\",\n",
    "    u\">;\\)\":\"Evil or devilish\",\n",
    "    u\"\\|;‑\\)\":\"Cool\",\n",
    "    u\"\\|‑O\":\"Bored\",\n",
    "    u\":‑J\":\"Tongue-in-cheek\",\n",
    "    u\"#‑\\)\":\"Party all night\",\n",
    "    u\"%‑\\)\":\"Drunk or confused\",\n",
    "    u\"%\\)\":\"Drunk or confused\",\n",
    "    u\":-###..\":\"Being sick\",\n",
    "    u\":###..\":\"Being sick\",\n",
    "    u\"<:‑\\|\":\"Dump\",\n",
    "    u\"\\(>_<\\)\":\"Troubled\",\n",
    "    u\"\\(>_<\\)>\":\"Troubled\",\n",
    "    u\"\\(';'\\)\":\"Baby\",\n",
    "    u\"\\(\\^\\^>``\":\"Nervous or Embarrassed or Troubled or Shy or Sweat drop\",\n",
    "    u\"\\(\\^_\\^;\\)\":\"Nervous or Embarrassed or Troubled or Shy or Sweat drop\",\n",
    "    u\"\\(-_-;\\)\":\"Nervous or Embarrassed or Troubled or Shy or Sweat drop\",\n",
    "    u\"\\(~_~;\\) \\(・\\.・;\\)\":\"Nervous or Embarrassed or Troubled or Shy or Sweat drop\",\n",
    "    u\"\\(-_-\\)zzz\":\"Sleeping\",\n",
    "    u\"\\(\\^_-\\)\":\"Wink\",\n",
    "    u\"\\(\\(\\+_\\+\\)\\)\":\"Confused\",\n",
    "    u\"\\(\\+o\\+\\)\":\"Confused\",\n",
    "    u\"\\(o\\|o\\)\":\"Ultraman\",\n",
    "    u\"\\^_\\^\":\"Joyful\",\n",
    "    u\"\\(\\^_\\^\\)/\":\"Joyful\",\n",
    "    u\"\\(\\^O\\^\\)／\":\"Joyful\",\n",
    "    u\"\\(\\^o\\^\\)／\":\"Joyful\",\n",
    "    u\"\\(__\\)\":\"Kowtow as a sign of respect, or dogeza for apology\",\n",
    "    u\"_\\(\\._\\.\\)_\":\"Kowtow as a sign of respect, or dogeza for apology\",\n",
    "    u\"<\\(_ _\\)>\":\"Kowtow as a sign of respect, or dogeza for apology\",\n",
    "    u\"<m\\(__\\)m>\":\"Kowtow as a sign of respect, or dogeza for apology\",\n",
    "    u\"m\\(__\\)m\":\"Kowtow as a sign of respect, or dogeza for apology\",\n",
    "    u\"m\\(_ _\\)m\":\"Kowtow as a sign of respect, or dogeza for apology\",\n",
    "    u\"\\('_'\\)\":\"Sad or Crying\",\n",
    "    u\"\\(/_;\\)\":\"Sad or Crying\",\n",
    "    u\"\\(T_T\\) \\(;_;\\)\":\"Sad or Crying\",\n",
    "    u\"\\(;_;\":\"Sad of Crying\",\n",
    "    u\"\\(;_:\\)\":\"Sad or Crying\",\n",
    "    u\"\\(;O;\\)\":\"Sad or Crying\",\n",
    "    u\"\\(:_;\\)\":\"Sad or Crying\",\n",
    "    u\"\\(ToT\\)\":\"Sad or Crying\",\n",
    "    u\";_;\":\"Sad or Crying\",\n",
    "    u\";-;\":\"Sad or Crying\",\n",
    "    u\";n;\":\"Sad or Crying\",\n",
    "    u\";;\":\"Sad or Crying\",\n",
    "    u\"Q\\.Q\":\"Sad or Crying\",\n",
    "    u\"T\\.T\":\"Sad or Crying\",\n",
    "    u\"QQ\":\"Sad or Crying\",\n",
    "    u\"Q_Q\":\"Sad or Crying\",\n",
    "    u\"\\(-\\.-\\)\":\"Shame\",\n",
    "    u\"\\(-_-\\)\":\"Shame\",\n",
    "    u\"\\(一一\\)\":\"Shame\",\n",
    "    u\"\\(；一_一\\)\":\"Shame\",\n",
    "    u\"\\(=_=\\)\":\"Tired\",\n",
    "    u\"\\(=\\^\\·\\^=\\)\":\"cat\",\n",
    "    u\"\\(=\\^\\·\\·\\^=\\)\":\"cat\",\n",
    "    u\"=_\\^=\t\":\"cat\",\n",
    "    u\"\\(\\.\\.\\)\":\"Looking down\",\n",
    "    u\"\\(\\._\\.\\)\":\"Looking down\",\n",
    "    u\"\\^m\\^\":\"Giggling with hand covering mouth\",\n",
    "    u\"\\(\\・\\・?\":\"Confusion\",\n",
    "    u\"\\(?_?\\)\":\"Confusion\",\n",
    "    u\">\\^_\\^<\":\"Normal Laugh\",\n",
    "    u\"<\\^!\\^>\":\"Normal Laugh\",\n",
    "    u\"\\^/\\^\":\"Normal Laugh\",\n",
    "    u\"\\（\\*\\^_\\^\\*）\" :\"Normal Laugh\",\n",
    "    u\"\\(\\^<\\^\\) \\(\\^\\.\\^\\)\":\"Normal Laugh\",\n",
    "    u\"\\(^\\^\\)\":\"Normal Laugh\",\n",
    "    u\"\\(\\^\\.\\^\\)\":\"Normal Laugh\",\n",
    "    u\"\\(\\^_\\^\\.\\)\":\"Normal Laugh\",\n",
    "    u\"\\(\\^_\\^\\)\":\"Normal Laugh\",\n",
    "    u\"\\(\\^\\^\\)\":\"Normal Laugh\",\n",
    "    u\"\\(\\^J\\^\\)\":\"Normal Laugh\",\n",
    "    u\"\\(\\*\\^\\.\\^\\*\\)\":\"Normal Laugh\",\n",
    "    u\"\\(\\^—\\^\\）\":\"Normal Laugh\",\n",
    "    u\"\\(#\\^\\.\\^#\\)\":\"Normal Laugh\",\n",
    "    u\"\\（\\^—\\^\\）\":\"Waving\",\n",
    "    u\"\\(;_;\\)/~~~\":\"Waving\",\n",
    "    u\"\\(\\^\\.\\^\\)/~~~\":\"Waving\",\n",
    "    u\"\\(-_-\\)/~~~ \\($\\·\\·\\)/~~~\":\"Waving\",\n",
    "    u\"\\(T_T\\)/~~~\":\"Waving\",\n",
    "    u\"\\(ToT\\)/~~~\":\"Waving\",\n",
    "    u\"\\(\\*\\^0\\^\\*\\)\":\"Excited\",\n",
    "    u\"\\(\\*_\\*\\)\":\"Amazed\",\n",
    "    u\"\\(\\*_\\*;\":\"Amazed\",\n",
    "    u\"\\(\\+_\\+\\) \\(@_@\\)\":\"Amazed\",\n",
    "    u\"\\(\\*\\^\\^\\)v\":\"Laughing,Cheerful\",\n",
    "    u\"\\(\\^_\\^\\)v\":\"Laughing,Cheerful\",\n",
    "    u\"\\(\\(d[-_-]b\\)\\)\":\"Headphones,Listening to music\",\n",
    "    u'\\(-\"-\\)':\"Worried\",\n",
    "    u\"\\(ーー;\\)\":\"Worried\",\n",
    "    u\"\\(\\^0_0\\^\\)\":\"Eyeglasses\",\n",
    "    u\"\\(\\＾ｖ\\＾\\)\":\"Happy\",\n",
    "    u\"\\(\\＾ｕ\\＾\\)\":\"Happy\",\n",
    "    u\"\\(\\^\\)o\\(\\^\\)\":\"Happy\",\n",
    "    u\"\\(\\^O\\^\\)\":\"Happy\",\n",
    "    u\"\\(\\^o\\^\\)\":\"Happy\",\n",
    "    u\"\\)\\^o\\^\\(\":\"Happy\",\n",
    "    u\":O o_O\":\"Surprised\",\n",
    "    u\"o_0\":\"Surprised\",\n",
    "    u\"o\\.O\":\"Surpised\",\n",
    "    u\"\\(o\\.o\\)\":\"Surprised\",\n",
    "    u\"oO\":\"Surprised\",\n",
    "    u\"\\(\\*￣m￣\\)\":\"Dissatisfied\",\n",
    "    u\"\\(‘A`\\)\":\"Snubbed or Deflated\"\n",
    "}"
   ]
  },
  {
   "cell_type": "markdown",
   "metadata": {
    "id": "UCYj6quUf_Ji"
   },
   "source": [
    "Emoticons are emojis with real charecters, like :) :D :p and so on. With the help of below link we found out a list of emoticons, need to clean these."
   ]
  },
  {
   "cell_type": "code",
   "execution_count": null,
   "metadata": {
    "id": "4NzDKhUzZEPn"
   },
   "outputs": [],
   "source": [
    "def remove_emoticons(text):\n",
    "    \" Remove emoticons from text\"\n",
    "    emoticon_pattern = re.compile(u'(' + u'|'.join(k for k in EMOTICONS) + u')')\n",
    "    return emoticon_pattern.sub(r'', text)"
   ]
  },
  {
   "cell_type": "code",
   "execution_count": null,
   "metadata": {
    "id": "6dUMOcWr--v8"
   },
   "outputs": [],
   "source": [
    "def clean_text(text):\n",
    "    \"\"\"\n",
    "    This function clean the given data and preprocess it.\n",
    "    \"\"\"\n",
    "    # Lower casting\n",
    "    text = text.lower()\n",
    "\n",
    "    # Remove all the mentions (words starting with '@')\n",
    "    text = re.sub(r\"@\\S+\", '', text)\n",
    "\n",
    "    # Remove URL\n",
    "    text = re.sub(r\"http\\S+\", \"\", text)\n",
    "\n",
    "    # Remove html tags\n",
    "    text = BeautifulSoup(text, 'lxml').get_text()\n",
    "\n",
    "    # Decontracted\n",
    "    text = decontractions(text)\n",
    "\n",
    "    # Remove emoji\n",
    "    text = remove_emoji(text)\n",
    "\n",
    "    # Remove emoticons\n",
    "    text = remove_emoticons(text)\n",
    "\n",
    "    # Remove words with digit\n",
    "    text = re.sub(\"\\S*\\d\\S*\", \"\", text).strip()\n",
    "\n",
    "    # Remove any special charecters and punctuations\n",
    "    text = re.sub(\"[^A-Za-z\\n]\", \" \", text)\n",
    "\n",
    "    # Remove more than 1 space\n",
    "    text = \" \".join(text.split())\n",
    "\n",
    "    return text"
   ]
  },
  {
   "cell_type": "code",
   "execution_count": null,
   "metadata": {
    "id": "sEZltjBdAx1o"
   },
   "outputs": [],
   "source": [
    "# To see the progress bar in pandas apply\n",
    "tqdm.pandas()"
   ]
  },
  {
   "cell_type": "markdown",
   "metadata": {
    "id": "-7dg54UbM6d1"
   },
   "source": [
    "### Preprocessing Text Data"
   ]
  },
  {
   "cell_type": "code",
   "execution_count": null,
   "metadata": {
    "colab": {
     "base_uri": "https://localhost:8080/",
     "height": 34
    },
    "executionInfo": {
     "elapsed": 1271,
     "status": "ok",
     "timestamp": 1599215583775,
     "user": {
      "displayName": "Subrata Maji",
      "photoUrl": "https://lh3.googleusercontent.com/a-/AOh14Ghxu8VIGqB6XL51-t5wM_f1R1LdmEePYHIwb9b-=s64",
      "userId": "03124174213573157612"
     },
     "user_tz": -330
    },
    "id": "gc0z9EIiDSOy",
    "outputId": "44731ae2-6df7-4085-87e4-f319e38ffeae"
   },
   "outputs": [
    {
     "data": {
      "text/plain": [
       "(794299, 7)"
      ]
     },
     "execution_count": 17,
     "metadata": {
      "tags": []
     },
     "output_type": "execute_result"
    }
   ],
   "source": [
    "data.shape"
   ]
  },
  {
   "cell_type": "code",
   "execution_count": null,
   "metadata": {
    "colab": {
     "base_uri": "https://localhost:8080/",
     "height": 34
    },
    "executionInfo": {
     "elapsed": 420691,
     "status": "ok",
     "timestamp": 1599216006306,
     "user": {
      "displayName": "Subrata Maji",
      "photoUrl": "https://lh3.googleusercontent.com/a-/AOh14Ghxu8VIGqB6XL51-t5wM_f1R1LdmEePYHIwb9b-=s64",
      "userId": "03124174213573157612"
     },
     "user_tz": -330
    },
    "id": "L2qO-bJ9DcBl",
    "outputId": "1f8fd4d1-b06d-4a3e-fbdd-cf6db23c74b6"
   },
   "outputs": [
    {
     "name": "stderr",
     "output_type": "stream",
     "text": [
      "100%|██████████| 794299/794299 [06:59<00:00, 1893.22it/s]\n"
     ]
    }
   ],
   "source": [
    "# Preprocessing questions\n",
    "data['clean_question'] = data['question'].progress_apply(clean_text)"
   ]
  },
  {
   "cell_type": "code",
   "execution_count": null,
   "metadata": {
    "colab": {
     "base_uri": "https://localhost:8080/",
     "height": 204
    },
    "executionInfo": {
     "elapsed": 1963,
     "status": "ok",
     "timestamp": 1599216418298,
     "user": {
      "displayName": "Subrata Maji",
      "photoUrl": "https://lh3.googleusercontent.com/a-/AOh14Ghxu8VIGqB6XL51-t5wM_f1R1LdmEePYHIwb9b-=s64",
      "userId": "03124174213573157612"
     },
     "user_tz": -330
    },
    "id": "wudoIwW9DkrO",
    "outputId": "8e2170d0-4a7d-467a-c2a0-28d360354461"
   },
   "outputs": [
    {
     "data": {
      "text/html": [
       "<div>\n",
       "<style scoped>\n",
       "    .dataframe tbody tr th:only-of-type {\n",
       "        vertical-align: middle;\n",
       "    }\n",
       "\n",
       "    .dataframe tbody tr th {\n",
       "        vertical-align: top;\n",
       "    }\n",
       "\n",
       "    .dataframe thead th {\n",
       "        text-align: right;\n",
       "    }\n",
       "</style>\n",
       "<table border=\"1\" class=\"dataframe\">\n",
       "  <thead>\n",
       "    <tr style=\"text-align: right;\">\n",
       "      <th></th>\n",
       "      <th>question</th>\n",
       "      <th>clean_question</th>\n",
       "    </tr>\n",
       "  </thead>\n",
       "  <tbody>\n",
       "    <tr>\n",
       "      <th>251468</th>\n",
       "      <td>@122172 need help</td>\n",
       "      <td>need help</td>\n",
       "    </tr>\n",
       "    <tr>\n",
       "      <th>700147</th>\n",
       "      <td>@115911 @TMobileHelp @115725 @ATT @115911 why ...</td>\n",
       "      <td>why did you stop allowing conference calling w...</td>\n",
       "    </tr>\n",
       "    <tr>\n",
       "      <th>185503</th>\n",
       "      <td>Oh course @115955 WiFi would go down on Thanks...</td>\n",
       "      <td>oh course wifi would go down on thanksgiving</td>\n",
       "    </tr>\n",
       "    <tr>\n",
       "      <th>870280</th>\n",
       "      <td>When the vinaigrette from @ChipotleTweets is 1...</td>\n",
       "      <td>when the vinaigrette from is saltier than it i...</td>\n",
       "    </tr>\n",
       "    <tr>\n",
       "      <th>424733</th>\n",
       "      <td>PISSED OFF THAT @115888 FUCKING CHARGED ME FUL...</td>\n",
       "      <td>pissed off that fucking charged me full price ...</td>\n",
       "    </tr>\n",
       "  </tbody>\n",
       "</table>\n",
       "</div>"
      ],
      "text/plain": [
       "                                                 question                                     clean_question\n",
       "251468                                  @122172 need help                                          need help\n",
       "700147  @115911 @TMobileHelp @115725 @ATT @115911 why ...  why did you stop allowing conference calling w...\n",
       "185503  Oh course @115955 WiFi would go down on Thanks...       oh course wifi would go down on thanksgiving\n",
       "870280  When the vinaigrette from @ChipotleTweets is 1...  when the vinaigrette from is saltier than it i...\n",
       "424733  PISSED OFF THAT @115888 FUCKING CHARGED ME FUL...  pissed off that fucking charged me full price ..."
      ]
     },
     "execution_count": 19,
     "metadata": {
      "tags": []
     },
     "output_type": "execute_result"
    }
   ],
   "source": [
    "data[['question', 'clean_question']].head()"
   ]
  },
  {
   "cell_type": "code",
   "execution_count": null,
   "metadata": {
    "colab": {
     "base_uri": "https://localhost:8080/",
     "height": 34
    },
    "executionInfo": {
     "elapsed": 418259,
     "status": "ok",
     "timestamp": 1599216860831,
     "user": {
      "displayName": "Subrata Maji",
      "photoUrl": "https://lh3.googleusercontent.com/a-/AOh14Ghxu8VIGqB6XL51-t5wM_f1R1LdmEePYHIwb9b-=s64",
      "userId": "03124174213573157612"
     },
     "user_tz": -330
    },
    "id": "S-d7_qmSFd63",
    "outputId": "8c8c136c-5ec0-454b-f600-a54901d6acda"
   },
   "outputs": [
    {
     "name": "stderr",
     "output_type": "stream",
     "text": [
      "100%|██████████| 794299/794299 [06:56<00:00, 1906.74it/s]\n"
     ]
    }
   ],
   "source": [
    "# Preprocessing answers\n",
    "data['clean_answer'] = data['answer'].progress_apply(clean_text)"
   ]
  },
  {
   "cell_type": "code",
   "execution_count": null,
   "metadata": {
    "colab": {
     "base_uri": "https://localhost:8080/",
     "height": 204
    },
    "executionInfo": {
     "elapsed": 1566,
     "status": "ok",
     "timestamp": 1599216875824,
     "user": {
      "displayName": "Subrata Maji",
      "photoUrl": "https://lh3.googleusercontent.com/a-/AOh14Ghxu8VIGqB6XL51-t5wM_f1R1LdmEePYHIwb9b-=s64",
      "userId": "03124174213573157612"
     },
     "user_tz": -330
    },
    "id": "hRwMuR5JFr-P",
    "outputId": "01039c8a-2c40-446e-c0e9-54344741f60e"
   },
   "outputs": [
    {
     "data": {
      "text/html": [
       "<div>\n",
       "<style scoped>\n",
       "    .dataframe tbody tr th:only-of-type {\n",
       "        vertical-align: middle;\n",
       "    }\n",
       "\n",
       "    .dataframe tbody tr th {\n",
       "        vertical-align: top;\n",
       "    }\n",
       "\n",
       "    .dataframe thead th {\n",
       "        text-align: right;\n",
       "    }\n",
       "</style>\n",
       "<table border=\"1\" class=\"dataframe\">\n",
       "  <thead>\n",
       "    <tr style=\"text-align: right;\">\n",
       "      <th></th>\n",
       "      <th>answer</th>\n",
       "      <th>clean_answer</th>\n",
       "    </tr>\n",
       "  </thead>\n",
       "  <tbody>\n",
       "    <tr>\n",
       "      <th>251468</th>\n",
       "      <td>@340004 Hi. What's your platform &amp;amp; which c...</td>\n",
       "      <td>hi what is your platform which contract are yo...</td>\n",
       "    </tr>\n",
       "    <tr>\n",
       "      <th>700147</th>\n",
       "      <td>@693750 Hey thanks so much for reaching out! Y...</td>\n",
       "      <td>hey thanks so much for reaching out you are a ...</td>\n",
       "    </tr>\n",
       "    <tr>\n",
       "      <th>185503</th>\n",
       "      <td>@284249 I'm sorry to hear about the service is...</td>\n",
       "      <td>i am sorry to hear about the service issue i c...</td>\n",
       "    </tr>\n",
       "    <tr>\n",
       "      <th>870280</th>\n",
       "      <td>@820001 Sorry to hear that. Did you let a mana...</td>\n",
       "      <td>sorry to hear that did you let a manager know ...</td>\n",
       "    </tr>\n",
       "    <tr>\n",
       "      <th>424733</th>\n",
       "      <td>@476849 Hi! We've just sent a DM your way. Let...</td>\n",
       "      <td>hi we have just sent a dm your way let is carr...</td>\n",
       "    </tr>\n",
       "  </tbody>\n",
       "</table>\n",
       "</div>"
      ],
      "text/plain": [
       "                                                   answer                                       clean_answer\n",
       "251468  @340004 Hi. What's your platform &amp; which c...  hi what is your platform which contract are yo...\n",
       "700147  @693750 Hey thanks so much for reaching out! Y...  hey thanks so much for reaching out you are a ...\n",
       "185503  @284249 I'm sorry to hear about the service is...  i am sorry to hear about the service issue i c...\n",
       "870280  @820001 Sorry to hear that. Did you let a mana...  sorry to hear that did you let a manager know ...\n",
       "424733  @476849 Hi! We've just sent a DM your way. Let...  hi we have just sent a dm your way let is carr..."
      ]
     },
     "execution_count": 21,
     "metadata": {
      "tags": []
     },
     "output_type": "execute_result"
    }
   ],
   "source": [
    "data[['answer', 'clean_answer']].head()"
   ]
  },
  {
   "cell_type": "markdown",
   "metadata": {
    "id": "tspRe4-cNHko"
   },
   "source": [
    "## Saving Data to disk"
   ]
  },
  {
   "cell_type": "code",
   "execution_count": null,
   "metadata": {
    "id": "OKK4_kF2HZds"
   },
   "outputs": [],
   "source": [
    "pickle.dump(data, open('clean_conv.pkl', 'wb'))"
   ]
  },
  {
   "cell_type": "code",
   "execution_count": null,
   "metadata": {
    "id": "rxY2H2xg_g9z"
   },
   "outputs": [],
   "source": [
    "# Loading Data\n",
    "data = pickle.load(open(\"clean_conv.pkl\", \"rb\"))"
   ]
  },
  {
   "cell_type": "code",
   "execution_count": null,
   "metadata": {
    "colab": {
     "base_uri": "https://localhost:8080/",
     "height": 34
    },
    "executionInfo": {
     "elapsed": 1342,
     "status": "ok",
     "timestamp": 1600881870378,
     "user": {
      "displayName": "Subrata Maji",
      "photoUrl": "https://lh3.googleusercontent.com/a-/AOh14Ghxu8VIGqB6XL51-t5wM_f1R1LdmEePYHIwb9b-=s64",
      "userId": "03124174213573157612"
     },
     "user_tz": -330
    },
    "id": "HfZI4J6r_qri",
    "outputId": "9dd532a1-e593-4479-d2a9-dd75340f868c"
   },
   "outputs": [
    {
     "data": {
      "text/plain": [
       "(794299, 8)"
      ]
     },
     "execution_count": 6,
     "metadata": {
      "tags": []
     },
     "output_type": "execute_result"
    }
   ],
   "source": [
    "data.shape"
   ]
  },
  {
   "cell_type": "code",
   "execution_count": null,
   "metadata": {
    "id": "eeMuPlp5HmIW"
   },
   "outputs": [],
   "source": [
    "pickle.dump(imp_param_dict, open('imp_param_dict.pkl', 'wb'))"
   ]
  },
  {
   "cell_type": "markdown",
   "metadata": {
    "id": "QIUjolOSgTjV"
   },
   "source": [
    "## No of words in text\n",
    "\n",
    "After cleaning the data we will again check for the no of words present in data. From this we can decide what max_len to keep and use for training"
   ]
  },
  {
   "cell_type": "code",
   "execution_count": null,
   "metadata": {
    "id": "yF5chRrJxIVs"
   },
   "outputs": [],
   "source": [
    "data['qsn_len'] = data['clean_question'].apply(lambda x: len(x.split()))\n",
    "data['ans_len'] = data['clean_answer'].apply(lambda x: len(x.split()))"
   ]
  },
  {
   "cell_type": "code",
   "execution_count": null,
   "metadata": {
    "id": "tVNq-LOIyMdW"
   },
   "outputs": [],
   "source": [
    "data['ans_len'] = data['clean_answer'].apply(lambda x: len(x.split()))"
   ]
  },
  {
   "cell_type": "code",
   "execution_count": null,
   "metadata": {
    "colab": {
     "base_uri": "https://localhost:8080/",
     "height": 71
    },
    "executionInfo": {
     "elapsed": 1191,
     "status": "ok",
     "timestamp": 1599217241315,
     "user": {
      "displayName": "Subrata Maji",
      "photoUrl": "https://lh3.googleusercontent.com/a-/AOh14Ghxu8VIGqB6XL51-t5wM_f1R1LdmEePYHIwb9b-=s64",
      "userId": "03124174213573157612"
     },
     "user_tz": -330
    },
    "id": "tykmaH2ixc0M",
    "outputId": "6879a802-6dab-42ee-8d76-68103f4cb31a"
   },
   "outputs": [
    {
     "name": "stderr",
     "output_type": "stream",
     "text": [
      "/usr/local/lib/python3.6/dist-packages/statsmodels/tools/_testing.py:19: FutureWarning: pandas.util.testing is deprecated. Use the functions in the public API at pandas.testing instead.\n",
      "  import pandas.util.testing as tm\n"
     ]
    }
   ],
   "source": [
    "import matplotlib.pyplot as plt\n",
    "import seaborn as sns"
   ]
  },
  {
   "cell_type": "code",
   "execution_count": null,
   "metadata": {
    "colab": {
     "base_uri": "https://localhost:8080/",
     "height": 255
    },
    "executionInfo": {
     "elapsed": 1259,
     "status": "ok",
     "timestamp": 1600881977760,
     "user": {
      "displayName": "Subrata Maji",
      "photoUrl": "https://lh3.googleusercontent.com/a-/AOh14Ghxu8VIGqB6XL51-t5wM_f1R1LdmEePYHIwb9b-=s64",
      "userId": "03124174213573157612"
     },
     "user_tz": -330
    },
    "id": "111NodjN_7_Z",
    "outputId": "9a12295d-538f-41f7-bf1d-c93f2eb03479"
   },
   "outputs": [
    {
     "name": "stdout",
     "output_type": "stream",
     "text": [
      "+----------+---------+---------+\n",
      "|  stats   | qsn_len | ans_len |\n",
      "+----------+---------+---------+\n",
      "| minimum  |    0    |    0    |\n",
      "| maximum  |    68   |    63   |\n",
      "|   mean   |  18.84  |  19.69  |\n",
      "|  median  |   18.0  |   19.0  |\n",
      "| 25th per |   12.0  |   15.0  |\n",
      "| 50th per |   18.0  |   19.0  |\n",
      "| 75th per |   23.0  |   24.0  |\n",
      "| 90th per |   30.0  |   28.0  |\n",
      "| 95th per |   39.0  |   35.0  |\n",
      "| 99th per |   49.0  |   46.0  |\n",
      "+----------+---------+---------+\n"
     ]
    }
   ],
   "source": [
    "basic_statistics([\"qsn_len\", \"ans_len\"])"
   ]
  },
  {
   "cell_type": "code",
   "execution_count": null,
   "metadata": {
    "colab": {
     "base_uri": "https://localhost:8080/",
     "height": 404
    },
    "executionInfo": {
     "elapsed": 21224,
     "status": "ok",
     "timestamp": 1600882058213,
     "user": {
      "displayName": "Subrata Maji",
      "photoUrl": "https://lh3.googleusercontent.com/a-/AOh14Ghxu8VIGqB6XL51-t5wM_f1R1LdmEePYHIwb9b-=s64",
      "userId": "03124174213573157612"
     },
     "user_tz": -330
    },
    "id": "onqa1PzJAH-1",
    "outputId": "c79a2065-7f8e-4c98-9ff2-e8ac3968d531"
   },
   "outputs": [
    {
     "data": {
      "image/png": "[encoded data removed]",
      "text/plain": [
       "<Figure size 1296x432 with 2 Axes>"
      ]
     },
     "metadata": {
      "tags": []
     },
     "output_type": "display_data"
    }
   ],
   "source": [
    "plot_func(['qsn_len', 'ans_len'], 'No of words', 'fractions', 'Count of words in Text')"
   ]
  },
  {
   "cell_type": "code",
   "execution_count": null,
   "metadata": {
    "colab": {
     "base_uri": "https://localhost:8080/",
     "height": 170
    },
    "executionInfo": {
     "elapsed": 964,
     "status": "ok",
     "timestamp": 1600882094638,
     "user": {
      "displayName": "Subrata Maji",
      "photoUrl": "https://lh3.googleusercontent.com/a-/AOh14Ghxu8VIGqB6XL51-t5wM_f1R1LdmEePYHIwb9b-=s64",
      "userId": "03124174213573157612"
     },
     "user_tz": -330
    },
    "id": "7A2VdWRjzk77",
    "outputId": "b0237dc4-cbb3-4347-88d9-862e6fbd1b89"
   },
   "outputs": [
    {
     "name": "stdout",
     "output_type": "stream",
     "text": [
      "99.1th per: 50.0\n",
      "99.2th per: 50.0\n",
      "99.3th per: 50.0\n",
      "99.4th per: 51.0\n",
      "99.5th per: 52.0\n",
      "99.6th per: 52.0\n",
      "99.7th per: 53.0\n",
      "99.8th per: 54.0\n",
      "99.9th per: 56.0\n"
     ]
    }
   ],
   "source": [
    "for p in range(1,10):\n",
    "    print(str(99+p/10)+\"th per:\",np.percentile(data['qsn_len'].values, 99+p/10))"
   ]
  },
  {
   "cell_type": "code",
   "execution_count": null,
   "metadata": {
    "colab": {
     "base_uri": "https://localhost:8080/",
     "height": 170
    },
    "executionInfo": {
     "elapsed": 1148,
     "status": "ok",
     "timestamp": 1600882109677,
     "user": {
      "displayName": "Subrata Maji",
      "photoUrl": "https://lh3.googleusercontent.com/a-/AOh14Ghxu8VIGqB6XL51-t5wM_f1R1LdmEePYHIwb9b-=s64",
      "userId": "03124174213573157612"
     },
     "user_tz": -330
    },
    "id": "hwk_WK8p0WVN",
    "outputId": "6caed120-f8e9-4d86-8101-8af33903c0ed"
   },
   "outputs": [
    {
     "name": "stdout",
     "output_type": "stream",
     "text": [
      "99.1th per: 47.0\n",
      "99.2th per: 47.0\n",
      "99.3th per: 48.0\n",
      "99.4th per: 48.0\n",
      "99.5th per: 49.0\n",
      "99.6th per: 49.0\n",
      "99.7th per: 50.0\n",
      "99.8th per: 51.0\n",
      "99.9th per: 53.0\n"
     ]
    }
   ],
   "source": [
    "for p in range(1,10):\n",
    "    print(str(99+p/10)+\"th per:\",np.percentile(data['ans_len'].values, 99+p/10))"
   ]
  },
  {
   "cell_type": "markdown",
   "metadata": {
    "id": "WD5ybpJw0dMu"
   },
   "source": [
    "**Observation**\n",
    "1. So the maximum no of words is 68 in questions and 63 in answers.\n",
    "2. Questions are having higher number of words tha answers\n",
    "3. In questions words from 5-25 have highest volume and in answers its 10-25\n",
    "4. We can use max_len for our text=50, which is covering over 99 percentile of values"
   ]
  },
  {
   "cell_type": "markdown",
   "metadata": {
    "id": "IZbm0duL1p72"
   },
   "source": [
    "## Common words\n",
    "\n",
    "Looking for number of words common in both questions and answers. We can get little idea of how answer is related to question."
   ]
  },
  {
   "cell_type": "code",
   "execution_count": null,
   "metadata": {
    "id": "a4kAFVz31sXf"
   },
   "outputs": [],
   "source": [
    "def no_common_words(col1, col2, data=data):\n",
    "    \" Number of common words in both the columns \"\n",
    "    len_common = []\n",
    "    for ind, row in tqdm(data.iterrows()):\n",
    "        qsn_set = set(row[col1].split())\n",
    "        ans_set = set(row[col2].split())\n",
    "\n",
    "        common_words = qsn_set.intersection(ans_set)\n",
    "        len_common.append(len(common_words))\n",
    "\n",
    "    return len_common"
   ]
  },
  {
   "cell_type": "code",
   "execution_count": null,
   "metadata": {
    "colab": {
     "base_uri": "https://localhost:8080/",
     "height": 34
    },
    "executionInfo": {
     "elapsed": 105329,
     "status": "ok",
     "timestamp": 1600882297867,
     "user": {
      "displayName": "Subrata Maji",
      "photoUrl": "https://lh3.googleusercontent.com/a-/AOh14Ghxu8VIGqB6XL51-t5wM_f1R1LdmEePYHIwb9b-=s64",
      "userId": "03124174213573157612"
     },
     "user_tz": -330
    },
    "id": "N4HMjQNU3rvt",
    "outputId": "f66802ea-b94e-4932-9d02-e3651e21fe21"
   },
   "outputs": [
    {
     "name": "stderr",
     "output_type": "stream",
     "text": [
      "794299it [01:44, 7615.13it/s]\n"
     ]
    }
   ],
   "source": [
    "data['len_common'] = no_common_words('clean_question', 'clean_answer')"
   ]
  },
  {
   "cell_type": "code",
   "execution_count": null,
   "metadata": {
    "colab": {
     "base_uri": "https://localhost:8080/",
     "height": 255
    },
    "executionInfo": {
     "elapsed": 1167,
     "status": "ok",
     "timestamp": 1600882318641,
     "user": {
      "displayName": "Subrata Maji",
      "photoUrl": "https://lh3.googleusercontent.com/a-/AOh14Ghxu8VIGqB6XL51-t5wM_f1R1LdmEePYHIwb9b-=s64",
      "userId": "03124174213573157612"
     },
     "user_tz": -330
    },
    "id": "pj51avn9BNB_",
    "outputId": "ff584b15-ce32-4312-f767-77779d885c4a"
   },
   "outputs": [
    {
     "name": "stdout",
     "output_type": "stream",
     "text": [
      "+----------+------------+\n",
      "|  stats   | len_common |\n",
      "+----------+------------+\n",
      "| minimum  |     0      |\n",
      "| maximum  |     27     |\n",
      "|   mean   |    2.1     |\n",
      "|  median  |    2.0     |\n",
      "| 25th per |    1.0     |\n",
      "| 50th per |    2.0     |\n",
      "| 75th per |    3.0     |\n",
      "| 90th per |    5.0     |\n",
      "| 95th per |    6.0     |\n",
      "| 99th per |    8.0     |\n",
      "+----------+------------+\n"
     ]
    }
   ],
   "source": [
    "basic_statistics(['len_common'])"
   ]
  },
  {
   "cell_type": "code",
   "execution_count": null,
   "metadata": {
    "colab": {
     "base_uri": "https://localhost:8080/",
     "height": 404
    },
    "executionInfo": {
     "elapsed": 12721,
     "status": "ok",
     "timestamp": 1600882398600,
     "user": {
      "displayName": "Subrata Maji",
      "photoUrl": "https://lh3.googleusercontent.com/a-/AOh14Ghxu8VIGqB6XL51-t5wM_f1R1LdmEePYHIwb9b-=s64",
      "userId": "03124174213573157612"
     },
     "user_tz": -330
    },
    "id": "NF6P-g2TBNYn",
    "outputId": "39d72509-38e0-4d67-ba19-444a95398840"
   },
   "outputs": [
    {
     "data": {
      "image/png": "[encoded data removed]",
      "text/plain": [
       "<Figure size 1296x432 with 2 Axes>"
      ]
     },
     "metadata": {
      "tags": []
     },
     "output_type": "display_data"
    }
   ],
   "source": [
    "plot_func(['len_common'], 'No of ommon words', 'fractions', 'Plot of Number of common words')"
   ]
  },
  {
   "cell_type": "markdown",
   "metadata": {
    "id": "6SvBhobbhwdN"
   },
   "source": [
    "1. There are not much common words between questions nad answers.\n",
    "2. There are lots of 0 common words that means no common words. Also 1 and 2 are also there quite a lot.\n",
    "3. We have no of words 3-5 noticeably."
   ]
  },
  {
   "cell_type": "markdown",
   "metadata": {
    "id": "shAV7CW-NK6y"
   },
   "source": [
    "## Counting word frequency"
   ]
  },
  {
   "cell_type": "code",
   "execution_count": null,
   "metadata": {
    "id": "ERxcSZiUJEeR"
   },
   "outputs": [],
   "source": [
    "from collections import Counter\n",
    "\n",
    "qsn_cnt = Counter()\n",
    "for text in data['clean_question'].values:\n",
    "    for word in text.split():\n",
    "        qsn_cnt[word] += 1\n",
    "\n",
    "\n",
    "ans_cnt = Counter()\n",
    "for text in data['clean_answer'].values:\n",
    "    for word in text.split():\n",
    "        ans_cnt[word] += 1"
   ]
  },
  {
   "cell_type": "code",
   "execution_count": null,
   "metadata": {
    "id": "Knjh1YS_JMzW"
   },
   "outputs": [],
   "source": [
    "df_qsnFreq = pd.DataFrame({'qsn_freq':list(dict(qsn_cnt).values())})\n",
    "df_ansFreq = pd.DataFrame({'ans_freq':list(dict(ans_cnt).values())})"
   ]
  },
  {
   "cell_type": "code",
   "execution_count": null,
   "metadata": {
    "colab": {
     "base_uri": "https://localhost:8080/",
     "height": 493
    },
    "executionInfo": {
     "elapsed": 1154,
     "status": "ok",
     "timestamp": 1600882910046,
     "user": {
      "displayName": "Subrata Maji",
      "photoUrl": "https://lh3.googleusercontent.com/a-/AOh14Ghxu8VIGqB6XL51-t5wM_f1R1LdmEePYHIwb9b-=s64",
      "userId": "03124174213573157612"
     },
     "user_tz": -330
    },
    "id": "FWctKCRZC1l_",
    "outputId": "236b5316-20a6-4414-c8e0-4cbf2d3ca6af"
   },
   "outputs": [
    {
     "name": "stdout",
     "output_type": "stream",
     "text": [
      "+----------+----------+\n",
      "|  stats   | qsn_freq |\n",
      "+----------+----------+\n",
      "| minimum  |    1     |\n",
      "| maximum  |  514519  |\n",
      "|   mean   |  94.65   |\n",
      "|  median  |   1.0    |\n",
      "| 25th per |   1.0    |\n",
      "| 50th per |   1.0    |\n",
      "| 75th per |   4.0    |\n",
      "| 90th per |   19.0   |\n",
      "| 95th per |   67.0   |\n",
      "| 99th per |  878.0   |\n",
      "+----------+----------+\n",
      "+----------+----------+\n",
      "|  stats   | ans_freq |\n",
      "+----------+----------+\n",
      "| minimum  |    1     |\n",
      "| maximum  |  621237  |\n",
      "|   mean   |  246.54  |\n",
      "|  median  |   2.0    |\n",
      "| 25th per |   1.0    |\n",
      "| 50th per |   2.0    |\n",
      "| 75th per |   7.0    |\n",
      "| 90th per |   52.0   |\n",
      "| 95th per |  210.0   |\n",
      "| 99th per |  1968.0  |\n",
      "+----------+----------+\n"
     ]
    }
   ],
   "source": [
    "basic_statistics(['qsn_freq'], data=df_qsnFreq)\n",
    "basic_statistics(['ans_freq'], data=df_ansFreq)"
   ]
  },
  {
   "cell_type": "code",
   "execution_count": null,
   "metadata": {
    "id": "yUDwKkYWEVEK"
   },
   "outputs": [],
   "source": [
    "df_qsnFreq['log_qsn_freq'] = df_qsnFreq['qsn_freq'].apply(np.log)"
   ]
  },
  {
   "cell_type": "code",
   "execution_count": null,
   "metadata": {
    "id": "0A4bsarJEj8z"
   },
   "outputs": [],
   "source": []
  },
  {
   "cell_type": "code",
   "execution_count": null,
   "metadata": {
    "colab": {
     "base_uri": "https://localhost:8080/",
     "height": 487
    },
    "executionInfo": {
     "elapsed": 1979,
     "status": "ok",
     "timestamp": 1600883640689,
     "user": {
      "displayName": "Subrata Maji",
      "photoUrl": "https://lh3.googleusercontent.com/a-/AOh14Ghxu8VIGqB6XL51-t5wM_f1R1LdmEePYHIwb9b-=s64",
      "userId": "03124174213573157612"
     },
     "user_tz": -330
    },
    "id": "OJwYEJJDD8Z0",
    "outputId": "2910a3f1-c3ed-4472-9f2b-09c3effc4a1b"
   },
   "outputs": [
    {
     "data": {
      "image/png": "[encoded data removed]",
      "text/plain": [
       "<Figure size 1440x576 with 2 Axes>"
      ]
     },
     "metadata": {
      "tags": []
     },
     "output_type": "display_data"
    }
   ],
   "source": [
    "plt.figure(figsize=(20,8))\n",
    "plt.subplot(1,2,1)\n",
    "sns.distplot(df_qsnFreq['qsn_freq'].apply(np.log).values, color='b', label='Question')\n",
    "sns.distplot(df_ansFreq['ans_freq'].apply(np.log).values, color='r', label='Answer')\n",
    "plt.legend()\n",
    "\n",
    "plt.subplot(1,2,2)\n",
    "sns.boxplot(data=[df_qsnFreq['qsn_freq'].apply(np.log).values,df_ansFreq['ans_freq'].apply(np.log).values])\n",
    "\n",
    "plt.show()"
   ]
  },
  {
   "cell_type": "code",
   "execution_count": null,
   "metadata": {
    "colab": {
     "base_uri": "https://localhost:8080/",
     "height": 170
    },
    "executionInfo": {
     "elapsed": 1305,
     "status": "ok",
     "timestamp": 1600883730391,
     "user": {
      "displayName": "Subrata Maji",
      "photoUrl": "https://lh3.googleusercontent.com/a-/AOh14Ghxu8VIGqB6XL51-t5wM_f1R1LdmEePYHIwb9b-=s64",
      "userId": "03124174213573157612"
     },
     "user_tz": -330
    },
    "id": "lJ8LtAbP92xH",
    "outputId": "32f8bc2e-54cd-4dda-8f67-40c540838ddc"
   },
   "outputs": [
    {
     "name": "stdout",
     "output_type": "stream",
     "text": [
      "99.1th per: 1021.8029999999853\n",
      "99.2th per: 1199.935999999987\n",
      "99.3th per: 1409.0689999999886\n",
      "99.4th per: 1686.2020000000193\n",
      "99.5th per: 2074.3399999999674\n",
      "99.6th per: 2771.871999999974\n",
      "99.7th per: 3930.408999999956\n",
      "99.8th per: 6100.35999999987\n",
      "99.9th per: 12004.685000001511\n"
     ]
    }
   ],
   "source": [
    "for p in range(1,10):\n",
    "    print(str(99+p/10)+\"th per:\",np.percentile(df_qsnFreq['qsn_freq'].values, 99+p/10))"
   ]
  },
  {
   "cell_type": "code",
   "execution_count": null,
   "metadata": {
    "colab": {
     "base_uri": "https://localhost:8080/",
     "height": 170
    },
    "executionInfo": {
     "elapsed": 1311,
     "status": "ok",
     "timestamp": 1600883756681,
     "user": {
      "displayName": "Subrata Maji",
      "photoUrl": "https://lh3.googleusercontent.com/a-/AOh14Ghxu8VIGqB6XL51-t5wM_f1R1LdmEePYHIwb9b-=s64",
      "userId": "03124174213573157612"
     },
     "user_tz": -330
    },
    "id": "Essvw4sQG1zH",
    "outputId": "e73dc630-2556-49c5-9fc0-8b423178dfeb"
   },
   "outputs": [
    {
     "name": "stdout",
     "output_type": "stream",
     "text": [
      "99.1th per: 2240.7430000000386\n",
      "99.2th per: 2657.7919999999867\n",
      "99.3th per: 3047.7949999999983\n",
      "99.4th per: 3664.7400000000926\n",
      "99.5th per: 4525.789999999994\n",
      "99.6th per: 6302.867999999864\n",
      "99.7th per: 9341.06700000009\n",
      "99.8th per: 16864.534000000225\n",
      "99.9th per: 45109.827000003694\n"
     ]
    }
   ],
   "source": [
    "for p in range(1,10):\n",
    "    print(str(99+p/10)+\"th per:\",np.percentile(df_ansFreq['ans_freq'].values, 99+p/10))"
   ]
  },
  {
   "cell_type": "code",
   "execution_count": null,
   "metadata": {
    "colab": {
     "base_uri": "https://localhost:8080/",
     "height": 442
    },
    "executionInfo": {
     "elapsed": 1205,
     "status": "ok",
     "timestamp": 1600883768307,
     "user": {
      "displayName": "Subrata Maji",
      "photoUrl": "https://lh3.googleusercontent.com/a-/AOh14Ghxu8VIGqB6XL51-t5wM_f1R1LdmEePYHIwb9b-=s64",
      "userId": "03124174213573157612"
     },
     "user_tz": -330
    },
    "id": "PYUranAO-ADa",
    "outputId": "51507f8b-a27c-40b0-9feb-ff869fa56fe9"
   },
   "outputs": [
    {
     "data": {
      "text/plain": [
       "[('i', 514519),\n",
       " ('to', 451372),\n",
       " ('the', 394938),\n",
       " ('is', 316389),\n",
       " ('my', 311443),\n",
       " ('a', 292921),\n",
       " ('and', 251604),\n",
       " ('not', 247037),\n",
       " ('for', 200171),\n",
       " ('it', 198068),\n",
       " ('on', 185933),\n",
       " ('you', 184332),\n",
       " ('in', 173243),\n",
       " ('have', 146087),\n",
       " ('of', 137228),\n",
       " ('this', 124790),\n",
       " ('can', 122276),\n",
       " ('me', 117953),\n",
       " ('with', 105877),\n",
       " ('your', 98388),\n",
       " ('do', 94067),\n",
       " ('am', 80685),\n",
       " ('but', 78798),\n",
       " ('from', 78668),\n",
       " ('that', 77509)]"
      ]
     },
     "execution_count": 42,
     "metadata": {
      "tags": []
     },
     "output_type": "execute_result"
    }
   ],
   "source": [
    "qsn_cnt.most_common(25)"
   ]
  },
  {
   "cell_type": "code",
   "execution_count": null,
   "metadata": {
    "colab": {
     "base_uri": "https://localhost:8080/",
     "height": 442
    },
    "executionInfo": {
     "elapsed": 1182,
     "status": "ok",
     "timestamp": 1600883781930,
     "user": {
      "displayName": "Subrata Maji",
      "photoUrl": "https://lh3.googleusercontent.com/a-/AOh14Ghxu8VIGqB6XL51-t5wM_f1R1LdmEePYHIwb9b-=s64",
      "userId": "03124174213573157612"
     },
     "user_tz": -330
    },
    "id": "d9Ric68TG8HK",
    "outputId": "2e41050f-b15a-4baf-a7b0-d20651650127"
   },
   "outputs": [
    {
     "data": {
      "text/plain": [
       "[('you', 621237),\n",
       " ('to', 597628),\n",
       " ('we', 510295),\n",
       " ('the', 439006),\n",
       " ('your', 356104),\n",
       " ('us', 281249),\n",
       " ('for', 280902),\n",
       " ('can', 267453),\n",
       " ('a', 258118),\n",
       " ('this', 246256),\n",
       " ('and', 245939),\n",
       " ('dm', 225208),\n",
       " ('is', 223482),\n",
       " ('are', 218517),\n",
       " ('please', 216798),\n",
       " ('with', 184155),\n",
       " ('i', 183277),\n",
       " ('will', 149856),\n",
       " ('help', 139943),\n",
       " ('hi', 139031),\n",
       " ('have', 135808),\n",
       " ('sorry', 133776),\n",
       " ('our', 126062),\n",
       " ('in', 124412),\n",
       " ('on', 122892)]"
      ]
     },
     "execution_count": 43,
     "metadata": {
      "tags": []
     },
     "output_type": "execute_result"
    }
   ],
   "source": [
    "ans_cnt.most_common(25)"
   ]
  },
  {
   "cell_type": "code",
   "execution_count": null,
   "metadata": {
    "id": "AkXMbzj2AmoI"
   },
   "outputs": [],
   "source": [
    "most_cmn = {k for k,v in qsn_cnt.most_common(50)}"
   ]
  },
  {
   "cell_type": "code",
   "execution_count": null,
   "metadata": {
    "colab": {
     "base_uri": "https://localhost:8080/",
     "height": 51
    },
    "executionInfo": {
     "elapsed": 1318,
     "status": "ok",
     "timestamp": 1599221115255,
     "user": {
      "displayName": "Subrata Maji",
      "photoUrl": "https://lh3.googleusercontent.com/a-/AOh14Ghxu8VIGqB6XL51-t5wM_f1R1LdmEePYHIwb9b-=s64",
      "userId": "03124174213573157612"
     },
     "user_tz": -330
    },
    "id": "-q83ODPBALql",
    "outputId": "5020c0b6-d448-4221-c172-6e3bee04e679"
   },
   "outputs": [
    {
     "name": "stdout",
     "output_type": "stream",
     "text": [
      "[nltk_data] Downloading package stopwords to /root/nltk_data...\n",
      "[nltk_data]   Unzipping corpora/stopwords.zip.\n"
     ]
    }
   ],
   "source": [
    "import nltk\n",
    "nltk.download('stopwords')\n",
    "from nltk.corpus import stopwords\n",
    "stop_words = stopwords.words('english')"
   ]
  },
  {
   "cell_type": "code",
   "execution_count": null,
   "metadata": {
    "colab": {
     "base_uri": "https://localhost:8080/",
     "height": 71
    },
    "executionInfo": {
     "elapsed": 1169,
     "status": "ok",
     "timestamp": 1599221272166,
     "user": {
      "displayName": "Subrata Maji",
      "photoUrl": "https://lh3.googleusercontent.com/a-/AOh14Ghxu8VIGqB6XL51-t5wM_f1R1LdmEePYHIwb9b-=s64",
      "userId": "03124174213573157612"
     },
     "user_tz": -330
    },
    "id": "mWBXcwSKAcBF",
    "outputId": "2cbed0c5-5af3-45d1-efb9-57003398c93f"
   },
   "outputs": [
    {
     "name": "stdout",
     "output_type": "stream",
     "text": [
      "{'have', 'am', 'to', 'at', 'when', 'so', 'up', 'a', 'of', 'can', 'why', 'has', 'be', 'just', 'do', 'was', 'with', 'me', 'my', 'but', 'no', 'all', 'how', 'you', 'the', 'been', 'it', 'in', 'for', 'an', 'what', 'is', 'this', 'not', 'they', 'and', 'that', 'will', 'i', 'are', 'on', 'your', 'now', 'out', 'from'}\n",
      "45\n"
     ]
    }
   ],
   "source": [
    "print(set(stop_words).intersection(most_cmn))\n",
    "print(len(set(stop_words).intersection(most_cmn)))"
   ]
  },
  {
   "cell_type": "markdown",
   "metadata": {
    "id": "GfPJai4aiSPr"
   },
   "source": [
    "1. Looking for most frequent words in questions.\n",
    "2. After looking the words we can see that most of them are stopwords.\n",
    "3. Found that top 25 words are all stopwords and among top 50 most common words total 45 words are stopwords."
   ]
  },
  {
   "cell_type": "code",
   "execution_count": null,
   "metadata": {
    "id": "k-zpKX1yjWZ0"
   },
   "outputs": [],
   "source": []
  }
 ],
 "metadata": {
  "colab": {
   "authorship_tag": "ABX9TyNt3alh3ArlKEoIdlb/IrRJ",
   "collapsed_sections": [],
   "name": "CS2_Cleaning.ipynb",
   "provenance": []
  },
  "kernelspec": {
   "display_name": "Python 3",
   "language": "python",
   "name": "python3"
  },
  "language_info": {
   "codemirror_mode": {
    "name": "ipython",
    "version": 3
   },
   "file_extension": ".py",
   "mimetype": "text/x-python",
   "name": "python",
   "nbconvert_exporter": "python",
   "pygments_lexer": "ipython3",
   "version": "3.7.7"
  },
  "toc": {
   "base_numbering": 1,
   "nav_menu": {},
   "number_sections": true,
   "sideBar": true,
   "skip_h1_title": false,
   "title_cell": "Table of Contents",
   "title_sidebar": "Contents",
   "toc_cell": false,
   "toc_position": {},
   "toc_section_display": true,
   "toc_window_display": false
  }
 },
 "nbformat": 4,
 "nbformat_minor": 1
}
